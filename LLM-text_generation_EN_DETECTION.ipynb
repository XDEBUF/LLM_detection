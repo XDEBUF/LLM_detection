{
 "cells": [
  {
   "cell_type": "code",
   "execution_count": 88,
   "outputs": [],
   "source": [
    "import os.path\n",
    "\n",
    "import pandas as pd\n",
    "import numpy as np\n",
    "from scipy.sparse import coo_matrix\n"
   ],
   "metadata": {
    "collapsed": false,
    "ExecuteTime": {
     "end_time": "2024-02-07T19:01:15.993803974Z",
     "start_time": "2024-02-07T19:01:15.765855716Z"
    }
   },
   "id": "ffd062eef4a11de9"
  },
  {
   "cell_type": "code",
   "execution_count": 89,
   "outputs": [],
   "source": [
    "import spacy"
   ],
   "metadata": {
    "collapsed": false,
    "ExecuteTime": {
     "end_time": "2024-02-07T19:01:17.061132138Z",
     "start_time": "2024-02-07T19:01:16.935988402Z"
    }
   },
   "id": "3d22b057bb4e12fd"
  },
  {
   "cell_type": "code",
   "execution_count": null,
   "outputs": [],
   "source": [
    "df_sample = pd.read_csv('data.csv')"
   ],
   "metadata": {
    "collapsed": false
   },
   "id": "164de35a70c9f9dd"
  },
  {
   "cell_type": "code",
   "execution_count": 90,
   "outputs": [],
   "source": [
    "train=pd.read_csv('train.csv')"
   ],
   "metadata": {
    "collapsed": false,
    "ExecuteTime": {
     "end_time": "2024-02-07T19:01:48.264135500Z",
     "start_time": "2024-02-07T19:01:19.268880448Z"
    }
   },
   "id": "a47430dbad641633"
  },
  {
   "cell_type": "code",
   "execution_count": 91,
   "outputs": [
    {
     "data": {
      "text/plain": "   Unnamed: 0                                               text  target\n0      156512  There is a saying in my home that goes, \"You t...       0\n1      156513  Williams-Sonoma: Strategies and Future Prospec...       0\n2      156514  Shristi, your first two paragraphs are irrelev...       0\n3      156515  Extended Lifespan and Its Great Danger Essay\\n...       0\n4      156516  Imperialism and Nationalism in Middle Eastern ...       0",
      "text/html": "<div>\n<style scoped>\n    .dataframe tbody tr th:only-of-type {\n        vertical-align: middle;\n    }\n\n    .dataframe tbody tr th {\n        vertical-align: top;\n    }\n\n    .dataframe thead th {\n        text-align: right;\n    }\n</style>\n<table border=\"1\" class=\"dataframe\">\n  <thead>\n    <tr style=\"text-align: right;\">\n      <th></th>\n      <th>Unnamed: 0</th>\n      <th>text</th>\n      <th>target</th>\n    </tr>\n  </thead>\n  <tbody>\n    <tr>\n      <th>0</th>\n      <td>156512</td>\n      <td>There is a saying in my home that goes, \"You t...</td>\n      <td>0</td>\n    </tr>\n    <tr>\n      <th>1</th>\n      <td>156513</td>\n      <td>Williams-Sonoma: Strategies and Future Prospec...</td>\n      <td>0</td>\n    </tr>\n    <tr>\n      <th>2</th>\n      <td>156514</td>\n      <td>Shristi, your first two paragraphs are irrelev...</td>\n      <td>0</td>\n    </tr>\n    <tr>\n      <th>3</th>\n      <td>156515</td>\n      <td>Extended Lifespan and Its Great Danger Essay\\n...</td>\n      <td>0</td>\n    </tr>\n    <tr>\n      <th>4</th>\n      <td>156516</td>\n      <td>Imperialism and Nationalism in Middle Eastern ...</td>\n      <td>0</td>\n    </tr>\n  </tbody>\n</table>\n</div>"
     },
     "execution_count": 91,
     "metadata": {},
     "output_type": "execute_result"
    }
   ],
   "source": [
    "train.head()"
   ],
   "metadata": {
    "collapsed": false,
    "ExecuteTime": {
     "end_time": "2024-02-07T19:01:48.306401254Z",
     "start_time": "2024-02-07T19:01:48.275778895Z"
    }
   },
   "id": "fbc7a66cc4ad927e"
  },
  {
   "cell_type": "code",
   "execution_count": 5,
   "outputs": [],
   "source": [
    "df_train_idx2graph=pd.read_csv('train_idx2graph.csv').reset_index(drop=True)"
   ],
   "metadata": {
    "collapsed": false,
    "ExecuteTime": {
     "end_time": "2024-02-03T08:05:49.181169636Z",
     "start_time": "2024-02-03T08:05:45.637442979Z"
    }
   },
   "id": "402e23b99124effd"
  },
  {
   "cell_type": "code",
   "execution_count": 10,
   "outputs": [],
   "source": [
    "df_train_idx2graph=df_train_idx2graph['1']"
   ],
   "metadata": {
    "collapsed": false,
    "ExecuteTime": {
     "end_time": "2024-02-03T08:05:49.315135763Z",
     "start_time": "2024-02-03T08:05:49.312296500Z"
    }
   },
   "id": "2e7ef7dada48e551"
  },
  {
   "cell_type": "code",
   "execution_count": 11,
   "outputs": [
    {
     "data": {
      "text/plain": "0    [[  0   1   1   2   2   2   2   3   4   4   4 ...\n1    [[  0   1   1 ... 952 952 953]\\n [  1   0   2 ...\n2    [[  0   1   1 ... 313 313 314]\\n [  4   2   4 ...\n3    [[   0    0    1 ... 1044 1045 1046]\\n [   2  ...\n4    [[  0   1   2 ... 443 444 445]\\n [  2   2   0 ...\nName: 1, dtype: object"
     },
     "execution_count": 11,
     "metadata": {},
     "output_type": "execute_result"
    }
   ],
   "source": [
    "df_train_idx2graph.head()"
   ],
   "metadata": {
    "collapsed": false,
    "ExecuteTime": {
     "end_time": "2024-02-03T08:05:49.329984995Z",
     "start_time": "2024-02-03T08:05:49.312825262Z"
    }
   },
   "id": "d75f5ca92eb3e5fd"
  },
  {
   "cell_type": "code",
   "execution_count": 12,
   "outputs": [],
   "source": [
    "train_idx2graph=df_train_idx2graph.to_numpy()"
   ],
   "metadata": {
    "collapsed": false,
    "ExecuteTime": {
     "end_time": "2024-02-03T08:05:49.330510724Z",
     "start_time": "2024-02-03T08:05:49.313295676Z"
    }
   },
   "id": "3569951acc443d97"
  },
  {
   "cell_type": "code",
   "execution_count": 13,
   "outputs": [
    {
     "data": {
      "text/plain": "array(['[[  0   1   1   2   2   2   2   3   4   4   4   4   4   5   6   7   7   8\\n    9   9  10  10  10  11  12  13  13  14  15  16  17  17  17  17  17  17\\n   18  18  19  20  20  21  22  23  23  23  24  25  25  25  26  26  27  27\\n   27  28  29  30  31  31  31  31  31  31  32  33  34  35  36  37  38  39\\n   40  40  40  40  40  40  40  41  42  43  43  43  43  44  44  45  46  46\\n   46  47  47  48  49  50  50  50  51  51  52  53  54  54  54  55  56  57\\n   57  57  58  59  59  59  59  59  60  61  62  63  63  64  65  66  67  67\\n   67  67  67  67  67  68  69  70  71  72  72  72  72  72  72  72  73  74\\n   75  75  76  77  77  78  79  80  80  80  80  80  80  80  81  82  82  82\\n   83  84  84  84  84  85  86  86  87  87  87  88  89  90  91  92  92  92\\n   93  94  95  95  95  95  95  96  97  97  97  98  99  99 100 100 101 102\\n  103 103 103 103 103 103 104 104 105 106 106 107 107 108 109 109 110 110\\n  111 112 112 113 114 115 116 116 116 116 117 118 119 119 120 120 121 121\\n  121 121 122 123 124 125 126 126 126 126 127 128 129 129 129 129 129 129\\n  129 129 130 131 132 132 132 133 134 135 136 137 138 138 139 139 139 139\\n  140 141 141 142 143 144 145 146 146 146 146 146 147 148 148 148 149 150\\n  150 151 152 153 154 155 155 155 155 155 155 155 156 157 157 157 157 158\\n  159 159 159 160 160 161 162 162 163 163 164 165 166 167 167 167 167 167\\n  168 169 170 170 171 172 172 172 172 172 173 174 174 174 174 175 176 176\\n  177 177 178 179 180 180 180 181 181 182]\\n [  1   0   2   1   4   9  17   4   2   3   5   6   7   4   4   4   8   7\\n    2  13  11  12  13  10  10   9  10  17  17  17   2  14  15  16  18  21\\n   17  20  20  18  19  17  23  22  25  31  25  23  24  26  25  27  26  28\\n   29  27  27  31  23  30  32  33  34  35  31  31  31  31  40  40  40  40\\n   36  37  38  39  43  51  55  43  43  40  41  42  44  43  46  46  44  45\\n   47  46  50  50  50  47  48  49  40  54  54  54  51  52  53  40  57  56\\n   67 113  67  60  61  63  64  67  59  59  63  59  62  59  67  67  57  58\\n   59  65  66  80  92  80  72  72  72  69  70  71  73  74  75  80  72  72\\n   72  77  77  75  76  80  80  67  68  72  78  79  82  90  82  80  81  84\\n   84  82  83  85  86  84  84  87  86  88  89  87  87  80  92  67  91  95\\n   95  95  92  93  94  97 100  97  95  96  99  99  97  98  95 103 103 103\\n  100 101 102 104 107 110 103 106 106 104 105 103 109 109 107 108 103 112\\n  112 110 111  57 116 116 114 115 121 129 121 119 118 120 119 121 116 117\\n  120 122 121 129 126 126 124 125 127 129 126 129 116 123 126 128 130 132\\n  134 135 129 132 129 131 133 132 129 129 139 138 137 139 136 138 141 142\\n  141 139 140 139 146 146 146 143 144 145 148 155 148 146 147 150 150 148\\n  149 155 155 155 155 146 151 152 153 154 157 182 157 155 156 159 162 159\\n  157 158 160 159 161 160 157 163 162 167 167 167 167 163 164 165 166 172\\n  172 170 169 172 172 167 168 170 171 174 174 172 173 176 177 176 174 175\\n  174 181 180 180 178 179 181 177 180 155]]',\n       '[[  0   1   1 ... 952 952 953]\\n [  1   0   2 ... 951 953 952]]',\n       '[[  0   1   1 ... 313 313 314]\\n [  4   2   4 ... 311 312 299]]',\n       ...,\n       '[[ 0  1  1  1  1  1  1  2  3  3  4  4  5  6  7  8  9 10 11 11 11 11 11 11\\n  12 13 14 15 15 15 15 16 16 17 18 18 19 20 21 21 21 21 22 22 23 24 24 25\\n  26 26 26 27 28 28 29 30 31 32 32 32 32 32 32 33 34 34 35 35 36 37 37 38\\n  39 40 40 40 41 42 43 44 44 44 44 44 45 45 46 47 47 48 49 50 50 50 50 51\\n  52 53 53 54 55 56 57 57 57 57 57 57 58 58 59 59 60 60 61 61 62 63 64 64\\n  64 65]\\n [ 1  0  3  4  6  7 11  3  1  2  1  5  4  1  1 11 11 11  1  8  9 10 12 13\\n  11 11 15 14 16 21 25 15 18 18 16 17 21 21 15 19 20 22 21 24 24 22 23 15\\n  27 28 38 26 26 32 32 32 32 28 29 30 31 33 34 32 32 35 34 37 37 35 36 26\\n  40 39 44 48 44 44 44 40 41 42 43 45 44 47 47 45 46 40 50 49 51 57 65 50\\n  53 52 57 57 57 57 50 53 54 55 56 58 57 59 58 60 59 61 60 64 64 64 61 62\\n  63 50]]',\n       '[[  0   1   1 ... 478 479 480]\\n [  1   0   2 ... 479 478 413]]',\n       '[[  0   1   1   1   1   2   3   3   4   5   5   5   6   7   7   7   8   8\\n    9  10  11  12  12  12  12  12  13  14  14  15  15  16  16  16  17  18\\n   19  19  20  21  22  23  24  24  25  25  25  25  25  26  27  28  29  30\\n   30  30  30  30  30  31  31  32  32  33  34  35  36  36  36  36  37  37\\n   37  38  39  39  40  41  41  42  43  44  45  45  45  46  46  46  46  47\\n   48  49  50  51  52  52  52  52  52  52  53  54  54  55  55  56  57  58\\n   58  58  59  60  60  61  62  62  62  63  64  64  64  64  65  65  66  67\\n   68  68  68  69  70  71  71  72  72  72  73  73  74  74  75  76  76  77\\n   78  79  79  79  79  79  79  80  81  82  82  83  84  84  84  85  86  86\\n   86  87  87  88  88  89  90  90  91  92  93  93  94  95  95  95  95  95\\n   95  96  96  97  98  99 100 101 101 101 101 101 102 103 104 104 104 105\\n  106 107 108 108 109 109 109 109 109 109 109 110 111 112 113 113 114 115\\n  115 115 115 115 116 117 118 119 120 121 122 122 122 122 122 122 123 124\\n  124 125 126 127 128 129 129 129 129 130 130 130 131 131 132 133 133 134\\n  134 135 136 137 137 137 138 139 140 140 140 140 141 141 142 142 143 143\\n  144 145 145 146 147 148 149 150 150 150 150 150 151 152 152 152 153 154\\n  154 154 154 155 156 156 157 158 159 160 160 160 160 160 161 162 162 162\\n  162 163 164 165 166 167 168 168 168 168 169 170 171 172 172 172 172 173\\n  174 174 175 175 176 177 177 177 178 179 179 179 179 180 181 181 182 182\\n  183 184 185 185 185 185 186 186 187 187 188 189 189 190 191 191 191 191\\n  191 191 191 192 193 194 195 196 197 198 199 200 201 201 201 201 201 202\\n  203 203 203 204 204 205 206 207 207 207 208 208 209 210 211 212 212 212\\n  212 212 213 214 215 216 217 217 217 218 219 219 220 221 221 222 223 224\\n  225 225 225 225 225 226 227 227 228 228 229 230]\\n [  1   0   3   5  10   3   1   2   5   1   4   7   7   5   6   8   7   9\\n    8   1  12  11  14  15  19  26  14  12  13  12  16  15  17  18  16  16\\n   12  25  25  25  25  24  23  25  19  20  21  22  24  12  30  30  30  27\\n   28  29  31  34  36  30  32  31  33  32  30  36  30  35  37  42  36  38\\n   39  37  37  41  41  39  40  36  45  45  43  44  46  45  47  48  52  46\\n   46  52  52  52  46  49  50  51  55  56  54  53  55  52  54  52  58  57\\n   60  64  60  58  59  62  61  63  64  62  58  62  65  69  64  68  68  68\\n   65  66  67  64  71  70  72  71  73  77  72  74  73  76  76  74  75  72\\n   79  78  80  81  82  91  95  79  79  79  84  84  82  83  86  86  84  85\\n   87  86  88  87  90  90  88  89  79  93  92  95  95  79  93  94  96 101\\n  105  95  97  96 101 101 101  95  98  99 100 104 104 104 101 102 103  95\\n  109 108 107 109 106 108 110 115 117 118 119 109 115 113 112 115 115 109\\n  111 113 114 116 115 109 109 109 122 122 120 121 124 125 126 127 124 122\\n  123 122 122 122 129 128 130 138 140 129 131 134 130 133 133 131 132 130\\n  137 137 137 134 135 136 129 140 129 139 141 146 140 142 141 143 142 145\\n  145 143 144 140 150 150 150 147 148 149 152 160 152 150 151 154 154 152\\n  153 156 157 156 154 155 154 160 160 150 158 159 162 165 162 160 161 163\\n  164 162 162 160 168 168 166 167 169 170 168 168 172 171 174 175 190 174\\n  172 173 172 177 177 175 176 179 179 177 178 181 182 181 179 180 179 185\\n  185 185 182 183 184 186 185 187 186 189 189 187 188 172 192 193 194 195\\n  196 197 198 191 191 191 191 191 191 191 201 201 199 200 202 203 214 201\\n  201 204 207 203 205 204 207 203 206 208 207 212 212 212 212 208 209 210\\n  211 213 212 201 217 217 215 216 218 217 221 222 221 219 220 219 225 225\\n  223 224 226 227 230 225 225 228 227 229 228 225]]'],\n      dtype=object)"
     },
     "execution_count": 13,
     "metadata": {},
     "output_type": "execute_result"
    }
   ],
   "source": [
    "train_idx2graph"
   ],
   "metadata": {
    "collapsed": false,
    "ExecuteTime": {
     "end_time": "2024-02-03T08:05:49.461726410Z",
     "start_time": "2024-02-03T08:05:49.355869979Z"
    }
   },
   "id": "4bc28a6599005ea5"
  },
  {
   "cell_type": "markdown",
   "source": [
    "# balanced train and test data in each df"
   ],
   "metadata": {
    "collapsed": false
   },
   "id": "417bd8b9f4ebecb5"
  },
  {
   "cell_type": "code",
   "execution_count": 43,
   "outputs": [
    {
     "ename": "NameError",
     "evalue": "name 'df_sample' is not defined",
     "output_type": "error",
     "traceback": [
      "\u001B[0;31m---------------------------------------------------------------------------\u001B[0m",
      "\u001B[0;31mNameError\u001B[0m                                 Traceback (most recent call last)",
      "Cell \u001B[0;32mIn[43], line 2\u001B[0m\n\u001B[1;32m      1\u001B[0m ratio\u001B[38;5;241m=\u001B[39m\u001B[38;5;241m0.8\u001B[39m\n\u001B[0;32m----> 2\u001B[0m df_human\u001B[38;5;241m=\u001B[39m df_sample[df_sample[\u001B[38;5;124m'\u001B[39m\u001B[38;5;124msource\u001B[39m\u001B[38;5;124m'\u001B[39m]\u001B[38;5;241m==\u001B[39m\u001B[38;5;124m'\u001B[39m\u001B[38;5;124mHuman\u001B[39m\u001B[38;5;124m'\u001B[39m]\n\u001B[1;32m      3\u001B[0m df_llm \u001B[38;5;241m=\u001B[39m df_sample[df_sample[\u001B[38;5;124m'\u001B[39m\u001B[38;5;124msource\u001B[39m\u001B[38;5;124m'\u001B[39m]\u001B[38;5;241m!=\u001B[39m\u001B[38;5;124m'\u001B[39m\u001B[38;5;124mHuman\u001B[39m\u001B[38;5;124m'\u001B[39m]\n\u001B[1;32m      4\u001B[0m df_llm\u001B[38;5;241m.\u001B[39msource\u001B[38;5;241m=\u001B[39m\u001B[38;5;124m'\u001B[39m\u001B[38;5;124mLLM\u001B[39m\u001B[38;5;124m'\u001B[39m\n",
      "\u001B[0;31mNameError\u001B[0m: name 'df_sample' is not defined"
     ]
    }
   ],
   "source": [
    "ratio=0.8\n",
    "df_human= df_sample[df_sample['source']=='Human']\n",
    "df_llm = df_sample[df_sample['source']!='Human']\n",
    "df_llm.source='LLM'\n",
    "cut_idx_l=int(np.ceil(len(df_llm)*ratio))\n",
    "cut_idx_h=int(np.ceil(len(df_human)*ratio))\n",
    "df_train_human = df_human[:cut_idx_h]\n",
    "df_test_human = df_human[cut_idx_h:]\n",
    "df_train_llm = df_llm[:cut_idx_l]\n",
    "df_test_llm = df_llm[cut_idx_l:]\n",
    "df_train=pd.concat([df_train_human,df_train_llm])\n",
    "df_test=pd.concat([df_test_human,df_test_llm])"
   ],
   "metadata": {
    "collapsed": false,
    "ExecuteTime": {
     "end_time": "2024-01-31T12:22:50.910078205Z",
     "start_time": "2024-01-31T12:22:50.696385798Z"
    }
   },
   "id": "ffe2703229275115"
  },
  {
   "cell_type": "code",
   "execution_count": 44,
   "outputs": [
    {
     "ename": "NameError",
     "evalue": "name 'df_train' is not defined",
     "output_type": "error",
     "traceback": [
      "\u001B[0;31m---------------------------------------------------------------------------\u001B[0m",
      "\u001B[0;31mNameError\u001B[0m                                 Traceback (most recent call last)",
      "Cell \u001B[0;32mIn[44], line 1\u001B[0m\n\u001B[0;32m----> 1\u001B[0m df_train\u001B[38;5;241m.\u001B[39msource\u001B[38;5;241m.\u001B[39mvalue_counts()\n",
      "\u001B[0;31mNameError\u001B[0m: name 'df_train' is not defined"
     ]
    }
   ],
   "source": [
    "df_train.source.value_counts()\n"
   ],
   "metadata": {
    "collapsed": false,
    "ExecuteTime": {
     "end_time": "2024-01-31T12:22:52.422164451Z",
     "start_time": "2024-01-31T12:22:52.271519925Z"
    }
   },
   "id": "b51a27f90831d2c7"
  },
  {
   "cell_type": "code",
   "execution_count": 45,
   "outputs": [
    {
     "ename": "NameError",
     "evalue": "name 'df_test' is not defined",
     "output_type": "error",
     "traceback": [
      "\u001B[0;31m---------------------------------------------------------------------------\u001B[0m",
      "\u001B[0;31mNameError\u001B[0m                                 Traceback (most recent call last)",
      "Cell \u001B[0;32mIn[45], line 1\u001B[0m\n\u001B[0;32m----> 1\u001B[0m df_test\u001B[38;5;241m.\u001B[39msource\u001B[38;5;241m.\u001B[39mvalue_counts()\n",
      "\u001B[0;31mNameError\u001B[0m: name 'df_test' is not defined"
     ]
    }
   ],
   "source": [
    "\n",
    "df_test.source.value_counts()"
   ],
   "metadata": {
    "collapsed": false,
    "ExecuteTime": {
     "end_time": "2024-01-31T12:22:53.751355312Z",
     "start_time": "2024-01-31T12:22:53.595737613Z"
    }
   },
   "id": "bc9db0f6a23f44f1"
  },
  {
   "cell_type": "code",
   "execution_count": 8,
   "outputs": [
    {
     "data": {
      "text/plain": "                                                     text source  prompt_id  \\\n156512  There is a saying in my home that goes, \"You t...  Human          0   \n156513  Williams-Sonoma: Strategies and Future Prospec...  Human          0   \n156514  Shristi, your first two paragraphs are irrelev...  Human          0   \n156515  Extended Lifespan and Its Great Danger Essay\\n...  Human          0   \n156516  Imperialism and Nationalism in Middle Eastern ...  Human          0   \n156517  The Power of Free Speech Essay\\n\\nTable of Con...  Human          0   \n156518  Accounting and Auditing Practices Essay (Artic...  Human          0   \n156519  Civil War Effect on Medicine and Public Health...  Human          0   \n156520  Simple Stimulus Learning: Habituation and Perc...  Human          0   \n156521  Core Ethical Values of a Lawyer Essay\\n\\nTable...  Human          0   \n\n        text_length  word_count  \n156512         1524         268  \n156513         5985         904  \n156514         1124         187  \n156515         7578        1261  \n156516         9350        1441  \n156517         8629        1408  \n156518         4103         649  \n156519         2455         383  \n156520         8773        1315  \n156521         5500         857  ",
      "text/html": "<div>\n<style scoped>\n    .dataframe tbody tr th:only-of-type {\n        vertical-align: middle;\n    }\n\n    .dataframe tbody tr th {\n        vertical-align: top;\n    }\n\n    .dataframe thead th {\n        text-align: right;\n    }\n</style>\n<table border=\"1\" class=\"dataframe\">\n  <thead>\n    <tr style=\"text-align: right;\">\n      <th></th>\n      <th>text</th>\n      <th>source</th>\n      <th>prompt_id</th>\n      <th>text_length</th>\n      <th>word_count</th>\n    </tr>\n  </thead>\n  <tbody>\n    <tr>\n      <th>156512</th>\n      <td>There is a saying in my home that goes, \"You t...</td>\n      <td>Human</td>\n      <td>0</td>\n      <td>1524</td>\n      <td>268</td>\n    </tr>\n    <tr>\n      <th>156513</th>\n      <td>Williams-Sonoma: Strategies and Future Prospec...</td>\n      <td>Human</td>\n      <td>0</td>\n      <td>5985</td>\n      <td>904</td>\n    </tr>\n    <tr>\n      <th>156514</th>\n      <td>Shristi, your first two paragraphs are irrelev...</td>\n      <td>Human</td>\n      <td>0</td>\n      <td>1124</td>\n      <td>187</td>\n    </tr>\n    <tr>\n      <th>156515</th>\n      <td>Extended Lifespan and Its Great Danger Essay\\n...</td>\n      <td>Human</td>\n      <td>0</td>\n      <td>7578</td>\n      <td>1261</td>\n    </tr>\n    <tr>\n      <th>156516</th>\n      <td>Imperialism and Nationalism in Middle Eastern ...</td>\n      <td>Human</td>\n      <td>0</td>\n      <td>9350</td>\n      <td>1441</td>\n    </tr>\n    <tr>\n      <th>156517</th>\n      <td>The Power of Free Speech Essay\\n\\nTable of Con...</td>\n      <td>Human</td>\n      <td>0</td>\n      <td>8629</td>\n      <td>1408</td>\n    </tr>\n    <tr>\n      <th>156518</th>\n      <td>Accounting and Auditing Practices Essay (Artic...</td>\n      <td>Human</td>\n      <td>0</td>\n      <td>4103</td>\n      <td>649</td>\n    </tr>\n    <tr>\n      <th>156519</th>\n      <td>Civil War Effect on Medicine and Public Health...</td>\n      <td>Human</td>\n      <td>0</td>\n      <td>2455</td>\n      <td>383</td>\n    </tr>\n    <tr>\n      <th>156520</th>\n      <td>Simple Stimulus Learning: Habituation and Perc...</td>\n      <td>Human</td>\n      <td>0</td>\n      <td>8773</td>\n      <td>1315</td>\n    </tr>\n    <tr>\n      <th>156521</th>\n      <td>Core Ethical Values of a Lawyer Essay\\n\\nTable...</td>\n      <td>Human</td>\n      <td>0</td>\n      <td>5500</td>\n      <td>857</td>\n    </tr>\n  </tbody>\n</table>\n</div>"
     },
     "execution_count": 8,
     "metadata": {},
     "output_type": "execute_result"
    }
   ],
   "source": [
    "df_train.head(10)"
   ],
   "metadata": {
    "collapsed": false,
    "ExecuteTime": {
     "end_time": "2024-01-31T12:09:33.721848020Z",
     "start_time": "2024-01-31T12:09:33.511558842Z"
    }
   },
   "id": "8ba60a3a667ba0ec"
  },
  {
   "cell_type": "code",
   "execution_count": 9,
   "outputs": [
    {
     "data": {
      "text/plain": "(631138, 5)"
     },
     "execution_count": 9,
     "metadata": {},
     "output_type": "execute_result"
    }
   ],
   "source": [
    "df_train.shape"
   ],
   "metadata": {
    "collapsed": false,
    "ExecuteTime": {
     "end_time": "2024-01-31T12:09:33.761997205Z",
     "start_time": "2024-01-31T12:09:33.575479915Z"
    }
   },
   "id": "e00a54266e786957"
  },
  {
   "cell_type": "code",
   "execution_count": null,
   "outputs": [],
   "source": [
    "train"
   ],
   "metadata": {
    "collapsed": false
   },
   "id": "e7659a7ee7c6eeae"
  },
  {
   "cell_type": "code",
   "execution_count": 10,
   "outputs": [
    {
     "data": {
      "text/plain": "text           0\nsource         0\nprompt_id      0\ntext_length    0\nword_count     0\ndtype: int64"
     },
     "execution_count": 10,
     "metadata": {},
     "output_type": "execute_result"
    }
   ],
   "source": [
    "df_train.isna().sum()"
   ],
   "metadata": {
    "collapsed": false,
    "ExecuteTime": {
     "end_time": "2024-01-31T12:09:33.802913456Z",
     "start_time": "2024-01-31T12:09:33.576565639Z"
    }
   },
   "id": "a0e7cda1ba98ec74"
  },
  {
   "cell_type": "code",
   "execution_count": 11,
   "outputs": [
    {
     "data": {
      "text/plain": "(157784, 5)"
     },
     "execution_count": 11,
     "metadata": {},
     "output_type": "execute_result"
    }
   ],
   "source": [
    "df_test.shape"
   ],
   "metadata": {
    "collapsed": false,
    "ExecuteTime": {
     "end_time": "2024-01-31T12:09:33.803825325Z",
     "start_time": "2024-01-31T12:09:33.691736601Z"
    }
   },
   "id": "8cfa5fb19b65016d"
  },
  {
   "cell_type": "code",
   "execution_count": 12,
   "outputs": [
    {
     "data": {
      "text/plain": "text           0\nsource         0\nprompt_id      0\ntext_length    0\nword_count     0\ndtype: int64"
     },
     "execution_count": 12,
     "metadata": {},
     "output_type": "execute_result"
    }
   ],
   "source": [
    "df_test.isna().sum()"
   ],
   "metadata": {
    "collapsed": false,
    "ExecuteTime": {
     "end_time": "2024-01-31T12:09:33.854921954Z",
     "start_time": "2024-01-31T12:09:33.699423616Z"
    }
   },
   "id": "e63c4c62d7ad899e"
  },
  {
   "cell_type": "code",
   "execution_count": 92,
   "outputs": [
    {
     "name": "stdout",
     "output_type": "stream",
     "text": [
      "/bin/bash: warning: setlocale: LC_ALL: cannot change locale (en_US.UTF-8)\r\n",
      "Collecting en-core-web-lg==3.7.1\r\n",
      "  Downloading https://github.com/explosion/spacy-models/releases/download/en_core_web_lg-3.7.1/en_core_web_lg-3.7.1-py3-none-any.whl (587.7 MB)\r\n",
      "\u001B[2K     \u001B[90m━━━━━━━━━━━━━━━━━━━━━━━━━━━━━━━━━━━━━━━\u001B[0m \u001B[32m587.7/587.7 MB\u001B[0m \u001B[31m2.5 MB/s\u001B[0m eta \u001B[36m0:00:00\u001B[0m00:01\u001B[0m00:01\u001B[0m\r\n",
      "\u001B[?25hRequirement already satisfied: spacy<3.8.0,>=3.7.2 in /home/blackswan/anaconda3/lib/python3.11/site-packages (from en-core-web-lg==3.7.1) (3.7.2)\r\n",
      "Requirement already satisfied: spacy-legacy<3.1.0,>=3.0.11 in /home/blackswan/anaconda3/lib/python3.11/site-packages (from spacy<3.8.0,>=3.7.2->en-core-web-lg==3.7.1) (3.0.12)\r\n",
      "Requirement already satisfied: spacy-loggers<2.0.0,>=1.0.0 in /home/blackswan/anaconda3/lib/python3.11/site-packages (from spacy<3.8.0,>=3.7.2->en-core-web-lg==3.7.1) (1.0.4)\r\n",
      "Requirement already satisfied: murmurhash<1.1.0,>=0.28.0 in /home/blackswan/anaconda3/lib/python3.11/site-packages (from spacy<3.8.0,>=3.7.2->en-core-web-lg==3.7.1) (1.0.7)\r\n",
      "Requirement already satisfied: cymem<2.1.0,>=2.0.2 in /home/blackswan/anaconda3/lib/python3.11/site-packages (from spacy<3.8.0,>=3.7.2->en-core-web-lg==3.7.1) (2.0.6)\r\n",
      "Requirement already satisfied: preshed<3.1.0,>=3.0.2 in /home/blackswan/anaconda3/lib/python3.11/site-packages (from spacy<3.8.0,>=3.7.2->en-core-web-lg==3.7.1) (3.0.6)\r\n",
      "Requirement already satisfied: thinc<8.3.0,>=8.1.8 in /home/blackswan/anaconda3/lib/python3.11/site-packages (from spacy<3.8.0,>=3.7.2->en-core-web-lg==3.7.1) (8.2.2)\r\n",
      "Requirement already satisfied: wasabi<1.2.0,>=0.9.1 in /home/blackswan/anaconda3/lib/python3.11/site-packages (from spacy<3.8.0,>=3.7.2->en-core-web-lg==3.7.1) (0.9.1)\r\n",
      "Requirement already satisfied: srsly<3.0.0,>=2.4.3 in /home/blackswan/anaconda3/lib/python3.11/site-packages (from spacy<3.8.0,>=3.7.2->en-core-web-lg==3.7.1) (2.4.8)\r\n",
      "Requirement already satisfied: catalogue<2.1.0,>=2.0.6 in /home/blackswan/anaconda3/lib/python3.11/site-packages (from spacy<3.8.0,>=3.7.2->en-core-web-lg==3.7.1) (2.0.10)\r\n",
      "Requirement already satisfied: weasel<0.4.0,>=0.1.0 in /home/blackswan/anaconda3/lib/python3.11/site-packages (from spacy<3.8.0,>=3.7.2->en-core-web-lg==3.7.1) (0.3.4)\r\n",
      "Requirement already satisfied: typer<0.10.0,>=0.3.0 in /home/blackswan/anaconda3/lib/python3.11/site-packages (from spacy<3.8.0,>=3.7.2->en-core-web-lg==3.7.1) (0.9.0)\r\n",
      "Requirement already satisfied: smart-open<7.0.0,>=5.2.1 in /home/blackswan/anaconda3/lib/python3.11/site-packages (from spacy<3.8.0,>=3.7.2->en-core-web-lg==3.7.1) (5.2.1)\r\n",
      "Requirement already satisfied: tqdm<5.0.0,>=4.38.0 in /home/blackswan/anaconda3/lib/python3.11/site-packages (from spacy<3.8.0,>=3.7.2->en-core-web-lg==3.7.1) (4.65.0)\r\n",
      "Requirement already satisfied: requests<3.0.0,>=2.13.0 in /home/blackswan/anaconda3/lib/python3.11/site-packages (from spacy<3.8.0,>=3.7.2->en-core-web-lg==3.7.1) (2.31.0)\r\n",
      "Requirement already satisfied: pydantic!=1.8,!=1.8.1,<3.0.0,>=1.7.4 in /home/blackswan/anaconda3/lib/python3.11/site-packages (from spacy<3.8.0,>=3.7.2->en-core-web-lg==3.7.1) (1.10.8)\r\n",
      "Requirement already satisfied: jinja2 in /home/blackswan/anaconda3/lib/python3.11/site-packages (from spacy<3.8.0,>=3.7.2->en-core-web-lg==3.7.1) (3.1.2)\r\n",
      "Requirement already satisfied: setuptools in /home/blackswan/anaconda3/lib/python3.11/site-packages (from spacy<3.8.0,>=3.7.2->en-core-web-lg==3.7.1) (68.0.0)\r\n",
      "Requirement already satisfied: packaging>=20.0 in /home/blackswan/anaconda3/lib/python3.11/site-packages (from spacy<3.8.0,>=3.7.2->en-core-web-lg==3.7.1) (23.1)\r\n",
      "Requirement already satisfied: langcodes<4.0.0,>=3.2.0 in /home/blackswan/anaconda3/lib/python3.11/site-packages (from spacy<3.8.0,>=3.7.2->en-core-web-lg==3.7.1) (3.3.0)\r\n",
      "Requirement already satisfied: numpy>=1.19.0 in /home/blackswan/anaconda3/lib/python3.11/site-packages (from spacy<3.8.0,>=3.7.2->en-core-web-lg==3.7.1) (1.23.5)\r\n",
      "Requirement already satisfied: typing-extensions>=4.2.0 in /home/blackswan/anaconda3/lib/python3.11/site-packages (from pydantic!=1.8,!=1.8.1,<3.0.0,>=1.7.4->spacy<3.8.0,>=3.7.2->en-core-web-lg==3.7.1) (4.7.1)\r\n",
      "Requirement already satisfied: charset-normalizer<4,>=2 in /home/blackswan/anaconda3/lib/python3.11/site-packages (from requests<3.0.0,>=2.13.0->spacy<3.8.0,>=3.7.2->en-core-web-lg==3.7.1) (2.0.4)\r\n",
      "Requirement already satisfied: idna<4,>=2.5 in /home/blackswan/anaconda3/lib/python3.11/site-packages (from requests<3.0.0,>=2.13.0->spacy<3.8.0,>=3.7.2->en-core-web-lg==3.7.1) (3.4)\r\n",
      "Requirement already satisfied: urllib3<3,>=1.21.1 in /home/blackswan/anaconda3/lib/python3.11/site-packages (from requests<3.0.0,>=2.13.0->spacy<3.8.0,>=3.7.2->en-core-web-lg==3.7.1) (1.26.16)\r\n",
      "Requirement already satisfied: certifi>=2017.4.17 in /home/blackswan/anaconda3/lib/python3.11/site-packages (from requests<3.0.0,>=2.13.0->spacy<3.8.0,>=3.7.2->en-core-web-lg==3.7.1) (2023.11.17)\r\n",
      "Requirement already satisfied: blis<0.8.0,>=0.7.8 in /home/blackswan/anaconda3/lib/python3.11/site-packages (from thinc<8.3.0,>=8.1.8->spacy<3.8.0,>=3.7.2->en-core-web-lg==3.7.1) (0.7.9)\r\n",
      "Requirement already satisfied: confection<1.0.0,>=0.0.1 in /home/blackswan/anaconda3/lib/python3.11/site-packages (from thinc<8.3.0,>=8.1.8->spacy<3.8.0,>=3.7.2->en-core-web-lg==3.7.1) (0.1.4)\r\n",
      "Requirement already satisfied: click<9.0.0,>=7.1.1 in /home/blackswan/anaconda3/lib/python3.11/site-packages (from typer<0.10.0,>=0.3.0->spacy<3.8.0,>=3.7.2->en-core-web-lg==3.7.1) (8.0.4)\r\n",
      "Requirement already satisfied: cloudpathlib<0.17.0,>=0.7.0 in /home/blackswan/anaconda3/lib/python3.11/site-packages (from weasel<0.4.0,>=0.1.0->spacy<3.8.0,>=3.7.2->en-core-web-lg==3.7.1) (0.16.0)\r\n",
      "Requirement already satisfied: MarkupSafe>=2.0 in /home/blackswan/anaconda3/lib/python3.11/site-packages (from jinja2->spacy<3.8.0,>=3.7.2->en-core-web-lg==3.7.1) (2.1.1)\r\n",
      "\u001B[38;5;2m✔ Download and installation successful\u001B[0m\r\n",
      "You can now load the package via spacy.load('en_core_web_lg')\r\n"
     ]
    }
   ],
   "source": [
    "!python3 -m spacy download en_core_web_lg"
   ],
   "metadata": {
    "collapsed": false,
    "ExecuteTime": {
     "end_time": "2024-02-07T19:02:25.010579129Z",
     "start_time": "2024-02-07T19:01:48.276421283Z"
    }
   },
   "id": "50385279daf10a02"
  },
  {
   "cell_type": "code",
   "execution_count": 93,
   "outputs": [],
   "source": [
    "df_train=train"
   ],
   "metadata": {
    "collapsed": false,
    "ExecuteTime": {
     "end_time": "2024-02-07T19:02:25.240753174Z",
     "start_time": "2024-02-07T19:02:25.148874776Z"
    }
   },
   "id": "5d5075581606bc2a"
  },
  {
   "cell_type": "code",
   "execution_count": 48,
   "outputs": [],
   "source": [
    "nlp = spacy.load(\"en_core_web_lg\")\n",
    "doc = nlp(\"Apple shares rose on the news. Apple pie is delicious.\").vector"
   ],
   "metadata": {
    "collapsed": false,
    "ExecuteTime": {
     "end_time": "2024-01-31T12:24:46.449986332Z",
     "start_time": "2024-01-31T12:24:43.278490281Z"
    }
   },
   "id": "33049769ae0e6e97"
  },
  {
   "cell_type": "code",
   "execution_count": 49,
   "outputs": [
    {
     "data": {
      "text/plain": "array([-1.18700646e-01, -1.41039336e+00, -2.14910340e+00,  8.83527994e-01,\n        5.56492472e+00, -9.87121642e-01, -1.14053094e+00,  4.43576670e+00,\n       -3.72914225e-01, -1.41204226e+00,  4.56952858e+00,  4.27760839e-01,\n       -2.31775141e+00,  6.92854226e-01,  1.15528846e+00,  2.31034160e+00,\n        2.57655549e+00, -6.75784111e-01,  1.13154316e+00, -2.44445491e+00,\n        1.47608435e+00, -1.68519959e-01, -7.40572512e-01, -1.11758280e+00,\n       -3.36654162e+00, -7.73094893e-01, -1.00135839e+00, -1.16324246e+00,\n       -7.35800922e-01,  1.05197847e+00, -3.64668399e-01, -1.64117500e-01,\n       -3.30009460e+00, -3.08980751e+00, -1.81026840e+00,  5.23460805e-01,\n       -1.47361326e+00,  3.91166568e+00,  1.94414079e+00,  1.41275465e+00,\n        9.01624143e-01,  2.62060571e+00, -1.04173517e-03, -9.47884858e-01,\n        3.97454977e-01,  1.39844847e+00,  2.00074172e+00, -1.80079424e+00,\n        8.34936619e-01,  9.27045763e-01, -7.79365063e-01,  1.24467003e+00,\n       -1.04951508e-01, -4.03386641e+00,  5.83676696e-01,  4.07089114e-01,\n       -4.05124158e-01,  6.94060028e-01, -1.06562543e+00,  2.17943406e+00,\n        1.34901667e+00,  8.20858240e-01,  1.37552392e+00, -3.71830821e-01,\n        5.49558342e-01,  7.40565836e-01, -2.24515009e+00, -1.95358896e+00,\n        1.26103914e+00,  7.85405159e-01, -3.19169164e+00, -9.72279251e-01,\n       -4.72669983e+00, -6.09331667e-01,  5.14607549e-01,  1.16763973e+00,\n       -1.81991184e+00,  2.02919200e-01, -8.20809186e-01, -1.36248350e-01,\n       -1.34785998e+00, -1.16901314e+00,  1.05073571e-01,  1.83035538e-01,\n        1.69904506e+00,  8.80492389e-01,  2.22917438e+00, -2.31674150e-01,\n       -6.82343185e-01, -1.39106417e+00, -2.05942082e+00,  4.07692522e-01,\n       -1.71111241e-01, -3.08088493e+00, -2.59339124e-01, -2.07542992e+00,\n        2.03840995e+00, -3.01185322e+00,  1.22644997e+00, -1.70148814e+00,\n        1.18001592e+00, -7.37812102e-01,  2.98813653e+00,  1.63027513e+00,\n        1.23633838e+00,  3.46494985e+00, -8.30117464e-01,  8.46681654e-01,\n       -4.95027393e-01, -2.10271382e+00,  3.35914999e-01,  1.08661485e+00,\n       -1.44227231e+00, -1.14998594e-03,  2.37536645e+00,  1.32605001e-01,\n       -1.20494962e-01, -2.20827699e+00, -1.30371940e+00, -8.83465946e-01,\n       -7.60732472e-01, -1.90090179e+00,  2.25859594e+00,  9.86142635e-01,\n        2.12503299e-01, -2.70247340e+00,  1.88279307e+00, -2.02632165e+00,\n        2.63205194e+00, -1.71384251e+00, -1.88292348e+00,  3.97233337e-01,\n        4.03920317e+00, -1.02173507e+00, -1.63782075e-01,  1.79220498e+00,\n       -1.87628448e+00, -2.92802024e+00,  2.40667534e+00, -2.69538331e+00,\n       -6.53122485e-01, -2.49934182e-01, -8.49358365e-02,  1.34795082e+00,\n        4.34553295e-01,  1.44959259e+00, -3.12836671e+00,  9.76959765e-01,\n       -4.71774936e-02,  1.62865746e+00, -1.17070591e+00,  2.21900964e+00,\n        1.12856996e+00,  1.79819870e+00, -7.27369070e-01,  1.45370829e+00,\n        2.90205097e+00,  1.47067678e+00, -1.64880002e+00,  1.03538640e-01,\n        1.42856753e+00, -3.04015756e+00, -3.79456669e-01,  3.65336746e-01,\n       -3.51702523e+00, -1.00102317e+00, -1.96671355e+00,  3.05438137e+00,\n        8.80244792e-01,  2.42583361e-02, -7.13638246e-01, -2.04693675e+00,\n        1.26643956e+00, -1.64886281e-01, -1.18434989e+00,  1.91151425e-01,\n       -1.22289598e+00,  1.13706243e+00, -1.49591699e-01, -2.11158252e+00,\n       -5.99793434e-01,  2.33054042e+00,  1.09355938e+00,  3.05355042e-01,\n       -1.41592753e+00, -1.92864180e-01, -5.82340002e-01, -9.84386027e-01,\n        1.81555569e+00,  7.16437519e-01,  2.12033510e-01, -1.93555498e+00,\n       -4.64621693e-01, -1.69384754e+00,  8.35949183e-01, -1.63462484e+00,\n       -1.51919997e+00,  9.64300811e-01,  1.21696174e+00,  1.29709840e+00,\n       -5.52863598e-01, -1.58176935e+00,  1.00419186e-01, -4.33142376e+00,\n        2.23316979e+00,  1.20329249e+00, -4.38682842e+00,  3.17877460e+00,\n        4.46335882e-01, -1.13532150e+00,  2.47855973e+00, -3.33535790e-01,\n       -2.42504263e+00,  1.15777743e+00,  3.04067802e+00, -5.66462517e-01,\n        3.09777468e-01, -2.18970752e+00,  8.11491981e-02, -2.70803392e-01,\n        1.10022545e-01, -7.85760105e-01,  1.84641983e-02, -1.11871660e+00,\n       -7.71950781e-01, -9.02683318e-01,  9.61236179e-01,  1.54354823e+00,\n        1.07103050e+00,  1.20040841e-01,  1.53207934e+00, -3.87239242e+00,\n        1.73567519e-01,  1.79035604e+00, -7.65402615e-01,  3.01852918e+00,\n       -1.96838748e+00,  2.19285989e+00,  1.29488575e+00,  1.18829751e+00,\n       -1.07526827e+00, -2.01142669e+00,  9.79630053e-01,  5.68416528e-02,\n       -1.24056339e+00,  1.13695419e+00, -1.53028965e+00,  1.05279177e-01,\n       -1.43700492e+00,  6.52398348e-01, -2.17196488e+00, -1.25161088e+00,\n       -3.41784668e+00, -1.48194551e+00,  9.47370708e-01, -1.54878747e+00,\n        2.34788895e+00,  5.92197478e-01,  3.97533327e-01,  7.50247478e-01,\n       -1.30695120e-01,  5.34040594e+00,  1.68706524e+00,  2.22342229e+00,\n        1.98340166e+00, -4.99594122e-01, -1.67299926e+00,  1.43761837e+00,\n       -2.72800088e+00,  1.70937523e-01,  6.27313197e-01, -3.29280764e-01,\n        5.11275828e-01, -2.23759246e+00, -1.23533309e-02, -2.04431558e+00,\n        1.70093489e+00, -7.24595726e-01,  1.41926336e+00,  2.39449906e+00,\n        3.34605312e+00,  1.73688307e-01, -1.99673593e+00,  1.51017702e+00,\n        1.90074503e+00,  2.82934219e-01, -1.79314494e-01, -5.06724901e-02,\n       -7.54899204e-01,  2.34580159e+00,  5.88815033e-01, -1.86129138e-01,\n        5.95500087e-03, -1.54569829e+00, -1.48589504e+00,  6.10773385e-01,\n        2.17768002e+00, -4.93476003e-01, -1.14774585e+00,  1.92935094e-01],\n      dtype=float32)"
     },
     "execution_count": 49,
     "metadata": {},
     "output_type": "execute_result"
    }
   ],
   "source": [
    "doc"
   ],
   "metadata": {
    "collapsed": false,
    "ExecuteTime": {
     "end_time": "2024-01-31T12:24:46.468081018Z",
     "start_time": "2024-01-31T12:24:46.455654433Z"
    }
   },
   "id": "e4ee17862bbdecf6"
  },
  {
   "cell_type": "markdown",
   "source": [
    "### do not forget to define labels vector"
   ],
   "metadata": {
    "collapsed": false
   },
   "id": "21cf76eb10b1e74a"
  },
  {
   "cell_type": "code",
   "execution_count": 10,
   "outputs": [],
   "source": [
    "from sklearn.preprocessing import LabelEncoder"
   ],
   "metadata": {
    "collapsed": false,
    "ExecuteTime": {
     "end_time": "2024-01-31T14:32:45.433570853Z",
     "start_time": "2024-01-31T14:32:42.375005452Z"
    }
   },
   "id": "d82096068065bd4a"
  },
  {
   "cell_type": "code",
   "execution_count": 17,
   "outputs": [
    {
     "data": {
      "text/plain": "target\n1    352984\n0    278154\nName: count, dtype: int64"
     },
     "execution_count": 17,
     "metadata": {},
     "output_type": "execute_result"
    }
   ],
   "source": [
    "le = LabelEncoder()\n",
    "df_train['target']=le.fit_transform(df_train['source'])\n",
    "df_train.target.value_counts()"
   ],
   "metadata": {
    "collapsed": false,
    "ExecuteTime": {
     "end_time": "2024-01-31T12:10:18.519362654Z",
     "start_time": "2024-01-31T12:10:18.205920788Z"
    }
   },
   "id": "8b48d369f99a715"
  },
  {
   "cell_type": "code",
   "execution_count": 18,
   "outputs": [
    {
     "data": {
      "text/plain": "target\n1    88246\n0    69538\nName: count, dtype: int64"
     },
     "execution_count": 18,
     "metadata": {},
     "output_type": "execute_result"
    }
   ],
   "source": [
    "df_test['target']=le.transform(df_test['source'])\n",
    "df_test.target.value_counts()"
   ],
   "metadata": {
    "collapsed": false,
    "ExecuteTime": {
     "end_time": "2024-01-31T12:10:18.706093115Z",
     "start_time": "2024-01-31T12:10:18.522701283Z"
    }
   },
   "id": "91bb2b42ea9c0028"
  },
  {
   "cell_type": "code",
   "execution_count": 19,
   "outputs": [],
   "source": [
    "df_train=df_train.drop('source', axis=1)\n",
    "df_test=df_test.drop('source',axis=1)"
   ],
   "metadata": {
    "collapsed": false,
    "ExecuteTime": {
     "end_time": "2024-01-31T12:10:20.018923277Z",
     "start_time": "2024-01-31T12:10:18.609504801Z"
    }
   },
   "id": "5619c269aea0fddb"
  },
  {
   "cell_type": "code",
   "execution_count": 24,
   "outputs": [],
   "source": [
    "\n"
   ],
   "metadata": {
    "collapsed": false,
    "ExecuteTime": {
     "end_time": "2024-02-02T12:17:10.272804975Z",
     "start_time": "2024-02-02T12:17:10.202640861Z"
    }
   },
   "id": "c0e874ee7434028a"
  },
  {
   "cell_type": "code",
   "execution_count": 13,
   "outputs": [
    {
     "name": "stdout",
     "output_type": "stream",
     "text": [
      "<class 'pandas.core.frame.DataFrame'>\n",
      "RangeIndex: 434666 entries, 0 to 434665\n",
      "Data columns (total 3 columns):\n",
      " #   Column      Non-Null Count   Dtype \n",
      "---  ------      --------------   ----- \n",
      " 0   Unnamed: 0  434666 non-null  int64 \n",
      " 1   text        434666 non-null  object\n",
      " 2   target      434666 non-null  int64 \n",
      "dtypes: int64(2), object(1)\n",
      "memory usage: 9.9+ MB\n"
     ]
    }
   ],
   "source": [
    "df_train.info()"
   ],
   "metadata": {
    "collapsed": false,
    "ExecuteTime": {
     "end_time": "2024-02-02T15:55:02.575791139Z",
     "start_time": "2024-02-02T15:55:02.537847555Z"
    }
   },
   "id": "d237577c4bbf6db"
  },
  {
   "cell_type": "code",
   "execution_count": 22,
   "outputs": [
    {
     "name": "stdout",
     "output_type": "stream",
     "text": [
      "<class 'pandas.core.frame.DataFrame'>\n",
      "Index: 157784 entries, 434666 to 788921\n",
      "Data columns (total 2 columns):\n",
      " #   Column  Non-Null Count   Dtype \n",
      "---  ------  --------------   ----- \n",
      " 0   text    157784 non-null  object\n",
      " 1   target  157784 non-null  int64 \n",
      "dtypes: int64(1), object(1)\n",
      "memory usage: 3.6+ MB\n"
     ]
    }
   ],
   "source": [
    "df_test.info()"
   ],
   "metadata": {
    "collapsed": false,
    "ExecuteTime": {
     "end_time": "2024-01-31T12:10:20.341001436Z",
     "start_time": "2024-01-31T12:10:20.264530884Z"
    }
   },
   "id": "cb558cad1d1ca045"
  },
  {
   "cell_type": "code",
   "execution_count": 94,
   "outputs": [
    {
     "name": "stdout",
     "output_type": "stream",
     "text": [
      "2.1.2+cu121\n",
      "/bin/bash: warning: setlocale: LC_ALL: cannot change locale (en_US.UTF-8)\r\n",
      "/bin/bash: warning: setlocale: LC_ALL: cannot change locale (en_US.UTF-8)\r\n",
      "/bin/bash: warning: setlocale: LC_ALL: cannot change locale (en_US.UTF-8)\r\n"
     ]
    }
   ],
   "source": [
    "import os\n",
    "import torch\n",
    "os.environ['TORCH'] = torch.__version__\n",
    "print(torch.__version__)\n",
    "\n",
    "!pip install -q torch-scatter -f https://data.pyg.org/whl/torch-${torch.__version__}.html\n",
    "!pip install -q torch-sparse -f https://data.pyg.org/whl/torch-${torch.__version__}.html\n",
    "!pip install -q git+https://github.com/pyg-team/pytorch_geometric.git\n",
    "\n",
    "#from torch_geometric"
   ],
   "metadata": {
    "collapsed": false,
    "ExecuteTime": {
     "end_time": "2024-02-07T19:02:56.522002618Z",
     "start_time": "2024-02-07T19:02:25.192130212Z"
    }
   },
   "id": "551c6808e9811cca"
  },
  {
   "cell_type": "code",
   "execution_count": 95,
   "outputs": [
    {
     "name": "stdout",
     "output_type": "stream",
     "text": [
      "<class 'pandas.core.frame.DataFrame'>\n",
      "RangeIndex: 434666 entries, 0 to 434665\n",
      "Data columns (total 3 columns):\n",
      " #   Column      Non-Null Count   Dtype \n",
      "---  ------      --------------   ----- \n",
      " 0   Unnamed: 0  434666 non-null  int64 \n",
      " 1   text        434666 non-null  object\n",
      " 2   target      434666 non-null  int64 \n",
      "dtypes: int64(2), object(1)\n",
      "memory usage: 9.9+ MB\n"
     ]
    }
   ],
   "source": [
    "df_train.info()"
   ],
   "metadata": {
    "collapsed": false,
    "ExecuteTime": {
     "end_time": "2024-02-07T19:02:56.792161037Z",
     "start_time": "2024-02-07T19:02:56.530008719Z"
    }
   },
   "id": "c3427afe5eac8d2a"
  },
  {
   "cell_type": "code",
   "execution_count": 96,
   "outputs": [],
   "source": [
    "df_train=df_train.drop(['Unnamed: 0'], axis =1)"
   ],
   "metadata": {
    "collapsed": false,
    "ExecuteTime": {
     "end_time": "2024-02-07T19:02:56.940489300Z",
     "start_time": "2024-02-07T19:02:56.781276386Z"
    }
   },
   "id": "53b891822f4e8440"
  },
  {
   "cell_type": "code",
   "execution_count": 97,
   "outputs": [
    {
     "name": "stdout",
     "output_type": "stream",
     "text": [
      "<class 'pandas.core.frame.DataFrame'>\n",
      "RangeIndex: 434666 entries, 0 to 434665\n",
      "Data columns (total 2 columns):\n",
      " #   Column  Non-Null Count   Dtype \n",
      "---  ------  --------------   ----- \n",
      " 0   text    434666 non-null  object\n",
      " 1   target  434666 non-null  int64 \n",
      "dtypes: int64(1), object(1)\n",
      "memory usage: 6.6+ MB\n"
     ]
    }
   ],
   "source": [
    "df_train.info()"
   ],
   "metadata": {
    "collapsed": false,
    "ExecuteTime": {
     "end_time": "2024-02-07T19:02:57.056112828Z",
     "start_time": "2024-02-07T19:02:56.935118698Z"
    }
   },
   "id": "fb03e47444b3c02b"
  },
  {
   "cell_type": "code",
   "execution_count": 98,
   "outputs": [],
   "source": [
    "#df_train = pd.read_csv('train.csv', sep=',')"
   ],
   "metadata": {
    "collapsed": false,
    "ExecuteTime": {
     "end_time": "2024-02-07T19:03:04.455595571Z",
     "start_time": "2024-02-07T19:03:04.236289684Z"
    }
   },
   "id": "f54690ea444a1379"
  },
  {
   "cell_type": "code",
   "execution_count": 99,
   "outputs": [],
   "source": [
    "class Tokenizer(object):\n",
    "    def __init__(self, word2idx=None, nlp_model=\"en_core_web_lg\"):\n",
    "        self.nlp= spacy.load(nlp_model)\n",
    "        #self.word2idx=word2idx\n",
    "        #self.idx=len(word2idx)\n",
    "        if word2idx is None:\n",
    "            self.word2idx = {}\n",
    "            self.idx2word = {}\n",
    "            self.idx = 0\n",
    "            self.word2idx['<pad>'] = self.idx\n",
    "            self.idx2word[self.idx] = '<pad>'\n",
    "            self.idx += 1\n",
    "            self.word2idx['<unk>'] = self.idx\n",
    "            self.idx2word[self.idx] = 'unk'\n",
    "            self.idx += 1\n",
    "        else:\n",
    "            self.word2idx = word2idx\n",
    "            self.idx2word = { v:k for k,v in word2idx.items()}\n",
    "        \n",
    "    def fit_on_doc(self, doc:spacy.tokens.doc.Doc):\n",
    "        for word in doc:\n",
    "            word= str(word).lower()\n",
    "            if word not in self.word2idx:\n",
    "                self.word2idx[word]=self.idx\n",
    "                self.idx2word[self.idx]=word\n",
    "                self.idx += 1\n",
    "    def text_to_doc(self, text):\n",
    "        return self.nlp(text)\n",
    "    def doc_to_sequence(self, doc:spacy.tokens.doc.Doc):\n",
    "        sequence = []\n",
    "        for w in doc:\n",
    "            w = str(w).lower()\n",
    "            word_id = self.word2idx.get(w,-1)\n",
    "            if word_id == -1:\n",
    "                word_id = self.word2idx['<unk>']\n",
    "            sequence.append(word_id)\n",
    "        if len(sequence) == 0:\n",
    "            sequence = [0]\n",
    "        return np.array(sequence, dtype=np.int32)\n",
    "    def doc_to_adj(self, doc: spacy.tokens.doc.Doc):\n",
    "        matrix = np.zeros((len(doc),len(doc))).astype('int32')\n",
    "        for token in doc:\n",
    "            for child in token.children:\n",
    "                matrix[token.i][child.i] = 1\n",
    "                matrix[child.i][token.i] = 1\n",
    "        return matrix"
   ],
   "metadata": {
    "collapsed": false,
    "ExecuteTime": {
     "end_time": "2024-02-07T19:03:05.604305975Z",
     "start_time": "2024-02-07T19:03:05.425820733Z"
    }
   },
   "id": "c65b2970f99e3cc3"
  },
  {
   "cell_type": "code",
   "execution_count": 100,
   "outputs": [],
   "source": [
    "tokenizer = Tokenizer()"
   ],
   "metadata": {
    "collapsed": false,
    "ExecuteTime": {
     "end_time": "2024-02-07T19:03:11.902702020Z",
     "start_time": "2024-02-07T19:03:06.610951397Z"
    }
   },
   "id": "66332a6b12a9f66e"
  },
  {
   "cell_type": "code",
   "execution_count": 101,
   "outputs": [
    {
     "data": {
      "text/plain": "{'<pad>': 0, '<unk>': 1}"
     },
     "execution_count": 101,
     "metadata": {},
     "output_type": "execute_result"
    }
   ],
   "source": [
    "tokenizer.word2idx"
   ],
   "metadata": {
    "collapsed": false,
    "ExecuteTime": {
     "end_time": "2024-02-07T19:03:12.952525358Z",
     "start_time": "2024-02-07T19:03:12.692769801Z"
    }
   },
   "id": "4b6c51ec46eaf829"
  },
  {
   "cell_type": "code",
   "execution_count": 101,
   "outputs": [],
   "source": [],
   "metadata": {
    "collapsed": false,
    "ExecuteTime": {
     "end_time": "2024-02-07T19:03:14.173440689Z",
     "start_time": "2024-02-07T19:03:14.015393720Z"
    }
   },
   "id": "579e55eaef902fce"
  },
  {
   "cell_type": "code",
   "execution_count": 102,
   "outputs": [],
   "source": [
    "from tqdm import tqdm"
   ],
   "metadata": {
    "collapsed": false,
    "ExecuteTime": {
     "end_time": "2024-02-07T19:03:14.773907624Z",
     "start_time": "2024-02-07T19:03:14.613043598Z"
    }
   },
   "id": "3e2001994a4e553b"
  },
  {
   "cell_type": "code",
   "execution_count": 103,
   "outputs": [
    {
     "data": {
      "text/plain": "text      0\ntarget    0\ndtype: int64"
     },
     "execution_count": 103,
     "metadata": {},
     "output_type": "execute_result"
    }
   ],
   "source": [
    "df_train.isna().sum()"
   ],
   "metadata": {
    "collapsed": false,
    "ExecuteTime": {
     "end_time": "2024-02-07T19:03:15.590162023Z",
     "start_time": "2024-02-07T19:03:15.426543097Z"
    }
   },
   "id": "30c0e06aa2233864"
  },
  {
   "cell_type": "code",
   "execution_count": 104,
   "outputs": [],
   "source": [
    "df_train=df_train[:434666]"
   ],
   "metadata": {
    "collapsed": false,
    "ExecuteTime": {
     "end_time": "2024-02-07T19:03:16.687477644Z",
     "start_time": "2024-02-07T19:03:16.569325044Z"
    }
   },
   "id": "5ba6d10be99445df"
  },
  {
   "cell_type": "code",
   "execution_count": 105,
   "outputs": [
    {
     "data": {
      "text/plain": "434666"
     },
     "execution_count": 105,
     "metadata": {},
     "output_type": "execute_result"
    }
   ],
   "source": [
    "len(df_train)"
   ],
   "metadata": {
    "collapsed": false,
    "ExecuteTime": {
     "end_time": "2024-02-07T19:03:18.539924555Z",
     "start_time": "2024-02-07T19:03:18.499722984Z"
    }
   },
   "id": "1528f28f7a2295c2"
  },
  {
   "cell_type": "code",
   "execution_count": 106,
   "outputs": [
    {
     "name": "stderr",
     "output_type": "stream",
     "text": [
      "100%|██████████| 434666/434666 [16:49:39<00:00,  7.18it/s]    \n"
     ]
    }
   ],
   "source": [
    "train_idx2graph = {}\n",
    "\n",
    "for i in tqdm(range(len(df_train))):\n",
    "    text = df_train.text[i].lower().replace(\"/n\", \"\").strip()\n",
    "    doc = tokenizer.text_to_doc(text)\n",
    "    tokenizer.fit_on_doc(doc)\n",
    "    adj_matrix = tokenizer.doc_to_adj(doc)\n",
    "    coo = coo_matrix(adj_matrix)\n",
    "    train_idx2graph[i] = np.array([coo.row, coo.col])"
   ],
   "metadata": {
    "collapsed": false,
    "ExecuteTime": {
     "end_time": "2024-02-08T11:53:01.166891433Z",
     "start_time": "2024-02-07T19:03:19.838517143Z"
    }
   },
   "id": "58d15c229ef17f39"
  },
  {
   "cell_type": "code",
   "execution_count": 28,
   "outputs": [
    {
     "data": {
      "text/plain": "434666"
     },
     "execution_count": 28,
     "metadata": {},
     "output_type": "execute_result"
    }
   ],
   "source": [
    "len(train_idx2graph)"
   ],
   "metadata": {
    "collapsed": false,
    "ExecuteTime": {
     "end_time": "2024-02-03T08:07:40.556357864Z",
     "start_time": "2024-02-03T08:07:40.274162997Z"
    }
   },
   "id": "6d492c1b16818818"
  },
  {
   "cell_type": "markdown",
   "source": [],
   "metadata": {
    "collapsed": false
   },
   "id": "29c8c7fb61843a0"
  },
  {
   "cell_type": "code",
   "execution_count": null,
   "outputs": [],
   "source": [
    "test_idx2graph = {}\n",
    "for i in tqdm(range(len(df_test))):\n",
    "    #doc=pd.concat([[df_train.text_tkn[i]],[df_test.prompt_tkn[i]])\n",
    "    tokenizer.fit_on_doc(doc)\n",
    "    adj_matrix = tokenizer.doc_to_adj(doc)\n",
    "    coo = coo_matrix(adj_matrix)\n",
    "    test_idx2graph[i] = np.array([coo.row, coo.col], dtype=np.int32)"
   ],
   "metadata": {
    "collapsed": false,
    "ExecuteTime": {
     "start_time": "2024-01-31T12:12:08.184458439Z"
    }
   },
   "id": "b9a86467896ec5f0"
  },
  {
   "cell_type": "code",
   "execution_count": null,
   "outputs": [],
   "source": [
    "df_train.to_csv('train.csv')"
   ],
   "metadata": {
    "collapsed": false,
    "ExecuteTime": {
     "start_time": "2024-01-31T12:12:08.187049496Z"
    }
   },
   "id": "8b78d9571da0f9d3"
  },
  {
   "cell_type": "code",
   "execution_count": null,
   "outputs": [],
   "source": [
    "df_test.to_csv('test.csv')"
   ],
   "metadata": {
    "collapsed": false,
    "ExecuteTime": {
     "start_time": "2024-01-31T12:12:08.193415913Z"
    }
   },
   "id": "992ded1a3cda7273"
  },
  {
   "cell_type": "code",
   "execution_count": 107,
   "outputs": [
    {
     "name": "stderr",
     "output_type": "stream",
     "text": [
      "/tmp/ipykernel_1734/1522873915.py:3: VisibleDeprecationWarning: Creating an ndarray from ragged nested sequences (which is a list-or-tuple of lists-or-tuples-or ndarrays with different lengths or shapes) is deprecated. If you meant to do this, you must specify 'dtype=object' when creating the ndarray.\n",
      "  nparr=np.array(da)\n"
     ]
    }
   ],
   "source": [
    "result=train_idx2graph.items()\n",
    "da = list(result)\n",
    "nparr=np.array(da)\n",
    "train = pd.DataFrame(nparr)"
   ],
   "metadata": {
    "collapsed": false,
    "ExecuteTime": {
     "end_time": "2024-02-08T11:53:01.540310750Z",
     "start_time": "2024-02-08T11:52:59.639938648Z"
    }
   },
   "id": "1fa05bb6215b0c64"
  },
  {
   "cell_type": "code",
   "execution_count": 109,
   "outputs": [
    {
     "data": {
      "text/plain": "   0                                                  1\n0  0  [[0, 1, 1, 1, 2, 3, 3, 3, 3, 4, 4, 5, 6, 6, 7,...\n1  1  [[0, 1, 2, 2, 2, 3, 4, 4, 4, 4, 4, 5, 6, 7, 7,...\n2  2  [[0, 0, 0, 1, 2, 3, 4, 5, 5, 5, 5, 6, 6, 6, 7,...\n3  3  [[0, 1, 1, 1, 1, 2, 3, 4, 5, 5, 5, 5, 6, 6, 7,...\n4  4  [[0, 0, 0, 0, 0, 1, 2, 3, 3, 4, 5, 5, 6, 7, 7,...",
      "text/html": "<div>\n<style scoped>\n    .dataframe tbody tr th:only-of-type {\n        vertical-align: middle;\n    }\n\n    .dataframe tbody tr th {\n        vertical-align: top;\n    }\n\n    .dataframe thead th {\n        text-align: right;\n    }\n</style>\n<table border=\"1\" class=\"dataframe\">\n  <thead>\n    <tr style=\"text-align: right;\">\n      <th></th>\n      <th>0</th>\n      <th>1</th>\n    </tr>\n  </thead>\n  <tbody>\n    <tr>\n      <th>0</th>\n      <td>0</td>\n      <td>[[0, 1, 1, 1, 2, 3, 3, 3, 3, 4, 4, 5, 6, 6, 7,...</td>\n    </tr>\n    <tr>\n      <th>1</th>\n      <td>1</td>\n      <td>[[0, 1, 2, 2, 2, 3, 4, 4, 4, 4, 4, 5, 6, 7, 7,...</td>\n    </tr>\n    <tr>\n      <th>2</th>\n      <td>2</td>\n      <td>[[0, 0, 0, 1, 2, 3, 4, 5, 5, 5, 5, 6, 6, 6, 7,...</td>\n    </tr>\n    <tr>\n      <th>3</th>\n      <td>3</td>\n      <td>[[0, 1, 1, 1, 1, 2, 3, 4, 5, 5, 5, 5, 6, 6, 7,...</td>\n    </tr>\n    <tr>\n      <th>4</th>\n      <td>4</td>\n      <td>[[0, 0, 0, 0, 0, 1, 2, 3, 3, 4, 5, 5, 6, 7, 7,...</td>\n    </tr>\n  </tbody>\n</table>\n</div>"
     },
     "execution_count": 109,
     "metadata": {},
     "output_type": "execute_result"
    }
   ],
   "source": [
    "train.head()"
   ],
   "metadata": {
    "collapsed": false,
    "ExecuteTime": {
     "end_time": "2024-02-08T11:55:39.219384700Z",
     "start_time": "2024-02-08T11:55:39.211439883Z"
    }
   },
   "id": "1dd52501cb6f9551"
  },
  {
   "cell_type": "code",
   "execution_count": 108,
   "outputs": [],
   "source": [
    "train.to_csv('train_idx2graph.csv')"
   ],
   "metadata": {
    "collapsed": false,
    "ExecuteTime": {
     "end_time": "2024-02-08T11:55:39.216629983Z",
     "start_time": "2024-02-08T11:53:00.038890820Z"
    }
   },
   "id": "23704159743b1aaf"
  },
  {
   "cell_type": "code",
   "execution_count": null,
   "outputs": [],
   "source": [],
   "metadata": {
    "collapsed": false
   },
   "id": "c6ac31f687a16291"
  },
  {
   "cell_type": "code",
   "execution_count": 82,
   "outputs": [],
   "source": [
    "df_idx2graph=pd.read_csv('train_idx2graph.csv')"
   ],
   "metadata": {
    "collapsed": false,
    "ExecuteTime": {
     "end_time": "2024-01-31T20:19:35.671314602Z",
     "start_time": "2024-01-31T20:19:32.706862813Z"
    }
   },
   "id": "b6928265dd0d2e21"
  },
  {
   "cell_type": "code",
   "execution_count": 95,
   "outputs": [
    {
     "ename": "ValueError",
     "evalue": "invalid column index 2 at row 1 with 1 columns",
     "output_type": "error",
     "traceback": [
      "\u001B[0;31m---------------------------------------------------------------------------\u001B[0m",
      "\u001B[0;31mValueError\u001B[0m                                Traceback (most recent call last)",
      "Cell \u001B[0;32mIn[95], line 1\u001B[0m\n\u001B[0;32m----> 1\u001B[0m np\u001B[38;5;241m.\u001B[39mloadtxt(\u001B[38;5;124m'\u001B[39m\u001B[38;5;124mtrain_idx2graph.csv\u001B[39m\u001B[38;5;124m'\u001B[39m, usecols\u001B[38;5;241m=\u001B[39m\u001B[38;5;241m2\u001B[39m)\n",
      "File \u001B[0;32m~/anaconda3/lib/python3.11/site-packages/numpy/lib/npyio.py:1338\u001B[0m, in \u001B[0;36mloadtxt\u001B[0;34m(fname, dtype, comments, delimiter, converters, skiprows, usecols, unpack, ndmin, encoding, max_rows, quotechar, like)\u001B[0m\n\u001B[1;32m   1335\u001B[0m \u001B[38;5;28;01mif\u001B[39;00m \u001B[38;5;28misinstance\u001B[39m(delimiter, \u001B[38;5;28mbytes\u001B[39m):\n\u001B[1;32m   1336\u001B[0m     delimiter \u001B[38;5;241m=\u001B[39m delimiter\u001B[38;5;241m.\u001B[39mdecode(\u001B[38;5;124m'\u001B[39m\u001B[38;5;124mlatin1\u001B[39m\u001B[38;5;124m'\u001B[39m)\n\u001B[0;32m-> 1338\u001B[0m arr \u001B[38;5;241m=\u001B[39m _read(fname, dtype\u001B[38;5;241m=\u001B[39mdtype, comment\u001B[38;5;241m=\u001B[39mcomment, delimiter\u001B[38;5;241m=\u001B[39mdelimiter,\n\u001B[1;32m   1339\u001B[0m             converters\u001B[38;5;241m=\u001B[39mconverters, skiplines\u001B[38;5;241m=\u001B[39mskiprows, usecols\u001B[38;5;241m=\u001B[39musecols,\n\u001B[1;32m   1340\u001B[0m             unpack\u001B[38;5;241m=\u001B[39munpack, ndmin\u001B[38;5;241m=\u001B[39mndmin, encoding\u001B[38;5;241m=\u001B[39mencoding,\n\u001B[1;32m   1341\u001B[0m             max_rows\u001B[38;5;241m=\u001B[39mmax_rows, quote\u001B[38;5;241m=\u001B[39mquotechar)\n\u001B[1;32m   1343\u001B[0m \u001B[38;5;28;01mreturn\u001B[39;00m arr\n",
      "File \u001B[0;32m~/anaconda3/lib/python3.11/site-packages/numpy/lib/npyio.py:999\u001B[0m, in \u001B[0;36m_read\u001B[0;34m(fname, delimiter, comment, quote, imaginary_unit, usecols, skiplines, max_rows, converters, ndmin, unpack, dtype, encoding)\u001B[0m\n\u001B[1;32m    996\u001B[0m     data \u001B[38;5;241m=\u001B[39m _preprocess_comments(data, comments, encoding)\n\u001B[1;32m    998\u001B[0m \u001B[38;5;28;01mif\u001B[39;00m read_dtype_via_object_chunks \u001B[38;5;129;01mis\u001B[39;00m \u001B[38;5;28;01mNone\u001B[39;00m:\n\u001B[0;32m--> 999\u001B[0m     arr \u001B[38;5;241m=\u001B[39m _load_from_filelike(\n\u001B[1;32m   1000\u001B[0m         data, delimiter\u001B[38;5;241m=\u001B[39mdelimiter, comment\u001B[38;5;241m=\u001B[39mcomment, quote\u001B[38;5;241m=\u001B[39mquote,\n\u001B[1;32m   1001\u001B[0m         imaginary_unit\u001B[38;5;241m=\u001B[39mimaginary_unit,\n\u001B[1;32m   1002\u001B[0m         usecols\u001B[38;5;241m=\u001B[39musecols, skiplines\u001B[38;5;241m=\u001B[39mskiplines, max_rows\u001B[38;5;241m=\u001B[39mmax_rows,\n\u001B[1;32m   1003\u001B[0m         converters\u001B[38;5;241m=\u001B[39mconverters, dtype\u001B[38;5;241m=\u001B[39mdtype,\n\u001B[1;32m   1004\u001B[0m         encoding\u001B[38;5;241m=\u001B[39mencoding, filelike\u001B[38;5;241m=\u001B[39mfilelike,\n\u001B[1;32m   1005\u001B[0m         byte_converters\u001B[38;5;241m=\u001B[39mbyte_converters)\n\u001B[1;32m   1007\u001B[0m \u001B[38;5;28;01melse\u001B[39;00m:\n\u001B[1;32m   1008\u001B[0m     \u001B[38;5;66;03m# This branch reads the file into chunks of object arrays and then\u001B[39;00m\n\u001B[1;32m   1009\u001B[0m     \u001B[38;5;66;03m# casts them to the desired actual dtype.  This ensures correct\u001B[39;00m\n\u001B[1;32m   1010\u001B[0m     \u001B[38;5;66;03m# string-length and datetime-unit discovery (like `arr.astype()`).\u001B[39;00m\n\u001B[1;32m   1011\u001B[0m     \u001B[38;5;66;03m# Due to chunking, certain error reports are less clear, currently.\u001B[39;00m\n\u001B[1;32m   1012\u001B[0m     \u001B[38;5;28;01mif\u001B[39;00m filelike:\n",
      "\u001B[0;31mValueError\u001B[0m: invalid column index 2 at row 1 with 1 columns"
     ]
    }
   ],
   "source": [
    "np.loadtxt('train_idx2graph.csv', usecols=2)"
   ],
   "metadata": {
    "collapsed": false,
    "ExecuteTime": {
     "end_time": "2024-01-31T20:29:07.318155860Z",
     "start_time": "2024-01-31T20:29:07.049088621Z"
    }
   },
   "id": "d430f8ab39a69dd4"
  },
  {
   "cell_type": "code",
   "execution_count": 83,
   "outputs": [],
   "source": [
    "train_idx2graph=df_idx2graph['1']"
   ],
   "metadata": {
    "collapsed": false,
    "ExecuteTime": {
     "end_time": "2024-01-31T20:19:36.616987482Z",
     "start_time": "2024-01-31T20:19:36.459884282Z"
    }
   },
   "id": "836dc23bea52a31d"
  },
  {
   "cell_type": "code",
   "execution_count": 89,
   "outputs": [
    {
     "ename": "ValueError",
     "evalue": "could not convert string to float: '[[  0   1   1   2   2   2   2   3   4   4   4   4   4   5   6   7   7   8\\n    9   9  10  10  10  11  12  13  13  14  15  16  17  17  17  17  17  17\\n   18  18  19  20  20  21  22  23  23  23  24  25  25  25  26  26  27  27\\n   27  28  29  30  31  31  31  31  31  31  32  33  34  35  36  37  38  39\\n   40  40  40  40  40  40  40  41  42  43  43  43  43  44  44  45  46  46\\n   46  47  47  48  49  50  50  50  51  51  52  53  54  54  54  55  56  57\\n   57  57  58  59  59  59  59  59  60  61  62  63  63  64  65  66  67  67\\n   67  67  67  67  67  68  69  70  71  72  72  72  72  72  72  72  73  74\\n   75  75  76  77  77  78  79  80  80  80  80  80  80  80  81  82  82  82\\n   83  84  84  84  84  85  86  86  87  87  87  88  89  90  91  92  92  92\\n   93  94  95  95  95  95  95  96  97  97  97  98  99  99 100 100 101 102\\n  103 103 103 103 103 103 104 104 105 106 106 107 107 108 109 109 110 110\\n  111 112 112 113 114 115 116 116 116 116 117 118 119 119 120 120 121 121\\n  121 121 122 123 124 125 126 126 126 126 127 128 129 129 129 129 129 129\\n  129 129 130 131 132 132 132 133 134 135 136 137 138 138 139 139 139 139\\n  140 141 141 142 143 144 145 146 146 146 146 146 147 148 148 148 149 150\\n  150 151 152 153 154 155 155 155 155 155 155 155 156 157 157 157 157 158\\n  159 159 159 160 160 161 162 162 163 163 164 165 166 167 167 167 167 167\\n  168 169 170 170 171 172 172 172 172 172 173 174 174 174 174 175 176 176\\n  177 177 178 179 180 180 180 181 181 182]\\n [  1   0   2   1   4   9  17   4   2   3   5   6   7   4   4   4   8   7\\n    2  13  11  12  13  10  10   9  10  17  17  17   2  14  15  16  18  21\\n   17  20  20  18  19  17  23  22  25  31  25  23  24  26  25  27  26  28\\n   29  27  27  31  23  30  32  33  34  35  31  31  31  31  40  40  40  40\\n   36  37  38  39  43  51  55  43  43  40  41  42  44  43  46  46  44  45\\n   47  46  50  50  50  47  48  49  40  54  54  54  51  52  53  40  57  56\\n   67 113  67  60  61  63  64  67  59  59  63  59  62  59  67  67  57  58\\n   59  65  66  80  92  80  72  72  72  69  70  71  73  74  75  80  72  72\\n   72  77  77  75  76  80  80  67  68  72  78  79  82  90  82  80  81  84\\n   84  82  83  85  86  84  84  87  86  88  89  87  87  80  92  67  91  95\\n   95  95  92  93  94  97 100  97  95  96  99  99  97  98  95 103 103 103\\n  100 101 102 104 107 110 103 106 106 104 105 103 109 109 107 108 103 112\\n  112 110 111  57 116 116 114 115 121 129 121 119 118 120 119 121 116 117\\n  120 122 121 129 126 126 124 125 127 129 126 129 116 123 126 128 130 132\\n  134 135 129 132 129 131 133 132 129 129 139 138 137 139 136 138 141 142\\n  141 139 140 139 146 146 146 143 144 145 148 155 148 146 147 150 150 148\\n  149 155 155 155 155 146 151 152 153 154 157 182 157 155 156 159 162 159\\n  157 158 160 159 161 160 157 163 162 167 167 167 167 163 164 165 166 172\\n  172 170 169 172 172 167 168 170 171 174 174 172 173 176 177 176 174 175\\n  174 181 180 180 178 179 181 177 180 155]]'",
     "output_type": "error",
     "traceback": [
      "\u001B[0;31m---------------------------------------------------------------------------\u001B[0m",
      "\u001B[0;31mValueError\u001B[0m                                Traceback (most recent call last)",
      "Cell \u001B[0;32mIn[89], line 1\u001B[0m\n\u001B[0;32m----> 1\u001B[0m train_idx2graph\u001B[38;5;241m.\u001B[39mto_numpy(dtype\u001B[38;5;241m=\u001B[39m\u001B[38;5;124m'\u001B[39m\u001B[38;5;124mfloat\u001B[39m\u001B[38;5;124m'\u001B[39m)\n",
      "File \u001B[0;32m~/anaconda3/lib/python3.11/site-packages/pandas/core/base.py:662\u001B[0m, in \u001B[0;36mIndexOpsMixin.to_numpy\u001B[0;34m(self, dtype, copy, na_value, **kwargs)\u001B[0m\n\u001B[1;32m    658\u001B[0m         values \u001B[38;5;241m=\u001B[39m values\u001B[38;5;241m.\u001B[39mcopy()\n\u001B[1;32m    660\u001B[0m     values[np\u001B[38;5;241m.\u001B[39masanyarray(isna(\u001B[38;5;28mself\u001B[39m))] \u001B[38;5;241m=\u001B[39m na_value\n\u001B[0;32m--> 662\u001B[0m result \u001B[38;5;241m=\u001B[39m np\u001B[38;5;241m.\u001B[39masarray(values, dtype\u001B[38;5;241m=\u001B[39mdtype)\n\u001B[1;32m    664\u001B[0m \u001B[38;5;28;01mif\u001B[39;00m (copy \u001B[38;5;129;01mand\u001B[39;00m \u001B[38;5;129;01mnot\u001B[39;00m fillna) \u001B[38;5;129;01mor\u001B[39;00m (\u001B[38;5;129;01mnot\u001B[39;00m copy \u001B[38;5;129;01mand\u001B[39;00m using_copy_on_write()):\n\u001B[1;32m    665\u001B[0m     \u001B[38;5;28;01mif\u001B[39;00m np\u001B[38;5;241m.\u001B[39mshares_memory(\u001B[38;5;28mself\u001B[39m\u001B[38;5;241m.\u001B[39m_values[:\u001B[38;5;241m2\u001B[39m], result[:\u001B[38;5;241m2\u001B[39m]):\n\u001B[1;32m    666\u001B[0m         \u001B[38;5;66;03m# Take slices to improve performance of check\u001B[39;00m\n",
      "\u001B[0;31mValueError\u001B[0m: could not convert string to float: '[[  0   1   1   2   2   2   2   3   4   4   4   4   4   5   6   7   7   8\\n    9   9  10  10  10  11  12  13  13  14  15  16  17  17  17  17  17  17\\n   18  18  19  20  20  21  22  23  23  23  24  25  25  25  26  26  27  27\\n   27  28  29  30  31  31  31  31  31  31  32  33  34  35  36  37  38  39\\n   40  40  40  40  40  40  40  41  42  43  43  43  43  44  44  45  46  46\\n   46  47  47  48  49  50  50  50  51  51  52  53  54  54  54  55  56  57\\n   57  57  58  59  59  59  59  59  60  61  62  63  63  64  65  66  67  67\\n   67  67  67  67  67  68  69  70  71  72  72  72  72  72  72  72  73  74\\n   75  75  76  77  77  78  79  80  80  80  80  80  80  80  81  82  82  82\\n   83  84  84  84  84  85  86  86  87  87  87  88  89  90  91  92  92  92\\n   93  94  95  95  95  95  95  96  97  97  97  98  99  99 100 100 101 102\\n  103 103 103 103 103 103 104 104 105 106 106 107 107 108 109 109 110 110\\n  111 112 112 113 114 115 116 116 116 116 117 118 119 119 120 120 121 121\\n  121 121 122 123 124 125 126 126 126 126 127 128 129 129 129 129 129 129\\n  129 129 130 131 132 132 132 133 134 135 136 137 138 138 139 139 139 139\\n  140 141 141 142 143 144 145 146 146 146 146 146 147 148 148 148 149 150\\n  150 151 152 153 154 155 155 155 155 155 155 155 156 157 157 157 157 158\\n  159 159 159 160 160 161 162 162 163 163 164 165 166 167 167 167 167 167\\n  168 169 170 170 171 172 172 172 172 172 173 174 174 174 174 175 176 176\\n  177 177 178 179 180 180 180 181 181 182]\\n [  1   0   2   1   4   9  17   4   2   3   5   6   7   4   4   4   8   7\\n    2  13  11  12  13  10  10   9  10  17  17  17   2  14  15  16  18  21\\n   17  20  20  18  19  17  23  22  25  31  25  23  24  26  25  27  26  28\\n   29  27  27  31  23  30  32  33  34  35  31  31  31  31  40  40  40  40\\n   36  37  38  39  43  51  55  43  43  40  41  42  44  43  46  46  44  45\\n   47  46  50  50  50  47  48  49  40  54  54  54  51  52  53  40  57  56\\n   67 113  67  60  61  63  64  67  59  59  63  59  62  59  67  67  57  58\\n   59  65  66  80  92  80  72  72  72  69  70  71  73  74  75  80  72  72\\n   72  77  77  75  76  80  80  67  68  72  78  79  82  90  82  80  81  84\\n   84  82  83  85  86  84  84  87  86  88  89  87  87  80  92  67  91  95\\n   95  95  92  93  94  97 100  97  95  96  99  99  97  98  95 103 103 103\\n  100 101 102 104 107 110 103 106 106 104 105 103 109 109 107 108 103 112\\n  112 110 111  57 116 116 114 115 121 129 121 119 118 120 119 121 116 117\\n  120 122 121 129 126 126 124 125 127 129 126 129 116 123 126 128 130 132\\n  134 135 129 132 129 131 133 132 129 129 139 138 137 139 136 138 141 142\\n  141 139 140 139 146 146 146 143 144 145 148 155 148 146 147 150 150 148\\n  149 155 155 155 155 146 151 152 153 154 157 182 157 155 156 159 162 159\\n  157 158 160 159 161 160 157 163 162 167 167 167 167 163 164 165 166 172\\n  172 170 169 172 172 167 168 170 171 174 174 172 173 176 177 176 174 175\\n  174 181 180 180 178 179 181 177 180 155]]'"
     ]
    }
   ],
   "source": [
    "train_idx2graph.to_numpy(dtype='float')"
   ],
   "metadata": {
    "collapsed": false,
    "ExecuteTime": {
     "end_time": "2024-01-31T20:20:55.128142582Z",
     "start_time": "2024-01-31T20:20:54.896794910Z"
    }
   },
   "id": "d690d0ef2998853a"
  },
  {
   "cell_type": "code",
   "execution_count": 71,
   "outputs": [
    {
     "name": "stderr",
     "output_type": "stream",
     "text": [
      "/tmp/ipykernel_207393/660342747.py:3: VisibleDeprecationWarning: Creating an ndarray from ragged nested sequences (which is a list-or-tuple of lists-or-tuples-or ndarrays with different lengths or shapes) is deprecated. If you meant to do this, you must specify 'dtype=object' when creating the ndarray.\n",
      "  nparr=np.array(da)\n"
     ]
    }
   ],
   "source": [
    "result=test_idx2graph.items()\n",
    "da = list(result)\n",
    "nparr=np.array(da)\n",
    "test = pd.DataFrame(nparr)"
   ],
   "metadata": {
    "collapsed": false,
    "ExecuteTime": {
     "end_time": "2024-01-25T22:37:49.400891515Z",
     "start_time": "2024-01-25T22:37:49.173493036Z"
    }
   },
   "id": "5614e4d061ba943"
  },
  {
   "cell_type": "code",
   "execution_count": 72,
   "outputs": [],
   "source": [
    "test.to_csv('test_idx2graph.csv')"
   ],
   "metadata": {
    "collapsed": false,
    "ExecuteTime": {
     "end_time": "2024-01-25T22:41:57.666116454Z",
     "start_time": "2024-01-25T22:37:49.182683135Z"
    }
   },
   "id": "7d896a04818fc939"
  },
  {
   "cell_type": "code",
   "execution_count": 73,
   "outputs": [],
   "source": [
    "df_test_idx2graph=pd.read_csv('test_idx2graph.csv')"
   ],
   "metadata": {
    "collapsed": false,
    "ExecuteTime": {
     "end_time": "2024-01-25T22:42:00.134118282Z",
     "start_time": "2024-01-25T22:41:57.708649782Z"
    }
   },
   "id": "b15e31d7081b41fe"
  },
  {
   "cell_type": "code",
   "execution_count": 74,
   "outputs": [],
   "source": [
    "np_test_idx2graph=df_test_idx2graph.to_numpy()"
   ],
   "metadata": {
    "collapsed": false,
    "ExecuteTime": {
     "end_time": "2024-01-25T22:42:00.565072135Z",
     "start_time": "2024-01-25T22:42:00.176724663Z"
    }
   },
   "id": "404867e3115843f4"
  },
  {
   "cell_type": "code",
   "execution_count": 109,
   "outputs": [],
   "source": [],
   "metadata": {
    "collapsed": false,
    "ExecuteTime": {
     "end_time": "2024-01-31T11:44:55.013095762Z",
     "start_time": "2024-01-31T11:44:54.640004788Z"
    }
   },
   "id": "2ec806e6dbb9fb3e"
  },
  {
   "cell_type": "code",
   "execution_count": 110,
   "outputs": [],
   "source": [
    "def load_word_vec(path, word2idx=None, embed_dim=300):\n",
    "    fin = open(path, 'r', encoding='utf8', newline='\\n', errors='ignore')\n",
    "    word_vec = {}\n",
    "    for line in fin:\n",
    "        tokens = line.rstrip().split()\n",
    "        word, vec = ' '.join(tokens[:-embed_dim]), tokens[-embed_dim:]\n",
    "        if word in word2idx.keys():\n",
    "            word_vec[word] = np.array(vec, dtype=np.float32)\n",
    "    return word_vec"
   ],
   "metadata": {
    "collapsed": false,
    "ExecuteTime": {
     "end_time": "2024-02-08T11:55:39.219821522Z",
     "start_time": "2024-02-08T11:55:39.211741929Z"
    }
   },
   "id": "9cf45baec8e2bdc1"
  },
  {
   "cell_type": "code",
   "execution_count": 111,
   "outputs": [],
   "source": [
    "from torchtext.vocab import GloVe\n",
    "def build_embedding_matrix(word2idx, embed_dim=300):\n",
    "    embedding_matrix = np.zeros((len(word2idx), embed_dim))\n",
    "    embedding_matrix[1, :] = np.random.uniform(-1/np.sqrt(embed_dim), 1/np.sqrt(embed_dim), (1, embed_dim))\n",
    "\n",
    "    glob_vector='./glove.840B.300d.txt'\n",
    "    word_vec = load_word_vec(glob_vector, word2idx=word2idx, embed_dim=embed_dim)\n",
    "\n",
    "    for word, i in word2idx.items():\n",
    "        vec = word_vec.get(word)\n",
    "        if vec is not None:\n",
    "            embedding_matrix[i] = vec\n",
    "    return embedding_matrix"
   ],
   "metadata": {
    "collapsed": false,
    "ExecuteTime": {
     "end_time": "2024-02-08T11:55:39.220207650Z",
     "start_time": "2024-02-08T11:55:39.211864818Z"
    }
   },
   "id": "3c2cc7faf4deb8a4"
  },
  {
   "cell_type": "code",
   "execution_count": 112,
   "outputs": [],
   "source": [
    "embedding_matrix = build_embedding_matrix(tokenizer.word2idx, 300)"
   ],
   "metadata": {
    "collapsed": false,
    "ExecuteTime": {
     "end_time": "2024-02-08T11:56:50.101448978Z",
     "start_time": "2024-02-08T11:55:39.211966730Z"
    }
   },
   "id": "aeb509f01431e26d"
  },
  {
   "cell_type": "code",
   "execution_count": 113,
   "outputs": [
    {
     "name": "stdout",
     "output_type": "stream",
     "text": [
      "[[ 0.          0.          0.         ...  0.          0.\n",
      "   0.        ]\n",
      " [-0.07969    -0.22905     0.80365998 ... -0.083561    0.48532\n",
      "  -0.7313    ]\n",
      " [ 0.16718     0.30592999 -0.13682    ... -0.035268    0.12809999\n",
      "   0.023683  ]\n",
      " ...\n",
      " [ 0.22159    -0.64488    -0.078342   ...  0.33265999 -0.38264999\n",
      "  -0.64383   ]\n",
      " [ 0.          0.          0.         ...  0.          0.\n",
      "   0.        ]\n",
      " [-0.54988998 -0.79767001  0.051442   ...  0.77004999  0.098399\n",
      "   0.034992  ]]\n"
     ]
    }
   ],
   "source": [
    "print(embedding_matrix)"
   ],
   "metadata": {
    "collapsed": false,
    "ExecuteTime": {
     "end_time": "2024-02-08T11:56:50.167781604Z",
     "start_time": "2024-02-08T11:56:50.147756096Z"
    }
   },
   "id": "8f6fd16c757e449a"
  },
  {
   "cell_type": "code",
   "execution_count": 114,
   "outputs": [],
   "source": [
    "from torch_geometric.data import InMemoryDataset, Data\n",
    "\n",
    "\n",
    "class TrainGraphFactoryDataset(InMemoryDataset):\n",
    "    def __init__(self, root, transform=None, pre_transform=None, pre_filter=None):\n",
    "        super().__init__(root, transform, pre_transform, pre_filter)\n",
    "\n",
    "        self.data, self.slices = torch.load(self.processed_paths[0])\n",
    "\n",
    "    @property\n",
    "    def raw_dir(self):\n",
    "        return \"./\"\n",
    "\n",
    "    @property\n",
    "    def processed_dir(self):\n",
    "        return os.path.join(self.root, \"train_processed\")\n",
    "\n",
    "    @property\n",
    "    def raw_file_names(self):\n",
    "        return ['train.csv']\n",
    "\n",
    "    @property\n",
    "    def processed_file_names(self):\n",
    "        return ['train-graph.pt']\n",
    "\n",
    "    def download(self):\n",
    "        pass\n",
    "\n",
    "    def process(self):\n",
    "\n",
    "        data_list = self.read_data()\n",
    "\n",
    "        if self.pre_filter is not None:\n",
    "            data_list = [data for data in data_list if self.pre_filter(data)]\n",
    "\n",
    "        if self.pre_transform is not None:\n",
    "            data_list = [self.pre_transform(data) for data in data_list]\n",
    "\n",
    "        data, slices = self.collate(data_list)\n",
    "        torch.save((data, slices), self.processed_paths[0])\n",
    "\n",
    "    def read_data(self):\n",
    "        df_train = pd.read_csv(self.raw_paths[0])\n",
    "        all_data = []\n",
    "        for i in tqdm(range(df_train.shape[0])):\n",
    "            text = df_train.text[i].lower().replace(\"\\n\", \"\").strip()\n",
    "            doc = tokenizer.text_to_doc(text)\n",
    "            input_ids = tokenizer.doc_to_sequence(doc)\n",
    "            label = df_train.loc[i, [\"target\"]].to_list()\n",
    "\n",
    "            x = torch.tensor(input_ids.reshape((-1, 1)), dtype=torch.int32)\n",
    "            edge_index  = torch.tensor(train_idx2graph[i], dtype=torch.long)\n",
    "            y = torch.tensor(np.array(label), dtype=torch.float32).reshape(-1, 1)\n",
    "            data = Data(x=x, edge_index=edge_index, y=y)\n",
    "\n",
    "            all_data.append(data)\n",
    "        return all_data"
   ],
   "metadata": {
    "collapsed": false,
    "ExecuteTime": {
     "end_time": "2024-02-08T11:56:50.168183350Z",
     "start_time": "2024-02-08T11:56:50.148357363Z"
    }
   },
   "id": "7dbf33bdbc239cc"
  },
  {
   "cell_type": "code",
   "execution_count": null,
   "outputs": [
    {
     "name": "stderr",
     "output_type": "stream",
     "text": [
      "Processing...\n",
      " 29%|██▊       | 124189/434666 [7:29:57<16:59:47,  5.07it/s] "
     ]
    }
   ],
   "source": [
    "dataset = TrainGraphFactoryDataset(root='./')"
   ],
   "metadata": {
    "collapsed": false,
    "is_executing": true,
    "ExecuteTime": {
     "start_time": "2024-02-08T11:56:50.148794829Z"
    }
   },
   "id": "a443b48f678c44ae"
  },
  {
   "cell_type": "code",
   "execution_count": null,
   "outputs": [],
   "source": [
    "print(dataset.raw_paths, dataset.processed_paths)"
   ],
   "metadata": {
    "collapsed": false,
    "is_executing": true
   },
   "id": "6caa5444ee9f7eac"
  },
  {
   "cell_type": "code",
   "execution_count": null,
   "outputs": [],
   "source": [
    "dataset.data"
   ],
   "metadata": {
    "collapsed": false,
    "is_executing": true
   },
   "id": "4e1feb5cfec709b2"
  },
  {
   "cell_type": "code",
   "execution_count": null,
   "outputs": [],
   "source": [
    "dataset[2]"
   ],
   "metadata": {
    "collapsed": false,
    "is_executing": true
   },
   "id": "26107ba0224ae5bf"
  },
  {
   "cell_type": "code",
   "execution_count": null,
   "outputs": [],
   "source": [
    "dataset[400000].y"
   ],
   "metadata": {
    "collapsed": false,
    "is_executing": true
   },
   "id": "6d22b72b45e187db"
  },
  {
   "cell_type": "code",
   "execution_count": null,
   "outputs": [],
   "source": [
    "len(dataset)"
   ],
   "metadata": {
    "collapsed": false,
    "is_executing": true
   },
   "id": "e27624f631db3d65"
  },
  {
   "cell_type": "code",
   "execution_count": null,
   "outputs": [],
   "source": [
    "dataset = dataset.shuffle()\n",
    "ratio_cut= 0.8\n",
    "train_len = int(ratio_cut*len(dataset))\n",
    "train_dataset= dataset[:train_len]\n",
    "val_dataset= dataset[train_len:]\n",
    "print(len(train_dataset),len(val_dataset))\n"
   ],
   "metadata": {
    "collapsed": false,
    "is_executing": true
   },
   "id": "f95513799a83f2e5"
  },
  {
   "cell_type": "code",
   "execution_count": null,
   "outputs": [],
   "source": [
    "print(dataset.validate())"
   ],
   "metadata": {
    "collapsed": false,
    "is_executing": true
   },
   "id": "51220c1a5e683d32"
  },
  {
   "cell_type": "code",
   "execution_count": null,
   "outputs": [],
   "source": [
    "import torch\n",
    "from torch import nn\n",
    "import torch.nn.functional as F\n",
    "from torch.optim import Adam\n",
    "from torch.optim import lr_scheduler\n",
    "from torch_geometric.data import Data\n",
    "from torch_geometric.data import InMemoryDataset\n",
    "from torch_geometric.nn import GCNConv, SAGEConv, GATConv, TransformerConv, GATv2Conv, ChebConv, ResGatedGraphConv\n",
    "import torch_geometric.nn as pyg_nn\n",
    "from torch_geometric.loader import DataLoader"
   ],
   "metadata": {
    "collapsed": false,
    "is_executing": true
   },
   "id": "d1a8e7fc6d75e65c"
  },
  {
   "cell_type": "code",
   "execution_count": null,
   "outputs": [],
   "source": [
    "from torch_geometric.data import DataLoader\n",
    "\n",
    "train_loader = DataLoader(train_dataset,batch_size=32)\n",
    "val_loader = DataLoader(val_dataset, batch_size=32)"
   ],
   "metadata": {
    "collapsed": false,
    "is_executing": true
   },
   "id": "99d3f8e1bdd7e8e9"
  },
  {
   "cell_type": "code",
   "execution_count": null,
   "outputs": [],
   "source": [],
   "metadata": {
    "collapsed": false,
    "is_executing": true
   },
   "id": "f6d7bcb406ddd3cb"
  },
  {
   "cell_type": "code",
   "execution_count": null,
   "outputs": [],
   "source": [],
   "metadata": {
    "collapsed": false,
    "is_executing": true
   },
   "id": "5867a844075de854"
  },
  {
   "cell_type": "code",
   "execution_count": null,
   "outputs": [],
   "source": [
    "print(embedding_matrix)"
   ],
   "metadata": {
    "collapsed": false,
    "is_executing": true
   },
   "id": "cec664fc9ca8d04a"
  },
  {
   "cell_type": "code",
   "execution_count": null,
   "outputs": [],
   "source": [
    "#embedding_matrix.reshape(2,300)"
   ],
   "metadata": {
    "collapsed": false,
    "is_executing": true
   },
   "id": "7ff4e9cdb7e970c4"
  },
  {
   "cell_type": "code",
   "execution_count": null,
   "outputs": [],
   "source": [
    "embedding_matrix"
   ],
   "metadata": {
    "collapsed": false,
    "is_executing": true
   },
   "id": "c2c63452d187272a"
  },
  {
   "cell_type": "code",
   "execution_count": null,
   "outputs": [],
   "source": [
    "for k, batch in enumerate(train_loader):\n",
    "    if batch.validate():\n",
    "        print(f'{k} true')\n",
    "    else:\n",
    "        print(f'{k} false')"
   ],
   "metadata": {
    "collapsed": false,
    "is_executing": true
   },
   "id": "6aa0f1a44bb40b50"
  },
  {
   "cell_type": "code",
   "execution_count": 83,
   "outputs": [],
   "source": [
    "from torch_geometric.data import Batch\n",
    "from torch_geometric.nn import GraphSAGE\n",
    "\n",
    "\n",
    "class FeedbackModel(nn.Module):\n",
    "    def __init__(self, embedding_matrix):\n",
    "\n",
    "        super(FeedbackModel, self).__init__()\n",
    "\n",
    "        self.embed = nn.Embedding.from_pretrained(torch.tensor(embedding_matrix, dtype=torch.float), freeze=False)\n",
    "        # GCNConv SAGEConv ResGatedGraphConv GraphConv(300, 128) \n",
    "        # TransformerConv GATv2Conv GATConv(300, 128, heads=4) ChebConv(300, 128, K=2)\n",
    "        # GCNConv SAGEConv ResGatedGraphConv GraphConv(128, 64) \n",
    "        # TransformerConv  GATv2Conv GATConv(4*128, 64) ChebConv(128, 64, K=2)\n",
    "        #         self.gru = nn.GRU(256, 256, num_layers=1, \n",
    "        #                           dropout=0, batch_first=True,\n",
    "        #                           bidirectional=False)          # RNN, GRU\n",
    "        # output: (N, L, D∗Hout), D = 2 if bidirectional=True otherwise 1\n",
    "        # h_n: (D∗num_layers, N, Hout)\n",
    "        self.gc1   = GATv2Conv(300, 128, heads=4)\n",
    "        #self.gc1   = GraphSAGE (300,128, 32)\n",
    "        self.pool1 = pyg_nn.TopKPooling(128, ratio=0.8)\n",
    "        self.gc2   = GCNConv(128, 64)\n",
    "        self.pool2 = pyg_nn.TopKPooling(64, ratio=0.8)\n",
    "        self.lin1  = nn.Linear(64, 32)\n",
    "        self.lin2  = nn.Linear(32, 1)\n",
    "\n",
    "    def forward(self, data):\n",
    "        data_list = [Data(x=x_, edge_index=data.edge_index, sample_batched=data.batch) for x_ in (data.x)]\n",
    "        batch = Batch.from_data_list(data_list)\n",
    "        if batch.validate():\n",
    "            x = batch.x\n",
    "            sample_batch=batch.sample_batched\n",
    "            x = x.squeeze(1)\n",
    "            #x = torch.clamp(x, 0, self.embed.num_embeddings - 1)\n",
    "            x = self.embed(x)\n",
    "    \n",
    "            x = F.relu(self.gc1(x, edge_index=batch.edge_index))\n",
    "            x, edge_index, edge_attr, batch2, perm, score = self.pool1(x, batch.edge_index, None, sample_batch)\n",
    "            x1 = torch.cat([pyg_nn.global_max_pool(x, batch2), pyg_nn.global_mean_pool(x, batch2)], dim=1)\n",
    "    \n",
    "            x = F.relu(self.gc2(x, batch.edge_index))\n",
    "            x, edge_index, edge_attr, batch2, perm, score = self.pool2(x, data.edge_index, None, sample_batch)\n",
    "            x2 = torch.cat([pyg_nn.global_max_pool(x, batch2), pyg_nn.global_mean_pool(x, batch2)], dim=1)\n",
    "    \n",
    "            x = x1 + x2\n",
    "            x = F.relu(self.lin1(x))\n",
    "            x = F.dropout(x, p=0.5, training=self.training)\n",
    "            output = F.relu(self.lin2(x))\n",
    "        else:\n",
    "             print('rejected')\n",
    "\n",
    "        return output\n",
    "\n"
   ],
   "metadata": {
    "collapsed": false,
    "ExecuteTime": {
     "end_time": "2024-02-07T15:38:36.798292353Z",
     "start_time": "2024-02-07T15:38:36.402053695Z"
    }
   },
   "id": "737cff2ae4ddf4b9"
  },
  {
   "cell_type": "code",
   "execution_count": 84,
   "outputs": [
    {
     "data": {
      "text/plain": "FeedbackModel(\n  (embed): Embedding(2, 300)\n  (gc1): GATv2Conv(300, 128, heads=4)\n  (pool1): TopKPooling(128, ratio=0.8, multiplier=1.0)\n  (gc2): GCNConv(128, 64)\n  (pool2): TopKPooling(64, ratio=0.8, multiplier=1.0)\n  (lin1): Linear(in_features=64, out_features=32, bias=True)\n  (lin2): Linear(in_features=32, out_features=1, bias=True)\n)"
     },
     "execution_count": 84,
     "metadata": {},
     "output_type": "execute_result"
    }
   ],
   "source": [
    "model = FeedbackModel(embedding_matrix)\n",
    "model"
   ],
   "metadata": {
    "collapsed": false,
    "ExecuteTime": {
     "end_time": "2024-02-07T15:38:38.158041984Z",
     "start_time": "2024-02-07T15:38:38.005944081Z"
    }
   },
   "id": "326ac578eea20f61"
  },
  {
   "cell_type": "code",
   "execution_count": 85,
   "outputs": [
    {
     "data": {
      "text/plain": "MSELoss()"
     },
     "execution_count": 85,
     "metadata": {},
     "output_type": "execute_result"
    }
   ],
   "source": [
    "epochs = 60\n",
    "\n",
    "criterion = nn.MSELoss()\n",
    "optimizer = Adam(model.parameters(), lr=1e-5)\n",
    "scheduler = lr_scheduler.ReduceLROnPlateau(optimizer, mode='min', factor=0.1, patience=6)\n",
    "\n",
    "device = torch.device(\"cuda\" if torch.cuda.is_available() else \"cpu\")\n",
    "model.to(device)\n",
    "criterion.to(device)"
   ],
   "metadata": {
    "collapsed": false,
    "ExecuteTime": {
     "end_time": "2024-02-07T15:38:39.043769079Z",
     "start_time": "2024-02-07T15:38:38.854566972Z"
    }
   },
   "id": "d6aebbf0337cc59"
  },
  {
   "cell_type": "code",
   "execution_count": 86,
   "outputs": [
    {
     "ename": "ValueError",
     "evalue": "'edge_index' contains larger indices than the number of nodes (17682) in 'DataBatch' (found 17716)",
     "output_type": "error",
     "traceback": [
      "\u001B[0;31m---------------------------------------------------------------------------\u001B[0m",
      "\u001B[0;31mValueError\u001B[0m                                Traceback (most recent call last)",
      "Cell \u001B[0;32mIn[86], line 2\u001B[0m\n\u001B[1;32m      1\u001B[0m \u001B[38;5;28;01mfor\u001B[39;00m data \u001B[38;5;129;01min\u001B[39;00m train_loader:\n\u001B[0;32m----> 2\u001B[0m     data\u001B[38;5;241m.\u001B[39mvalidate()\n",
      "File \u001B[0;32m~/anaconda3/lib/python3.11/site-packages/torch_geometric/data/data.py:691\u001B[0m, in \u001B[0;36mData.validate\u001B[0;34m(self, raise_on_error)\u001B[0m\n\u001B[1;32m    689\u001B[0m     \u001B[38;5;28;01mif\u001B[39;00m num_nodes \u001B[38;5;129;01mis\u001B[39;00m \u001B[38;5;129;01mnot\u001B[39;00m \u001B[38;5;28;01mNone\u001B[39;00m \u001B[38;5;129;01mand\u001B[39;00m \u001B[38;5;28mself\u001B[39m\u001B[38;5;241m.\u001B[39medge_index\u001B[38;5;241m.\u001B[39mmax() \u001B[38;5;241m>\u001B[39m\u001B[38;5;241m=\u001B[39m num_nodes:\n\u001B[1;32m    690\u001B[0m         status \u001B[38;5;241m=\u001B[39m \u001B[38;5;28;01mFalse\u001B[39;00m\n\u001B[0;32m--> 691\u001B[0m         warn_or_raise(\n\u001B[1;32m    692\u001B[0m             \u001B[38;5;124mf\u001B[39m\u001B[38;5;124m\"\u001B[39m\u001B[38;5;124m'\u001B[39m\u001B[38;5;124medge_index\u001B[39m\u001B[38;5;124m'\u001B[39m\u001B[38;5;124m contains larger indices than the number \u001B[39m\u001B[38;5;124m\"\u001B[39m\n\u001B[1;32m    693\u001B[0m             \u001B[38;5;124mf\u001B[39m\u001B[38;5;124m\"\u001B[39m\u001B[38;5;124mof nodes (\u001B[39m\u001B[38;5;132;01m{\u001B[39;00mnum_nodes\u001B[38;5;132;01m}\u001B[39;00m\u001B[38;5;124m) in \u001B[39m\u001B[38;5;124m'\u001B[39m\u001B[38;5;132;01m{\u001B[39;00mcls_name\u001B[38;5;132;01m}\u001B[39;00m\u001B[38;5;124m'\u001B[39m\u001B[38;5;124m \u001B[39m\u001B[38;5;124m\"\u001B[39m\n\u001B[1;32m    694\u001B[0m             \u001B[38;5;124mf\u001B[39m\u001B[38;5;124m\"\u001B[39m\u001B[38;5;124m(found \u001B[39m\u001B[38;5;132;01m{\u001B[39;00m\u001B[38;5;28mint\u001B[39m(\u001B[38;5;28mself\u001B[39m\u001B[38;5;241m.\u001B[39medge_index\u001B[38;5;241m.\u001B[39mmax())\u001B[38;5;132;01m}\u001B[39;00m\u001B[38;5;124m)\u001B[39m\u001B[38;5;124m\"\u001B[39m, raise_on_error)\n\u001B[1;32m    696\u001B[0m \u001B[38;5;28;01mreturn\u001B[39;00m status\n",
      "File \u001B[0;32m~/anaconda3/lib/python3.11/site-packages/torch_geometric/data/data.py:1186\u001B[0m, in \u001B[0;36mwarn_or_raise\u001B[0;34m(msg, raise_on_error)\u001B[0m\n\u001B[1;32m   1184\u001B[0m \u001B[38;5;28;01mdef\u001B[39;00m \u001B[38;5;21mwarn_or_raise\u001B[39m(msg: \u001B[38;5;28mstr\u001B[39m, raise_on_error: \u001B[38;5;28mbool\u001B[39m \u001B[38;5;241m=\u001B[39m \u001B[38;5;28;01mTrue\u001B[39;00m):\n\u001B[1;32m   1185\u001B[0m     \u001B[38;5;28;01mif\u001B[39;00m raise_on_error:\n\u001B[0;32m-> 1186\u001B[0m         \u001B[38;5;28;01mraise\u001B[39;00m \u001B[38;5;167;01mValueError\u001B[39;00m(msg)\n\u001B[1;32m   1187\u001B[0m     \u001B[38;5;28;01melse\u001B[39;00m:\n\u001B[1;32m   1188\u001B[0m         warnings\u001B[38;5;241m.\u001B[39mwarn(msg)\n",
      "\u001B[0;31mValueError\u001B[0m: 'edge_index' contains larger indices than the number of nodes (17682) in 'DataBatch' (found 17716)"
     ]
    }
   ],
   "source": [
    "valid = []\n",
    "for i, data in enumerate(train_loader):\n",
    "    if not data.validate():\n",
    "        pass\n",
    "    else:\n",
    "        print (i)\n",
    "        valid.append(i)\n",
    "\n",
    "\n"
   ],
   "metadata": {
    "collapsed": false,
    "ExecuteTime": {
     "end_time": "2024-02-07T15:38:39.910696040Z",
     "start_time": "2024-02-07T15:38:39.653982705Z"
    }
   },
   "id": "737d17130c012eb1"
  },
  {
   "cell_type": "code",
   "execution_count": 87,
   "outputs": [
    {
     "name": "stdout",
     "output_type": "stream",
     "text": [
      "epoch: 0 in progress...\n",
      "train computing\n"
     ]
    },
    {
     "name": "stderr",
     "output_type": "stream",
     "text": [
      "0it [00:00, ?it/s]"
     ]
    },
    {
     "name": "stdout",
     "output_type": "stream",
     "text": [
      "dataList loaded!\n"
     ]
    },
    {
     "name": "stderr",
     "output_type": "stream",
     "text": [
      "0it [00:10, ?it/s]\n"
     ]
    },
    {
     "ename": "ValueError",
     "evalue": "'edge_index' contains larger indices than the number of nodes (17682) in 'DataBatch' (found 35397)",
     "output_type": "error",
     "traceback": [
      "\u001B[0;31m---------------------------------------------------------------------------\u001B[0m",
      "\u001B[0;31mValueError\u001B[0m                                Traceback (most recent call last)",
      "Cell \u001B[0;32mIn[87], line 13\u001B[0m\n\u001B[1;32m     11\u001B[0m sample_batched \u001B[38;5;241m=\u001B[39m sample_batched\u001B[38;5;241m.\u001B[39mto(device)\n\u001B[1;32m     12\u001B[0m optimizer\u001B[38;5;241m.\u001B[39mzero_grad()\n\u001B[0;32m---> 13\u001B[0m outputs \u001B[38;5;241m=\u001B[39m model(sample_batched)\n\u001B[1;32m     14\u001B[0m label \u001B[38;5;241m=\u001B[39m sample_batched\u001B[38;5;241m.\u001B[39my\u001B[38;5;241m.\u001B[39mto(device)\n\u001B[1;32m     15\u001B[0m loss \u001B[38;5;241m=\u001B[39m criterion(outputs, label)\n",
      "File \u001B[0;32m~/anaconda3/lib/python3.11/site-packages/torch/nn/modules/module.py:1518\u001B[0m, in \u001B[0;36mModule._wrapped_call_impl\u001B[0;34m(self, *args, **kwargs)\u001B[0m\n\u001B[1;32m   1516\u001B[0m     \u001B[38;5;28;01mreturn\u001B[39;00m \u001B[38;5;28mself\u001B[39m\u001B[38;5;241m.\u001B[39m_compiled_call_impl(\u001B[38;5;241m*\u001B[39margs, \u001B[38;5;241m*\u001B[39m\u001B[38;5;241m*\u001B[39mkwargs)  \u001B[38;5;66;03m# type: ignore[misc]\u001B[39;00m\n\u001B[1;32m   1517\u001B[0m \u001B[38;5;28;01melse\u001B[39;00m:\n\u001B[0;32m-> 1518\u001B[0m     \u001B[38;5;28;01mreturn\u001B[39;00m \u001B[38;5;28mself\u001B[39m\u001B[38;5;241m.\u001B[39m_call_impl(\u001B[38;5;241m*\u001B[39margs, \u001B[38;5;241m*\u001B[39m\u001B[38;5;241m*\u001B[39mkwargs)\n",
      "File \u001B[0;32m~/anaconda3/lib/python3.11/site-packages/torch/nn/modules/module.py:1527\u001B[0m, in \u001B[0;36mModule._call_impl\u001B[0;34m(self, *args, **kwargs)\u001B[0m\n\u001B[1;32m   1522\u001B[0m \u001B[38;5;66;03m# If we don't have any hooks, we want to skip the rest of the logic in\u001B[39;00m\n\u001B[1;32m   1523\u001B[0m \u001B[38;5;66;03m# this function, and just call forward.\u001B[39;00m\n\u001B[1;32m   1524\u001B[0m \u001B[38;5;28;01mif\u001B[39;00m \u001B[38;5;129;01mnot\u001B[39;00m (\u001B[38;5;28mself\u001B[39m\u001B[38;5;241m.\u001B[39m_backward_hooks \u001B[38;5;129;01mor\u001B[39;00m \u001B[38;5;28mself\u001B[39m\u001B[38;5;241m.\u001B[39m_backward_pre_hooks \u001B[38;5;129;01mor\u001B[39;00m \u001B[38;5;28mself\u001B[39m\u001B[38;5;241m.\u001B[39m_forward_hooks \u001B[38;5;129;01mor\u001B[39;00m \u001B[38;5;28mself\u001B[39m\u001B[38;5;241m.\u001B[39m_forward_pre_hooks\n\u001B[1;32m   1525\u001B[0m         \u001B[38;5;129;01mor\u001B[39;00m _global_backward_pre_hooks \u001B[38;5;129;01mor\u001B[39;00m _global_backward_hooks\n\u001B[1;32m   1526\u001B[0m         \u001B[38;5;129;01mor\u001B[39;00m _global_forward_hooks \u001B[38;5;129;01mor\u001B[39;00m _global_forward_pre_hooks):\n\u001B[0;32m-> 1527\u001B[0m     \u001B[38;5;28;01mreturn\u001B[39;00m forward_call(\u001B[38;5;241m*\u001B[39margs, \u001B[38;5;241m*\u001B[39m\u001B[38;5;241m*\u001B[39mkwargs)\n\u001B[1;32m   1529\u001B[0m \u001B[38;5;28;01mtry\u001B[39;00m:\n\u001B[1;32m   1530\u001B[0m     result \u001B[38;5;241m=\u001B[39m \u001B[38;5;28;01mNone\u001B[39;00m\n",
      "Cell \u001B[0;32mIn[83], line 32\u001B[0m, in \u001B[0;36mFeedbackModel.forward\u001B[0;34m(self, data)\u001B[0m\n\u001B[1;32m     30\u001B[0m batch \u001B[38;5;241m=\u001B[39m Batch\u001B[38;5;241m.\u001B[39mfrom_data_list(data_list)\n\u001B[1;32m     31\u001B[0m \u001B[38;5;28mprint\u001B[39m(\u001B[38;5;124m'\u001B[39m\u001B[38;5;124mdataList loaded!\u001B[39m\u001B[38;5;124m'\u001B[39m)\n\u001B[0;32m---> 32\u001B[0m \u001B[38;5;28;01mif\u001B[39;00m batch\u001B[38;5;241m.\u001B[39mvalidate():\n\u001B[1;32m     33\u001B[0m     x \u001B[38;5;241m=\u001B[39m batch\u001B[38;5;241m.\u001B[39mx\n\u001B[1;32m     34\u001B[0m     sample_batched\u001B[38;5;241m=\u001B[39mbatch\u001B[38;5;241m.\u001B[39msample_batched\n",
      "File \u001B[0;32m~/anaconda3/lib/python3.11/site-packages/torch_geometric/data/data.py:691\u001B[0m, in \u001B[0;36mData.validate\u001B[0;34m(self, raise_on_error)\u001B[0m\n\u001B[1;32m    689\u001B[0m     \u001B[38;5;28;01mif\u001B[39;00m num_nodes \u001B[38;5;129;01mis\u001B[39;00m \u001B[38;5;129;01mnot\u001B[39;00m \u001B[38;5;28;01mNone\u001B[39;00m \u001B[38;5;129;01mand\u001B[39;00m \u001B[38;5;28mself\u001B[39m\u001B[38;5;241m.\u001B[39medge_index\u001B[38;5;241m.\u001B[39mmax() \u001B[38;5;241m>\u001B[39m\u001B[38;5;241m=\u001B[39m num_nodes:\n\u001B[1;32m    690\u001B[0m         status \u001B[38;5;241m=\u001B[39m \u001B[38;5;28;01mFalse\u001B[39;00m\n\u001B[0;32m--> 691\u001B[0m         warn_or_raise(\n\u001B[1;32m    692\u001B[0m             \u001B[38;5;124mf\u001B[39m\u001B[38;5;124m\"\u001B[39m\u001B[38;5;124m'\u001B[39m\u001B[38;5;124medge_index\u001B[39m\u001B[38;5;124m'\u001B[39m\u001B[38;5;124m contains larger indices than the number \u001B[39m\u001B[38;5;124m\"\u001B[39m\n\u001B[1;32m    693\u001B[0m             \u001B[38;5;124mf\u001B[39m\u001B[38;5;124m\"\u001B[39m\u001B[38;5;124mof nodes (\u001B[39m\u001B[38;5;132;01m{\u001B[39;00mnum_nodes\u001B[38;5;132;01m}\u001B[39;00m\u001B[38;5;124m) in \u001B[39m\u001B[38;5;124m'\u001B[39m\u001B[38;5;132;01m{\u001B[39;00mcls_name\u001B[38;5;132;01m}\u001B[39;00m\u001B[38;5;124m'\u001B[39m\u001B[38;5;124m \u001B[39m\u001B[38;5;124m\"\u001B[39m\n\u001B[1;32m    694\u001B[0m             \u001B[38;5;124mf\u001B[39m\u001B[38;5;124m\"\u001B[39m\u001B[38;5;124m(found \u001B[39m\u001B[38;5;132;01m{\u001B[39;00m\u001B[38;5;28mint\u001B[39m(\u001B[38;5;28mself\u001B[39m\u001B[38;5;241m.\u001B[39medge_index\u001B[38;5;241m.\u001B[39mmax())\u001B[38;5;132;01m}\u001B[39;00m\u001B[38;5;124m)\u001B[39m\u001B[38;5;124m\"\u001B[39m, raise_on_error)\n\u001B[1;32m    696\u001B[0m \u001B[38;5;28;01mreturn\u001B[39;00m status\n",
      "File \u001B[0;32m~/anaconda3/lib/python3.11/site-packages/torch_geometric/data/data.py:1186\u001B[0m, in \u001B[0;36mwarn_or_raise\u001B[0;34m(msg, raise_on_error)\u001B[0m\n\u001B[1;32m   1184\u001B[0m \u001B[38;5;28;01mdef\u001B[39;00m \u001B[38;5;21mwarn_or_raise\u001B[39m(msg: \u001B[38;5;28mstr\u001B[39m, raise_on_error: \u001B[38;5;28mbool\u001B[39m \u001B[38;5;241m=\u001B[39m \u001B[38;5;28;01mTrue\u001B[39;00m):\n\u001B[1;32m   1185\u001B[0m     \u001B[38;5;28;01mif\u001B[39;00m raise_on_error:\n\u001B[0;32m-> 1186\u001B[0m         \u001B[38;5;28;01mraise\u001B[39;00m \u001B[38;5;167;01mValueError\u001B[39;00m(msg)\n\u001B[1;32m   1187\u001B[0m     \u001B[38;5;28;01melse\u001B[39;00m:\n\u001B[1;32m   1188\u001B[0m         warnings\u001B[38;5;241m.\u001B[39mwarn(msg)\n",
      "\u001B[0;31mValueError\u001B[0m: 'edge_index' contains larger indices than the number of nodes (17682) in 'DataBatch' (found 35397)"
     ]
    }
   ],
   "source": [
    "\n",
    "\n",
    "total_loss = []\n",
    "for epoch_num in range(epochs):\n",
    "\n",
    "    model.train()\n",
    "    total_loss_train = 0\n",
    "    print(f'epoch: {epoch_num} in progress...')\n",
    "    print(f'train computing')\n",
    "    i=0\n",
    "    g=0\n",
    "    for j, sample_batched in tqdm(enumerate(train_loader)):\n",
    "        sample_batched = sample_batched.to(device)\n",
    "        optimizer.zero_grad()\n",
    "        outputs = model(sample_batched)\n",
    "        label = sample_batched.y.to(device)\n",
    "        loss = criterion(outputs, label)\n",
    "        loss.backward()\n",
    "        total_loss_train += loss.item()\n",
    "        optimizer.step()\n",
    "\n",
    "    model.eval()\n",
    "    total_loss_val = 0\n",
    "    g += len(train_loader)\n",
    "    print(f'{i/g*100} % validated')\n",
    "    print(f'train evaluating')\n",
    "    with torch.no_grad():\n",
    "        for k, sample_batched in tqdm(enumerate(val_loader)):\n",
    "            sample_batched = sample_batched.to(device)\n",
    "            outputs = model(sample_batched)\n",
    "            label = sample_batched.y.to(device)\n",
    "            loss = criterion(outputs, label)\n",
    "            total_loss_val += loss.item()\n",
    "\n",
    "    scheduler.step(total_loss_val / len(val_dataset))\n",
    "\n",
    "    print(f'Epoch: %02.0f ended | Train Loss: {total_loss_train / len(train_dataset): .3f} | Val Loss: {total_loss_val / len(val_dataset): .3f}' % (epoch_num + 1))\n",
    "    total_loss.append([total_loss_train / len(train_dataset), total_loss_val / len(val_dataset)])\n",
    "\n"
   ],
   "metadata": {
    "collapsed": false,
    "ExecuteTime": {
     "end_time": "2024-02-07T15:38:51.632334178Z",
     "start_time": "2024-02-07T15:38:40.582258379Z"
    }
   },
   "id": "9f8e679ac0c6a8be"
  },
  {
   "cell_type": "code",
   "execution_count": null,
   "outputs": [],
   "source": [],
   "metadata": {
    "collapsed": false,
    "ExecuteTime": {
     "start_time": "2024-02-03T05:48:27.525355322Z"
    }
   },
   "id": "cb64bb70be910cbc"
  },
  {
   "cell_type": "code",
   "execution_count": null,
   "outputs": [],
   "source": [],
   "metadata": {
    "collapsed": false,
    "ExecuteTime": {
     "end_time": "2024-02-03T05:48:27.707998971Z",
     "start_time": "2024-02-03T05:48:27.571511775Z"
    }
   },
   "id": "dc065d01c8214659"
  },
  {
   "cell_type": "code",
   "execution_count": null,
   "outputs": [],
   "source": [],
   "metadata": {
    "collapsed": false,
    "ExecuteTime": {
     "start_time": "2024-02-03T05:48:27.572501073Z"
    }
   },
   "id": "80c1db1c193c6946"
  },
  {
   "cell_type": "code",
   "execution_count": null,
   "outputs": [],
   "source": [],
   "metadata": {
    "collapsed": false,
    "ExecuteTime": {
     "start_time": "2024-02-03T05:48:27.573036617Z"
    }
   },
   "id": "c1537f9a68800e3e"
  },
  {
   "cell_type": "code",
   "execution_count": null,
   "outputs": [],
   "source": [],
   "metadata": {
    "collapsed": false,
    "ExecuteTime": {
     "start_time": "2024-02-03T05:48:27.573557787Z"
    }
   },
   "id": "24cea7a9cc91f2ac"
  },
  {
   "cell_type": "code",
   "execution_count": null,
   "outputs": [],
   "source": [],
   "metadata": {
    "collapsed": false
   },
   "id": "4dcee45a532fcbda"
  }
 ],
 "metadata": {
  "kernelspec": {
   "display_name": "Python 3",
   "language": "python",
   "name": "python3"
  },
  "language_info": {
   "codemirror_mode": {
    "name": "ipython",
    "version": 2
   },
   "file_extension": ".py",
   "mimetype": "text/x-python",
   "name": "python",
   "nbconvert_exporter": "python",
   "pygments_lexer": "ipython2",
   "version": "2.7.6"
  }
 },
 "nbformat": 4,
 "nbformat_minor": 5
}
