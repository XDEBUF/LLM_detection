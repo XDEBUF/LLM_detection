{
 "cells": [
  {
   "cell_type": "code",
   "execution_count": 7,
   "outputs": [],
   "source": [
    "import os.path\n",
    "from typing import Union, List, Tuple\n",
    "\n",
    "import pandas as pd\n",
    "import numpy as np\n",
    "from scipy.sparse import coo_matrix\n"
   ],
   "metadata": {
    "collapsed": false,
    "ExecuteTime": {
     "end_time": "2024-01-21T16:25:11.797306760Z",
     "start_time": "2024-01-21T16:25:11.592227098Z"
    }
   },
   "id": "ffd062eef4a11de9"
  },
  {
   "cell_type": "code",
   "execution_count": 8,
   "outputs": [],
   "source": [
    "import spacy"
   ],
   "metadata": {
    "collapsed": false,
    "ExecuteTime": {
     "end_time": "2024-01-21T16:25:12.749317590Z",
     "start_time": "2024-01-21T16:25:12.537909357Z"
    }
   },
   "id": "3d22b057bb4e12fd"
  },
  {
   "cell_type": "code",
   "execution_count": 44,
   "outputs": [],
   "source": [
    "df_sample = pd.read_csv('data.csv')"
   ],
   "metadata": {
    "collapsed": false,
    "ExecuteTime": {
     "end_time": "2024-01-21T16:34:08.739291706Z",
     "start_time": "2024-01-21T16:33:38.446801398Z"
    }
   },
   "id": "164de35a70c9f9dd"
  },
  {
   "cell_type": "markdown",
   "source": [
    "# balanced train and test data in each df"
   ],
   "metadata": {
    "collapsed": false
   },
   "id": "417bd8b9f4ebecb5"
  },
  {
   "cell_type": "code",
   "execution_count": 73,
   "outputs": [
    {
     "name": "stderr",
     "output_type": "stream",
     "text": [
      "/tmp/ipykernel_16387/2654886958.py:4: SettingWithCopyWarning: \n",
      "A value is trying to be set on a copy of a slice from a DataFrame.\n",
      "Try using .loc[row_indexer,col_indexer] = value instead\n",
      "\n",
      "See the caveats in the documentation: https://pandas.pydata.org/pandas-docs/stable/user_guide/indexing.html#returning-a-view-versus-a-copy\n",
      "  df_llm.source='LLM'\n"
     ]
    }
   ],
   "source": [
    "ratio=0.8\n",
    "df_human= df_sample[df_sample['source']=='Human']\n",
    "df_llm = df_sample[df_sample['source']!='Human']\n",
    "df_llm.source='LLM'\n",
    "cut_idx_l=int(np.ceil(len(df_llm)*ratio))\n",
    "cut_idx_h=int(np.ceil(len(df_human)*ratio))\n",
    "df_train_human = df_human[:cut_idx_h]\n",
    "df_test_human = df_human[cut_idx_h:]\n",
    "df_train_llm = df_llm[:cut_idx_l]\n",
    "df_test_llm = df_llm[cut_idx_l:]\n",
    "df_train=pd.concat([df_train_human,df_train_llm])\n",
    "df_test=pd.concat([df_test_human,df_test_llm])"
   ],
   "metadata": {
    "collapsed": false,
    "ExecuteTime": {
     "end_time": "2024-01-21T19:02:42.042661813Z",
     "start_time": "2024-01-21T19:02:41.670384036Z"
    }
   },
   "id": "ffe2703229275115"
  },
  {
   "cell_type": "code",
   "execution_count": 74,
   "outputs": [
    {
     "data": {
      "text/plain": "source\nLLM      352984\nHuman    278154\nName: count, dtype: int64"
     },
     "execution_count": 74,
     "metadata": {},
     "output_type": "execute_result"
    }
   ],
   "source": [
    "df_train.source.value_counts()\n"
   ],
   "metadata": {
    "collapsed": false,
    "ExecuteTime": {
     "end_time": "2024-01-21T19:02:44.463170623Z",
     "start_time": "2024-01-21T19:02:44.200119330Z"
    }
   },
   "id": "b51a27f90831d2c7"
  },
  {
   "cell_type": "code",
   "execution_count": 75,
   "outputs": [
    {
     "data": {
      "text/plain": "source\nLLM      88246\nHuman    69538\nName: count, dtype: int64"
     },
     "execution_count": 75,
     "metadata": {},
     "output_type": "execute_result"
    }
   ],
   "source": [
    "\n",
    "df_test.source.value_counts()"
   ],
   "metadata": {
    "collapsed": false,
    "ExecuteTime": {
     "end_time": "2024-01-21T19:02:48.837993615Z",
     "start_time": "2024-01-21T19:02:48.619642312Z"
    }
   },
   "id": "bc9db0f6a23f44f1"
  },
  {
   "cell_type": "code",
   "execution_count": 76,
   "outputs": [
    {
     "data": {
      "text/plain": "                                                     text source  prompt_id  \\\n156512  There is a saying in my home that goes, \"You t...  Human          0   \n156513  Williams-Sonoma: Strategies and Future Prospec...  Human          0   \n156514  Shristi, your first two paragraphs are irrelev...  Human          0   \n156515  Extended Lifespan and Its Great Danger Essay\\n...  Human          0   \n156516  Imperialism and Nationalism in Middle Eastern ...  Human          0   \n156517  The Power of Free Speech Essay\\n\\nTable of Con...  Human          0   \n156518  Accounting and Auditing Practices Essay (Artic...  Human          0   \n156519  Civil War Effect on Medicine and Public Health...  Human          0   \n156520  Simple Stimulus Learning: Habituation and Perc...  Human          0   \n156521  Core Ethical Values of a Lawyer Essay\\n\\nTable...  Human          0   \n\n        text_length  word_count  \n156512         1524         268  \n156513         5985         904  \n156514         1124         187  \n156515         7578        1261  \n156516         9350        1441  \n156517         8629        1408  \n156518         4103         649  \n156519         2455         383  \n156520         8773        1315  \n156521         5500         857  ",
      "text/html": "<div>\n<style scoped>\n    .dataframe tbody tr th:only-of-type {\n        vertical-align: middle;\n    }\n\n    .dataframe tbody tr th {\n        vertical-align: top;\n    }\n\n    .dataframe thead th {\n        text-align: right;\n    }\n</style>\n<table border=\"1\" class=\"dataframe\">\n  <thead>\n    <tr style=\"text-align: right;\">\n      <th></th>\n      <th>text</th>\n      <th>source</th>\n      <th>prompt_id</th>\n      <th>text_length</th>\n      <th>word_count</th>\n    </tr>\n  </thead>\n  <tbody>\n    <tr>\n      <th>156512</th>\n      <td>There is a saying in my home that goes, \"You t...</td>\n      <td>Human</td>\n      <td>0</td>\n      <td>1524</td>\n      <td>268</td>\n    </tr>\n    <tr>\n      <th>156513</th>\n      <td>Williams-Sonoma: Strategies and Future Prospec...</td>\n      <td>Human</td>\n      <td>0</td>\n      <td>5985</td>\n      <td>904</td>\n    </tr>\n    <tr>\n      <th>156514</th>\n      <td>Shristi, your first two paragraphs are irrelev...</td>\n      <td>Human</td>\n      <td>0</td>\n      <td>1124</td>\n      <td>187</td>\n    </tr>\n    <tr>\n      <th>156515</th>\n      <td>Extended Lifespan and Its Great Danger Essay\\n...</td>\n      <td>Human</td>\n      <td>0</td>\n      <td>7578</td>\n      <td>1261</td>\n    </tr>\n    <tr>\n      <th>156516</th>\n      <td>Imperialism and Nationalism in Middle Eastern ...</td>\n      <td>Human</td>\n      <td>0</td>\n      <td>9350</td>\n      <td>1441</td>\n    </tr>\n    <tr>\n      <th>156517</th>\n      <td>The Power of Free Speech Essay\\n\\nTable of Con...</td>\n      <td>Human</td>\n      <td>0</td>\n      <td>8629</td>\n      <td>1408</td>\n    </tr>\n    <tr>\n      <th>156518</th>\n      <td>Accounting and Auditing Practices Essay (Artic...</td>\n      <td>Human</td>\n      <td>0</td>\n      <td>4103</td>\n      <td>649</td>\n    </tr>\n    <tr>\n      <th>156519</th>\n      <td>Civil War Effect on Medicine and Public Health...</td>\n      <td>Human</td>\n      <td>0</td>\n      <td>2455</td>\n      <td>383</td>\n    </tr>\n    <tr>\n      <th>156520</th>\n      <td>Simple Stimulus Learning: Habituation and Perc...</td>\n      <td>Human</td>\n      <td>0</td>\n      <td>8773</td>\n      <td>1315</td>\n    </tr>\n    <tr>\n      <th>156521</th>\n      <td>Core Ethical Values of a Lawyer Essay\\n\\nTable...</td>\n      <td>Human</td>\n      <td>0</td>\n      <td>5500</td>\n      <td>857</td>\n    </tr>\n  </tbody>\n</table>\n</div>"
     },
     "execution_count": 76,
     "metadata": {},
     "output_type": "execute_result"
    }
   ],
   "source": [
    "df_train.head(10)"
   ],
   "metadata": {
    "collapsed": false,
    "ExecuteTime": {
     "end_time": "2024-01-21T19:03:00.101143840Z",
     "start_time": "2024-01-21T19:02:59.822970069Z"
    }
   },
   "id": "8ba60a3a667ba0ec"
  },
  {
   "cell_type": "code",
   "execution_count": 59,
   "outputs": [
    {
     "data": {
      "text/plain": "source\nText-Davinci-003             False\nText-Davinci-002             False\nOPT-30B                      False\nPaLM-2                       False\nOpenChat-3.5                 False\nT0-3B                        False\nOPT-2.7B                     False\nOPT-6.7B                     False\nOPT-350M                     False\nT0-11B                       False\nUnknown                      False\nOPT-13B                      False\nPsyfighter-13B               False\nStripedHyena-Nous-7B         False\nYI-34B                       False\nPsyfighter-2-13B             False\nText-Davinci-001             False\nText-Curie-001               False\nText-Babbage-001             False\nText-Ada-001                 False\nOpenHermes-2-Mistral-7B      False\nOpenHermes-2.5-Mistral-7B    False\nRWKV-5-World-3B              False\nToppy-M-7B                   False\nName: count, dtype: bool"
     },
     "execution_count": 59,
     "metadata": {},
     "output_type": "execute_result"
    }
   ],
   "source": [
    "df_test.source.value_counts()=='Human'"
   ],
   "metadata": {
    "collapsed": false,
    "ExecuteTime": {
     "end_time": "2024-01-21T16:48:26.114672941Z",
     "start_time": "2024-01-21T16:48:25.863666847Z"
    }
   },
   "id": "5f07b89b4dc0e709"
  },
  {
   "cell_type": "code",
   "execution_count": 48,
   "outputs": [
    {
     "data": {
      "text/plain": "(788922, 5)"
     },
     "execution_count": 48,
     "metadata": {},
     "output_type": "execute_result"
    }
   ],
   "source": [
    "df_sample.shape"
   ],
   "metadata": {
    "collapsed": false,
    "ExecuteTime": {
     "end_time": "2024-01-21T16:40:43.742147245Z",
     "start_time": "2024-01-21T16:40:43.524333757Z"
    }
   },
   "id": "e00a54266e786957"
  },
  {
   "cell_type": "code",
   "execution_count": 49,
   "outputs": [
    {
     "data": {
      "text/plain": "text           0\nsource         0\nprompt_id      0\ntext_length    0\nword_count     0\ndtype: int64"
     },
     "execution_count": 49,
     "metadata": {},
     "output_type": "execute_result"
    }
   ],
   "source": [
    "df_sample.isna().sum()"
   ],
   "metadata": {
    "collapsed": false,
    "ExecuteTime": {
     "end_time": "2024-01-21T16:40:45.245569820Z",
     "start_time": "2024-01-21T16:40:45.177127088Z"
    }
   },
   "id": "a0e7cda1ba98ec74"
  },
  {
   "cell_type": "code",
   "execution_count": 50,
   "outputs": [
    {
     "data": {
      "text/plain": "(631138, 5)"
     },
     "execution_count": 50,
     "metadata": {},
     "output_type": "execute_result"
    }
   ],
   "source": [
    "df_train.shape"
   ],
   "metadata": {
    "collapsed": false,
    "ExecuteTime": {
     "end_time": "2024-01-21T16:40:47.257912516Z",
     "start_time": "2024-01-21T16:40:47.006446285Z"
    }
   },
   "id": "8cfa5fb19b65016d"
  },
  {
   "cell_type": "code",
   "execution_count": 51,
   "outputs": [
    {
     "data": {
      "text/plain": "(157784, 5)"
     },
     "execution_count": 51,
     "metadata": {},
     "output_type": "execute_result"
    }
   ],
   "source": [
    "df_test.shape"
   ],
   "metadata": {
    "collapsed": false,
    "ExecuteTime": {
     "end_time": "2024-01-21T16:40:48.564567078Z",
     "start_time": "2024-01-21T16:40:48.438023837Z"
    }
   },
   "id": "e63c4c62d7ad899e"
  },
  {
   "cell_type": "code",
   "execution_count": 52,
   "outputs": [
    {
     "data": {
      "text/plain": "source\nHuman                       347692\nGPT-3.5                      52346\nOPT-1.3B                     18467\nNous-Hermes-LLaMA-2-13B      12686\nMistral-7B                   10439\nLLaMA-30B                     9340\nLLaMA-65B                     9321\nLLaMA-13B                     9282\nLLaMA-7B                      9271\nFlan-T5-Base                  9201\nFlan-T5-Large                 9164\nFlan-T5-Small                 9144\nFlan-T5-XXL                   9113\nGLM-130B                      9071\nFlan-T5-XL                    8986\nGPT-4                         8852\nOPT-125M                      8823\nBloom-7B                      8812\nGPT-J                         7580\nClaude-Instant-v1             7147\nGPT-NeoX                      6821\nMythoMax-L2-13B               6147\nNeural-Chat-7B                5858\nLZLV-70B                      5143\nLLaMA-2-70B                   5000\nFalcon-180B                   4745\nNous-Capybara-34B             3327\nNous-Capybara-7B              3204\nClaude-v1                     3158\nMistral-7B-OpenOrca           3058\nMixtral-8x7B                  2865\nOPT-13B                       2318\nNoromaid-20B                  1326\nGoliath-120B                   734\nNous-Hermes-LLaMA-2-70B        650\nGemini-Pro                     613\nLLaMA-2-7B                     409\nDolphin-Mixtral-8x7B           407\nCohere-Command                 390\nDolphin-2.5-Mixtral-8x7B       228\nName: count, dtype: int64"
     },
     "execution_count": 52,
     "metadata": {},
     "output_type": "execute_result"
    }
   ],
   "source": [
    "df_train.source.value_counts()"
   ],
   "metadata": {
    "collapsed": false,
    "ExecuteTime": {
     "end_time": "2024-01-21T16:41:10.480543377Z",
     "start_time": "2024-01-21T16:41:10.316262206Z"
    }
   },
   "id": "2745623d2206f217"
  },
  {
   "cell_type": "code",
   "execution_count": 53,
   "outputs": [
    {
     "data": {
      "text/plain": "source\nText-Davinci-003             22860\nText-Davinci-002             21436\nOPT-30B                      18055\nPaLM-2                        9510\nOpenChat-3.5                  9402\nT0-3B                         9219\nOPT-2.7B                      9134\nOPT-6.7B                      8838\nOPT-350M                      8747\nT0-11B                        8705\nUnknown                       6093\nOPT-13B                       5769\nPsyfighter-13B                4375\nStripedHyena-Nous-7B          3520\nYI-34B                        3520\nPsyfighter-2-13B              2743\nText-Davinci-001              1120\nText-Curie-001                1008\nText-Babbage-001               875\nText-Ada-001                   691\nOpenHermes-2-Mistral-7B        623\nOpenHermes-2.5-Mistral-7B      612\nRWKV-5-World-3B                496\nToppy-M-7B                     433\nName: count, dtype: int64"
     },
     "execution_count": 53,
     "metadata": {},
     "output_type": "execute_result"
    }
   ],
   "source": [
    "df_test.source.value_counts()"
   ],
   "metadata": {
    "collapsed": false,
    "ExecuteTime": {
     "end_time": "2024-01-21T16:41:19.810057586Z",
     "start_time": "2024-01-21T16:41:19.514903107Z"
    }
   },
   "id": "ac2a0e2e2e243b28"
  },
  {
   "cell_type": "code",
   "execution_count": 34,
   "outputs": [
    {
     "name": "stderr",
     "output_type": "stream",
     "text": [
      "/tmp/ipykernel_16387/728325250.py:1: SettingWithCopyWarning: \n",
      "A value is trying to be set on a copy of a slice from a DataFrame.\n",
      "Try using .loc[row_indexer,col_indexer] = value instead\n",
      "\n",
      "See the caveats in the documentation: https://pandas.pydata.org/pandas-docs/stable/user_guide/indexing.html#returning-a-view-versus-a-copy\n",
      "  df_train[df_train['source']!='Human']='LLM'\n",
      "/tmp/ipykernel_16387/728325250.py:1: FutureWarning: Setting an item of incompatible dtype is deprecated and will raise in a future error of pandas. Value 'LLM' has dtype incompatible with int64, please explicitly cast to a compatible dtype first.\n",
      "  df_train[df_train['source']!='Human']='LLM'\n"
     ]
    }
   ],
   "source": [
    "df_train[df_train['source']!='Human']='LLM'"
   ],
   "metadata": {
    "collapsed": false,
    "ExecuteTime": {
     "end_time": "2024-01-21T16:32:15.594738778Z",
     "start_time": "2024-01-21T16:32:15.277322272Z"
    }
   },
   "id": "7e7a6c69bb526736"
  },
  {
   "cell_type": "code",
   "execution_count": 35,
   "outputs": [
    {
     "name": "stderr",
     "output_type": "stream",
     "text": [
      "/tmp/ipykernel_16387/318477906.py:1: SettingWithCopyWarning: \n",
      "A value is trying to be set on a copy of a slice from a DataFrame.\n",
      "Try using .loc[row_indexer,col_indexer] = value instead\n",
      "\n",
      "See the caveats in the documentation: https://pandas.pydata.org/pandas-docs/stable/user_guide/indexing.html#returning-a-view-versus-a-copy\n",
      "  df_test[df_test['source']!='Human']='LLM'\n",
      "/tmp/ipykernel_16387/318477906.py:1: FutureWarning: Setting an item of incompatible dtype is deprecated and will raise in a future error of pandas. Value 'LLM' has dtype incompatible with int64, please explicitly cast to a compatible dtype first.\n",
      "  df_test[df_test['source']!='Human']='LLM'\n"
     ]
    }
   ],
   "source": [
    "df_test[df_test['source']!='Human']='LLM'"
   ],
   "metadata": {
    "collapsed": false,
    "ExecuteTime": {
     "end_time": "2024-01-21T16:32:17.183534529Z",
     "start_time": "2024-01-21T16:32:17.033002776Z"
    }
   },
   "id": "e92742415050b1b3"
  },
  {
   "cell_type": "code",
   "execution_count": 36,
   "outputs": [
    {
     "data": {
      "text/plain": "source\nHuman    347692\nLLM      283446\nName: count, dtype: int64"
     },
     "execution_count": 36,
     "metadata": {},
     "output_type": "execute_result"
    }
   ],
   "source": [
    "df_train.source.value_counts()"
   ],
   "metadata": {
    "collapsed": false,
    "ExecuteTime": {
     "end_time": "2024-01-21T16:32:18.781317636Z",
     "start_time": "2024-01-21T16:32:18.660639521Z"
    }
   },
   "id": "3d851634c8ca7f2f"
  },
  {
   "cell_type": "code",
   "execution_count": 37,
   "outputs": [
    {
     "data": {
      "text/plain": "source\nLLM    157784\nName: count, dtype: int64"
     },
     "execution_count": 37,
     "metadata": {},
     "output_type": "execute_result"
    }
   ],
   "source": [
    "df_test.source.value_counts()"
   ],
   "metadata": {
    "collapsed": false,
    "ExecuteTime": {
     "end_time": "2024-01-21T16:32:21.364553667Z",
     "start_time": "2024-01-21T16:32:21.165426139Z"
    }
   },
   "id": "bcf8f12ba9d73ba1"
  },
  {
   "cell_type": "code",
   "execution_count": 12,
   "outputs": [
    {
     "name": "stdout",
     "output_type": "stream",
     "text": [
      "/bin/bash: warning: setlocale: LC_ALL: cannot change locale (en_US.UTF-8)\r\n",
      "Collecting en-core-web-trf==3.7.3\r\n",
      "  Downloading https://github.com/explosion/spacy-models/releases/download/en_core_web_trf-3.7.3/en_core_web_trf-3.7.3-py3-none-any.whl (457.4 MB)\r\n",
      "\u001B[2K     \u001B[90m━━━━━━━━━━━━━━━━━━━━━━━━━━━━━━━━━━━━━━━\u001B[0m \u001B[32m457.4/457.4 MB\u001B[0m \u001B[31m2.5 MB/s\u001B[0m eta \u001B[36m0:00:00\u001B[0m00:01\u001B[0m00:01\u001B[0m\r\n",
      "\u001B[?25hRequirement already satisfied: spacy<3.8.0,>=3.7.2 in /home/blackswan/anaconda3/lib/python3.11/site-packages (from en-core-web-trf==3.7.3) (3.7.2)\r\n",
      "Requirement already satisfied: spacy-curated-transformers<0.3.0,>=0.2.0 in /home/blackswan/anaconda3/lib/python3.11/site-packages (from en-core-web-trf==3.7.3) (0.2.1)\r\n",
      "Requirement already satisfied: spacy-legacy<3.1.0,>=3.0.11 in /home/blackswan/anaconda3/lib/python3.11/site-packages (from spacy<3.8.0,>=3.7.2->en-core-web-trf==3.7.3) (3.0.12)\r\n",
      "Requirement already satisfied: spacy-loggers<2.0.0,>=1.0.0 in /home/blackswan/anaconda3/lib/python3.11/site-packages (from spacy<3.8.0,>=3.7.2->en-core-web-trf==3.7.3) (1.0.4)\r\n",
      "Requirement already satisfied: murmurhash<1.1.0,>=0.28.0 in /home/blackswan/anaconda3/lib/python3.11/site-packages (from spacy<3.8.0,>=3.7.2->en-core-web-trf==3.7.3) (1.0.7)\r\n",
      "Requirement already satisfied: cymem<2.1.0,>=2.0.2 in /home/blackswan/anaconda3/lib/python3.11/site-packages (from spacy<3.8.0,>=3.7.2->en-core-web-trf==3.7.3) (2.0.6)\r\n",
      "Requirement already satisfied: preshed<3.1.0,>=3.0.2 in /home/blackswan/anaconda3/lib/python3.11/site-packages (from spacy<3.8.0,>=3.7.2->en-core-web-trf==3.7.3) (3.0.6)\r\n",
      "Requirement already satisfied: thinc<8.3.0,>=8.1.8 in /home/blackswan/anaconda3/lib/python3.11/site-packages (from spacy<3.8.0,>=3.7.2->en-core-web-trf==3.7.3) (8.2.2)\r\n",
      "Requirement already satisfied: wasabi<1.2.0,>=0.9.1 in /home/blackswan/anaconda3/lib/python3.11/site-packages (from spacy<3.8.0,>=3.7.2->en-core-web-trf==3.7.3) (0.9.1)\r\n",
      "Requirement already satisfied: srsly<3.0.0,>=2.4.3 in /home/blackswan/anaconda3/lib/python3.11/site-packages (from spacy<3.8.0,>=3.7.2->en-core-web-trf==3.7.3) (2.4.8)\r\n",
      "Requirement already satisfied: catalogue<2.1.0,>=2.0.6 in /home/blackswan/anaconda3/lib/python3.11/site-packages (from spacy<3.8.0,>=3.7.2->en-core-web-trf==3.7.3) (2.0.10)\r\n",
      "Requirement already satisfied: weasel<0.4.0,>=0.1.0 in /home/blackswan/anaconda3/lib/python3.11/site-packages (from spacy<3.8.0,>=3.7.2->en-core-web-trf==3.7.3) (0.3.4)\r\n",
      "Requirement already satisfied: typer<0.10.0,>=0.3.0 in /home/blackswan/anaconda3/lib/python3.11/site-packages (from spacy<3.8.0,>=3.7.2->en-core-web-trf==3.7.3) (0.9.0)\r\n",
      "Requirement already satisfied: smart-open<7.0.0,>=5.2.1 in /home/blackswan/anaconda3/lib/python3.11/site-packages (from spacy<3.8.0,>=3.7.2->en-core-web-trf==3.7.3) (5.2.1)\r\n",
      "Requirement already satisfied: tqdm<5.0.0,>=4.38.0 in /home/blackswan/anaconda3/lib/python3.11/site-packages (from spacy<3.8.0,>=3.7.2->en-core-web-trf==3.7.3) (4.65.0)\r\n",
      "Requirement already satisfied: requests<3.0.0,>=2.13.0 in /home/blackswan/anaconda3/lib/python3.11/site-packages (from spacy<3.8.0,>=3.7.2->en-core-web-trf==3.7.3) (2.31.0)\r\n",
      "Requirement already satisfied: pydantic!=1.8,!=1.8.1,<3.0.0,>=1.7.4 in /home/blackswan/anaconda3/lib/python3.11/site-packages (from spacy<3.8.0,>=3.7.2->en-core-web-trf==3.7.3) (1.10.8)\r\n",
      "Requirement already satisfied: jinja2 in /home/blackswan/anaconda3/lib/python3.11/site-packages (from spacy<3.8.0,>=3.7.2->en-core-web-trf==3.7.3) (3.1.2)\r\n",
      "Requirement already satisfied: setuptools in /home/blackswan/anaconda3/lib/python3.11/site-packages (from spacy<3.8.0,>=3.7.2->en-core-web-trf==3.7.3) (68.0.0)\r\n",
      "Requirement already satisfied: packaging>=20.0 in /home/blackswan/anaconda3/lib/python3.11/site-packages (from spacy<3.8.0,>=3.7.2->en-core-web-trf==3.7.3) (23.1)\r\n",
      "Requirement already satisfied: langcodes<4.0.0,>=3.2.0 in /home/blackswan/anaconda3/lib/python3.11/site-packages (from spacy<3.8.0,>=3.7.2->en-core-web-trf==3.7.3) (3.3.0)\r\n",
      "Requirement already satisfied: numpy>=1.19.0 in /home/blackswan/anaconda3/lib/python3.11/site-packages (from spacy<3.8.0,>=3.7.2->en-core-web-trf==3.7.3) (1.23.5)\r\n",
      "Requirement already satisfied: curated-transformers<0.2.0,>=0.1.0 in /home/blackswan/anaconda3/lib/python3.11/site-packages (from spacy-curated-transformers<0.3.0,>=0.2.0->en-core-web-trf==3.7.3) (0.1.1)\r\n",
      "Requirement already satisfied: curated-tokenizers<0.1.0,>=0.0.7 in /home/blackswan/anaconda3/lib/python3.11/site-packages (from spacy-curated-transformers<0.3.0,>=0.2.0->en-core-web-trf==3.7.3) (0.0.8)\r\n",
      "Requirement already satisfied: torch>=1.12.0 in /home/blackswan/anaconda3/lib/python3.11/site-packages (from spacy-curated-transformers<0.3.0,>=0.2.0->en-core-web-trf==3.7.3) (2.1.2)\r\n",
      "Requirement already satisfied: regex>=2022 in /home/blackswan/anaconda3/lib/python3.11/site-packages (from curated-tokenizers<0.1.0,>=0.0.7->spacy-curated-transformers<0.3.0,>=0.2.0->en-core-web-trf==3.7.3) (2022.7.9)\r\n",
      "Requirement already satisfied: typing-extensions>=4.2.0 in /home/blackswan/anaconda3/lib/python3.11/site-packages (from pydantic!=1.8,!=1.8.1,<3.0.0,>=1.7.4->spacy<3.8.0,>=3.7.2->en-core-web-trf==3.7.3) (4.7.1)\r\n",
      "Requirement already satisfied: charset-normalizer<4,>=2 in /home/blackswan/anaconda3/lib/python3.11/site-packages (from requests<3.0.0,>=2.13.0->spacy<3.8.0,>=3.7.2->en-core-web-trf==3.7.3) (2.0.4)\r\n",
      "Requirement already satisfied: idna<4,>=2.5 in /home/blackswan/anaconda3/lib/python3.11/site-packages (from requests<3.0.0,>=2.13.0->spacy<3.8.0,>=3.7.2->en-core-web-trf==3.7.3) (3.4)\r\n",
      "Requirement already satisfied: urllib3<3,>=1.21.1 in /home/blackswan/anaconda3/lib/python3.11/site-packages (from requests<3.0.0,>=2.13.0->spacy<3.8.0,>=3.7.2->en-core-web-trf==3.7.3) (1.26.16)\r\n",
      "Requirement already satisfied: certifi>=2017.4.17 in /home/blackswan/anaconda3/lib/python3.11/site-packages (from requests<3.0.0,>=2.13.0->spacy<3.8.0,>=3.7.2->en-core-web-trf==3.7.3) (2023.11.17)\r\n",
      "Requirement already satisfied: blis<0.8.0,>=0.7.8 in /home/blackswan/anaconda3/lib/python3.11/site-packages (from thinc<8.3.0,>=8.1.8->spacy<3.8.0,>=3.7.2->en-core-web-trf==3.7.3) (0.7.9)\r\n",
      "Requirement already satisfied: confection<1.0.0,>=0.0.1 in /home/blackswan/anaconda3/lib/python3.11/site-packages (from thinc<8.3.0,>=8.1.8->spacy<3.8.0,>=3.7.2->en-core-web-trf==3.7.3) (0.1.4)\r\n",
      "Requirement already satisfied: filelock in /home/blackswan/anaconda3/lib/python3.11/site-packages (from torch>=1.12.0->spacy-curated-transformers<0.3.0,>=0.2.0->en-core-web-trf==3.7.3) (3.9.0)\r\n",
      "Requirement already satisfied: sympy in /home/blackswan/anaconda3/lib/python3.11/site-packages (from torch>=1.12.0->spacy-curated-transformers<0.3.0,>=0.2.0->en-core-web-trf==3.7.3) (1.11.1)\r\n",
      "Requirement already satisfied: networkx in /home/blackswan/anaconda3/lib/python3.11/site-packages (from torch>=1.12.0->spacy-curated-transformers<0.3.0,>=0.2.0->en-core-web-trf==3.7.3) (3.1)\r\n",
      "Requirement already satisfied: fsspec in /home/blackswan/anaconda3/lib/python3.11/site-packages (from torch>=1.12.0->spacy-curated-transformers<0.3.0,>=0.2.0->en-core-web-trf==3.7.3) (2023.4.0)\r\n",
      "Requirement already satisfied: nvidia-cuda-nvrtc-cu12==12.1.105 in /home/blackswan/anaconda3/lib/python3.11/site-packages (from torch>=1.12.0->spacy-curated-transformers<0.3.0,>=0.2.0->en-core-web-trf==3.7.3) (12.1.105)\r\n",
      "Requirement already satisfied: nvidia-cuda-runtime-cu12==12.1.105 in /home/blackswan/anaconda3/lib/python3.11/site-packages (from torch>=1.12.0->spacy-curated-transformers<0.3.0,>=0.2.0->en-core-web-trf==3.7.3) (12.1.105)\r\n",
      "Requirement already satisfied: nvidia-cuda-cupti-cu12==12.1.105 in /home/blackswan/anaconda3/lib/python3.11/site-packages (from torch>=1.12.0->spacy-curated-transformers<0.3.0,>=0.2.0->en-core-web-trf==3.7.3) (12.1.105)\r\n",
      "Requirement already satisfied: nvidia-cudnn-cu12==8.9.2.26 in /home/blackswan/anaconda3/lib/python3.11/site-packages (from torch>=1.12.0->spacy-curated-transformers<0.3.0,>=0.2.0->en-core-web-trf==3.7.3) (8.9.2.26)\r\n",
      "Requirement already satisfied: nvidia-cublas-cu12==12.1.3.1 in /home/blackswan/anaconda3/lib/python3.11/site-packages (from torch>=1.12.0->spacy-curated-transformers<0.3.0,>=0.2.0->en-core-web-trf==3.7.3) (12.1.3.1)\r\n",
      "Requirement already satisfied: nvidia-cufft-cu12==11.0.2.54 in /home/blackswan/anaconda3/lib/python3.11/site-packages (from torch>=1.12.0->spacy-curated-transformers<0.3.0,>=0.2.0->en-core-web-trf==3.7.3) (11.0.2.54)\r\n",
      "Requirement already satisfied: nvidia-curand-cu12==10.3.2.106 in /home/blackswan/anaconda3/lib/python3.11/site-packages (from torch>=1.12.0->spacy-curated-transformers<0.3.0,>=0.2.0->en-core-web-trf==3.7.3) (10.3.2.106)\r\n",
      "Requirement already satisfied: nvidia-cusolver-cu12==11.4.5.107 in /home/blackswan/anaconda3/lib/python3.11/site-packages (from torch>=1.12.0->spacy-curated-transformers<0.3.0,>=0.2.0->en-core-web-trf==3.7.3) (11.4.5.107)\r\n",
      "Requirement already satisfied: nvidia-cusparse-cu12==12.1.0.106 in /home/blackswan/anaconda3/lib/python3.11/site-packages (from torch>=1.12.0->spacy-curated-transformers<0.3.0,>=0.2.0->en-core-web-trf==3.7.3) (12.1.0.106)\r\n",
      "Requirement already satisfied: nvidia-nccl-cu12==2.18.1 in /home/blackswan/anaconda3/lib/python3.11/site-packages (from torch>=1.12.0->spacy-curated-transformers<0.3.0,>=0.2.0->en-core-web-trf==3.7.3) (2.18.1)\r\n",
      "Requirement already satisfied: nvidia-nvtx-cu12==12.1.105 in /home/blackswan/anaconda3/lib/python3.11/site-packages (from torch>=1.12.0->spacy-curated-transformers<0.3.0,>=0.2.0->en-core-web-trf==3.7.3) (12.1.105)\r\n",
      "Requirement already satisfied: triton==2.1.0 in /home/blackswan/anaconda3/lib/python3.11/site-packages (from torch>=1.12.0->spacy-curated-transformers<0.3.0,>=0.2.0->en-core-web-trf==3.7.3) (2.1.0)\r\n",
      "Requirement already satisfied: nvidia-nvjitlink-cu12 in /home/blackswan/anaconda3/lib/python3.11/site-packages (from nvidia-cusolver-cu12==11.4.5.107->torch>=1.12.0->spacy-curated-transformers<0.3.0,>=0.2.0->en-core-web-trf==3.7.3) (12.3.101)\r\n",
      "Requirement already satisfied: click<9.0.0,>=7.1.1 in /home/blackswan/anaconda3/lib/python3.11/site-packages (from typer<0.10.0,>=0.3.0->spacy<3.8.0,>=3.7.2->en-core-web-trf==3.7.3) (8.0.4)\r\n",
      "Requirement already satisfied: cloudpathlib<0.17.0,>=0.7.0 in /home/blackswan/anaconda3/lib/python3.11/site-packages (from weasel<0.4.0,>=0.1.0->spacy<3.8.0,>=3.7.2->en-core-web-trf==3.7.3) (0.16.0)\r\n",
      "Requirement already satisfied: MarkupSafe>=2.0 in /home/blackswan/anaconda3/lib/python3.11/site-packages (from jinja2->spacy<3.8.0,>=3.7.2->en-core-web-trf==3.7.3) (2.1.1)\r\n",
      "Requirement already satisfied: mpmath>=0.19 in /home/blackswan/anaconda3/lib/python3.11/site-packages (from sympy->torch>=1.12.0->spacy-curated-transformers<0.3.0,>=0.2.0->en-core-web-trf==3.7.3) (1.3.0)\r\n",
      "\u001B[38;5;2m✔ Download and installation successful\u001B[0m\r\n",
      "You can now load the package via spacy.load('en_core_web_trf')\r\n"
     ]
    }
   ],
   "source": [
    "!python -m spacy download en_core_web_trf"
   ],
   "metadata": {
    "collapsed": false,
    "ExecuteTime": {
     "end_time": "2024-01-21T10:56:06.312491216Z",
     "start_time": "2024-01-21T10:55:39.284285387Z"
    }
   },
   "id": "6ca3a5163b0e9069"
  },
  {
   "cell_type": "code",
   "execution_count": 18,
   "outputs": [
    {
     "name": "stdout",
     "output_type": "stream",
     "text": [
      "/bin/bash: warning: setlocale: LC_ALL: cannot change locale (en_US.UTF-8)\r\n",
      "Requirement already satisfied: spacy-transformers in /home/blackswan/anaconda3/lib/python3.11/site-packages (1.3.4)\r\n",
      "Requirement already satisfied: spacy<4.0.0,>=3.5.0 in /home/blackswan/anaconda3/lib/python3.11/site-packages (from spacy-transformers) (3.7.2)\r\n",
      "Requirement already satisfied: transformers<4.37.0,>=3.4.0 in /home/blackswan/anaconda3/lib/python3.11/site-packages (from spacy-transformers) (4.32.1)\r\n",
      "Requirement already satisfied: torch>=1.8.0 in /home/blackswan/anaconda3/lib/python3.11/site-packages (from spacy-transformers) (2.1.2)\r\n",
      "Requirement already satisfied: srsly<3.0.0,>=2.4.0 in /home/blackswan/anaconda3/lib/python3.11/site-packages (from spacy-transformers) (2.4.8)\r\n",
      "Requirement already satisfied: spacy-alignments<1.0.0,>=0.7.2 in /home/blackswan/anaconda3/lib/python3.11/site-packages (from spacy-transformers) (0.9.1)\r\n",
      "Requirement already satisfied: numpy>=1.19.0 in /home/blackswan/anaconda3/lib/python3.11/site-packages (from spacy-transformers) (1.23.5)\r\n",
      "Requirement already satisfied: spacy-legacy<3.1.0,>=3.0.11 in /home/blackswan/anaconda3/lib/python3.11/site-packages (from spacy<4.0.0,>=3.5.0->spacy-transformers) (3.0.12)\r\n",
      "Requirement already satisfied: spacy-loggers<2.0.0,>=1.0.0 in /home/blackswan/anaconda3/lib/python3.11/site-packages (from spacy<4.0.0,>=3.5.0->spacy-transformers) (1.0.4)\r\n",
      "Requirement already satisfied: murmurhash<1.1.0,>=0.28.0 in /home/blackswan/anaconda3/lib/python3.11/site-packages (from spacy<4.0.0,>=3.5.0->spacy-transformers) (1.0.7)\r\n",
      "Requirement already satisfied: cymem<2.1.0,>=2.0.2 in /home/blackswan/anaconda3/lib/python3.11/site-packages (from spacy<4.0.0,>=3.5.0->spacy-transformers) (2.0.6)\r\n",
      "Requirement already satisfied: preshed<3.1.0,>=3.0.2 in /home/blackswan/anaconda3/lib/python3.11/site-packages (from spacy<4.0.0,>=3.5.0->spacy-transformers) (3.0.6)\r\n",
      "Requirement already satisfied: thinc<8.3.0,>=8.1.8 in /home/blackswan/anaconda3/lib/python3.11/site-packages (from spacy<4.0.0,>=3.5.0->spacy-transformers) (8.2.2)\r\n",
      "Requirement already satisfied: wasabi<1.2.0,>=0.9.1 in /home/blackswan/anaconda3/lib/python3.11/site-packages (from spacy<4.0.0,>=3.5.0->spacy-transformers) (0.9.1)\r\n",
      "Requirement already satisfied: catalogue<2.1.0,>=2.0.6 in /home/blackswan/anaconda3/lib/python3.11/site-packages (from spacy<4.0.0,>=3.5.0->spacy-transformers) (2.0.10)\r\n",
      "Requirement already satisfied: weasel<0.4.0,>=0.1.0 in /home/blackswan/anaconda3/lib/python3.11/site-packages (from spacy<4.0.0,>=3.5.0->spacy-transformers) (0.3.4)\r\n",
      "Requirement already satisfied: typer<0.10.0,>=0.3.0 in /home/blackswan/anaconda3/lib/python3.11/site-packages (from spacy<4.0.0,>=3.5.0->spacy-transformers) (0.9.0)\r\n",
      "Requirement already satisfied: smart-open<7.0.0,>=5.2.1 in /home/blackswan/anaconda3/lib/python3.11/site-packages (from spacy<4.0.0,>=3.5.0->spacy-transformers) (5.2.1)\r\n",
      "Requirement already satisfied: tqdm<5.0.0,>=4.38.0 in /home/blackswan/anaconda3/lib/python3.11/site-packages (from spacy<4.0.0,>=3.5.0->spacy-transformers) (4.65.0)\r\n",
      "Requirement already satisfied: requests<3.0.0,>=2.13.0 in /home/blackswan/anaconda3/lib/python3.11/site-packages (from spacy<4.0.0,>=3.5.0->spacy-transformers) (2.31.0)\r\n",
      "Requirement already satisfied: pydantic!=1.8,!=1.8.1,<3.0.0,>=1.7.4 in /home/blackswan/anaconda3/lib/python3.11/site-packages (from spacy<4.0.0,>=3.5.0->spacy-transformers) (1.10.8)\r\n",
      "Requirement already satisfied: jinja2 in /home/blackswan/anaconda3/lib/python3.11/site-packages (from spacy<4.0.0,>=3.5.0->spacy-transformers) (3.1.2)\r\n",
      "Requirement already satisfied: setuptools in /home/blackswan/anaconda3/lib/python3.11/site-packages (from spacy<4.0.0,>=3.5.0->spacy-transformers) (68.0.0)\r\n",
      "Requirement already satisfied: packaging>=20.0 in /home/blackswan/anaconda3/lib/python3.11/site-packages (from spacy<4.0.0,>=3.5.0->spacy-transformers) (23.1)\r\n",
      "Requirement already satisfied: langcodes<4.0.0,>=3.2.0 in /home/blackswan/anaconda3/lib/python3.11/site-packages (from spacy<4.0.0,>=3.5.0->spacy-transformers) (3.3.0)\r\n",
      "Requirement already satisfied: filelock in /home/blackswan/anaconda3/lib/python3.11/site-packages (from torch>=1.8.0->spacy-transformers) (3.9.0)\r\n",
      "Requirement already satisfied: typing-extensions in /home/blackswan/anaconda3/lib/python3.11/site-packages (from torch>=1.8.0->spacy-transformers) (4.7.1)\r\n",
      "Requirement already satisfied: sympy in /home/blackswan/anaconda3/lib/python3.11/site-packages (from torch>=1.8.0->spacy-transformers) (1.11.1)\r\n",
      "Requirement already satisfied: networkx in /home/blackswan/anaconda3/lib/python3.11/site-packages (from torch>=1.8.0->spacy-transformers) (3.1)\r\n",
      "Requirement already satisfied: fsspec in /home/blackswan/anaconda3/lib/python3.11/site-packages (from torch>=1.8.0->spacy-transformers) (2023.4.0)\r\n",
      "Requirement already satisfied: nvidia-cuda-nvrtc-cu12==12.1.105 in /home/blackswan/anaconda3/lib/python3.11/site-packages (from torch>=1.8.0->spacy-transformers) (12.1.105)\r\n",
      "Requirement already satisfied: nvidia-cuda-runtime-cu12==12.1.105 in /home/blackswan/anaconda3/lib/python3.11/site-packages (from torch>=1.8.0->spacy-transformers) (12.1.105)\r\n",
      "Requirement already satisfied: nvidia-cuda-cupti-cu12==12.1.105 in /home/blackswan/anaconda3/lib/python3.11/site-packages (from torch>=1.8.0->spacy-transformers) (12.1.105)\r\n",
      "Requirement already satisfied: nvidia-cudnn-cu12==8.9.2.26 in /home/blackswan/anaconda3/lib/python3.11/site-packages (from torch>=1.8.0->spacy-transformers) (8.9.2.26)\r\n",
      "Requirement already satisfied: nvidia-cublas-cu12==12.1.3.1 in /home/blackswan/anaconda3/lib/python3.11/site-packages (from torch>=1.8.0->spacy-transformers) (12.1.3.1)\r\n",
      "Requirement already satisfied: nvidia-cufft-cu12==11.0.2.54 in /home/blackswan/anaconda3/lib/python3.11/site-packages (from torch>=1.8.0->spacy-transformers) (11.0.2.54)\r\n",
      "Requirement already satisfied: nvidia-curand-cu12==10.3.2.106 in /home/blackswan/anaconda3/lib/python3.11/site-packages (from torch>=1.8.0->spacy-transformers) (10.3.2.106)\r\n",
      "Requirement already satisfied: nvidia-cusolver-cu12==11.4.5.107 in /home/blackswan/anaconda3/lib/python3.11/site-packages (from torch>=1.8.0->spacy-transformers) (11.4.5.107)\r\n",
      "Requirement already satisfied: nvidia-cusparse-cu12==12.1.0.106 in /home/blackswan/anaconda3/lib/python3.11/site-packages (from torch>=1.8.0->spacy-transformers) (12.1.0.106)\r\n",
      "Requirement already satisfied: nvidia-nccl-cu12==2.18.1 in /home/blackswan/anaconda3/lib/python3.11/site-packages (from torch>=1.8.0->spacy-transformers) (2.18.1)\r\n",
      "Requirement already satisfied: nvidia-nvtx-cu12==12.1.105 in /home/blackswan/anaconda3/lib/python3.11/site-packages (from torch>=1.8.0->spacy-transformers) (12.1.105)\r\n",
      "Requirement already satisfied: triton==2.1.0 in /home/blackswan/anaconda3/lib/python3.11/site-packages (from torch>=1.8.0->spacy-transformers) (2.1.0)\r\n",
      "Requirement already satisfied: nvidia-nvjitlink-cu12 in /home/blackswan/anaconda3/lib/python3.11/site-packages (from nvidia-cusolver-cu12==11.4.5.107->torch>=1.8.0->spacy-transformers) (12.3.101)\r\n",
      "Requirement already satisfied: huggingface-hub<1.0,>=0.15.1 in /home/blackswan/anaconda3/lib/python3.11/site-packages (from transformers<4.37.0,>=3.4.0->spacy-transformers) (0.15.1)\r\n",
      "Requirement already satisfied: pyyaml>=5.1 in /home/blackswan/anaconda3/lib/python3.11/site-packages (from transformers<4.37.0,>=3.4.0->spacy-transformers) (6.0)\r\n",
      "Requirement already satisfied: regex!=2019.12.17 in /home/blackswan/anaconda3/lib/python3.11/site-packages (from transformers<4.37.0,>=3.4.0->spacy-transformers) (2022.7.9)\r\n",
      "Requirement already satisfied: tokenizers!=0.11.3,<0.14,>=0.11.1 in /home/blackswan/anaconda3/lib/python3.11/site-packages (from transformers<4.37.0,>=3.4.0->spacy-transformers) (0.13.2)\r\n",
      "Requirement already satisfied: safetensors>=0.3.1 in /home/blackswan/anaconda3/lib/python3.11/site-packages (from transformers<4.37.0,>=3.4.0->spacy-transformers) (0.3.2)\r\n",
      "Requirement already satisfied: charset-normalizer<4,>=2 in /home/blackswan/anaconda3/lib/python3.11/site-packages (from requests<3.0.0,>=2.13.0->spacy<4.0.0,>=3.5.0->spacy-transformers) (2.0.4)\r\n",
      "Requirement already satisfied: idna<4,>=2.5 in /home/blackswan/anaconda3/lib/python3.11/site-packages (from requests<3.0.0,>=2.13.0->spacy<4.0.0,>=3.5.0->spacy-transformers) (3.4)\r\n",
      "Requirement already satisfied: urllib3<3,>=1.21.1 in /home/blackswan/anaconda3/lib/python3.11/site-packages (from requests<3.0.0,>=2.13.0->spacy<4.0.0,>=3.5.0->spacy-transformers) (1.26.16)\r\n",
      "Requirement already satisfied: certifi>=2017.4.17 in /home/blackswan/anaconda3/lib/python3.11/site-packages (from requests<3.0.0,>=2.13.0->spacy<4.0.0,>=3.5.0->spacy-transformers) (2023.11.17)\r\n",
      "Requirement already satisfied: blis<0.8.0,>=0.7.8 in /home/blackswan/anaconda3/lib/python3.11/site-packages (from thinc<8.3.0,>=8.1.8->spacy<4.0.0,>=3.5.0->spacy-transformers) (0.7.9)\r\n",
      "Requirement already satisfied: confection<1.0.0,>=0.0.1 in /home/blackswan/anaconda3/lib/python3.11/site-packages (from thinc<8.3.0,>=8.1.8->spacy<4.0.0,>=3.5.0->spacy-transformers) (0.1.4)\r\n",
      "Requirement already satisfied: click<9.0.0,>=7.1.1 in /home/blackswan/anaconda3/lib/python3.11/site-packages (from typer<0.10.0,>=0.3.0->spacy<4.0.0,>=3.5.0->spacy-transformers) (8.0.4)\r\n",
      "Requirement already satisfied: cloudpathlib<0.17.0,>=0.7.0 in /home/blackswan/anaconda3/lib/python3.11/site-packages (from weasel<0.4.0,>=0.1.0->spacy<4.0.0,>=3.5.0->spacy-transformers) (0.16.0)\r\n",
      "Requirement already satisfied: MarkupSafe>=2.0 in /home/blackswan/anaconda3/lib/python3.11/site-packages (from jinja2->spacy<4.0.0,>=3.5.0->spacy-transformers) (2.1.1)\r\n",
      "Requirement already satisfied: mpmath>=0.19 in /home/blackswan/anaconda3/lib/python3.11/site-packages (from sympy->torch>=1.8.0->spacy-transformers) (1.3.0)\r\n"
     ]
    }
   ],
   "source": [
    "!pip install spacy-transformers\n"
   ],
   "metadata": {
    "collapsed": false,
    "ExecuteTime": {
     "end_time": "2024-01-19T12:20:30.787002624Z",
     "start_time": "2024-01-19T12:20:22.197619693Z"
    }
   },
   "id": "6e0b7082e3c60140"
  },
  {
   "cell_type": "code",
   "execution_count": 19,
   "outputs": [
    {
     "name": "stdout",
     "output_type": "stream",
     "text": [
      "/bin/bash: warning: setlocale: LC_ALL: cannot change locale (en_US.UTF-8)\r\n",
      "Collecting en-core-web-trf==3.7.3\r\n",
      "  Downloading https://github.com/explosion/spacy-models/releases/download/en_core_web_trf-3.7.3/en_core_web_trf-3.7.3-py3-none-any.whl (457.4 MB)\r\n",
      "\u001B[2K     \u001B[90m━━━━━━━━━━━━━━━━━━━━━━━━━━━━━━━━━━━━━━━\u001B[0m \u001B[32m457.4/457.4 MB\u001B[0m \u001B[31m2.6 MB/s\u001B[0m eta \u001B[36m0:00:00\u001B[0m00:01\u001B[0m00:01\u001B[0m\r\n",
      "\u001B[?25hRequirement already satisfied: spacy<3.8.0,>=3.7.2 in /home/blackswan/anaconda3/lib/python3.11/site-packages (from en-core-web-trf==3.7.3) (3.7.2)\r\n",
      "Requirement already satisfied: spacy-curated-transformers<0.3.0,>=0.2.0 in /home/blackswan/anaconda3/lib/python3.11/site-packages (from en-core-web-trf==3.7.3) (0.2.1)\r\n",
      "Requirement already satisfied: spacy-legacy<3.1.0,>=3.0.11 in /home/blackswan/anaconda3/lib/python3.11/site-packages (from spacy<3.8.0,>=3.7.2->en-core-web-trf==3.7.3) (3.0.12)\r\n",
      "Requirement already satisfied: spacy-loggers<2.0.0,>=1.0.0 in /home/blackswan/anaconda3/lib/python3.11/site-packages (from spacy<3.8.0,>=3.7.2->en-core-web-trf==3.7.3) (1.0.4)\r\n",
      "Requirement already satisfied: murmurhash<1.1.0,>=0.28.0 in /home/blackswan/anaconda3/lib/python3.11/site-packages (from spacy<3.8.0,>=3.7.2->en-core-web-trf==3.7.3) (1.0.7)\r\n",
      "Requirement already satisfied: cymem<2.1.0,>=2.0.2 in /home/blackswan/anaconda3/lib/python3.11/site-packages (from spacy<3.8.0,>=3.7.2->en-core-web-trf==3.7.3) (2.0.6)\r\n",
      "Requirement already satisfied: preshed<3.1.0,>=3.0.2 in /home/blackswan/anaconda3/lib/python3.11/site-packages (from spacy<3.8.0,>=3.7.2->en-core-web-trf==3.7.3) (3.0.6)\r\n",
      "Requirement already satisfied: thinc<8.3.0,>=8.1.8 in /home/blackswan/anaconda3/lib/python3.11/site-packages (from spacy<3.8.0,>=3.7.2->en-core-web-trf==3.7.3) (8.2.2)\r\n",
      "Requirement already satisfied: wasabi<1.2.0,>=0.9.1 in /home/blackswan/anaconda3/lib/python3.11/site-packages (from spacy<3.8.0,>=3.7.2->en-core-web-trf==3.7.3) (0.9.1)\r\n",
      "Requirement already satisfied: srsly<3.0.0,>=2.4.3 in /home/blackswan/anaconda3/lib/python3.11/site-packages (from spacy<3.8.0,>=3.7.2->en-core-web-trf==3.7.3) (2.4.8)\r\n",
      "Requirement already satisfied: catalogue<2.1.0,>=2.0.6 in /home/blackswan/anaconda3/lib/python3.11/site-packages (from spacy<3.8.0,>=3.7.2->en-core-web-trf==3.7.3) (2.0.10)\r\n",
      "Requirement already satisfied: weasel<0.4.0,>=0.1.0 in /home/blackswan/anaconda3/lib/python3.11/site-packages (from spacy<3.8.0,>=3.7.2->en-core-web-trf==3.7.3) (0.3.4)\r\n",
      "Requirement already satisfied: typer<0.10.0,>=0.3.0 in /home/blackswan/anaconda3/lib/python3.11/site-packages (from spacy<3.8.0,>=3.7.2->en-core-web-trf==3.7.3) (0.9.0)\r\n",
      "Requirement already satisfied: smart-open<7.0.0,>=5.2.1 in /home/blackswan/anaconda3/lib/python3.11/site-packages (from spacy<3.8.0,>=3.7.2->en-core-web-trf==3.7.3) (5.2.1)\r\n",
      "Requirement already satisfied: tqdm<5.0.0,>=4.38.0 in /home/blackswan/anaconda3/lib/python3.11/site-packages (from spacy<3.8.0,>=3.7.2->en-core-web-trf==3.7.3) (4.65.0)\r\n",
      "Requirement already satisfied: requests<3.0.0,>=2.13.0 in /home/blackswan/anaconda3/lib/python3.11/site-packages (from spacy<3.8.0,>=3.7.2->en-core-web-trf==3.7.3) (2.31.0)\r\n",
      "Requirement already satisfied: pydantic!=1.8,!=1.8.1,<3.0.0,>=1.7.4 in /home/blackswan/anaconda3/lib/python3.11/site-packages (from spacy<3.8.0,>=3.7.2->en-core-web-trf==3.7.3) (1.10.8)\r\n",
      "Requirement already satisfied: jinja2 in /home/blackswan/anaconda3/lib/python3.11/site-packages (from spacy<3.8.0,>=3.7.2->en-core-web-trf==3.7.3) (3.1.2)\r\n",
      "Requirement already satisfied: setuptools in /home/blackswan/anaconda3/lib/python3.11/site-packages (from spacy<3.8.0,>=3.7.2->en-core-web-trf==3.7.3) (68.0.0)\r\n",
      "Requirement already satisfied: packaging>=20.0 in /home/blackswan/anaconda3/lib/python3.11/site-packages (from spacy<3.8.0,>=3.7.2->en-core-web-trf==3.7.3) (23.1)\r\n",
      "Requirement already satisfied: langcodes<4.0.0,>=3.2.0 in /home/blackswan/anaconda3/lib/python3.11/site-packages (from spacy<3.8.0,>=3.7.2->en-core-web-trf==3.7.3) (3.3.0)\r\n",
      "Requirement already satisfied: numpy>=1.19.0 in /home/blackswan/anaconda3/lib/python3.11/site-packages (from spacy<3.8.0,>=3.7.2->en-core-web-trf==3.7.3) (1.23.5)\r\n",
      "Requirement already satisfied: curated-transformers<0.2.0,>=0.1.0 in /home/blackswan/anaconda3/lib/python3.11/site-packages (from spacy-curated-transformers<0.3.0,>=0.2.0->en-core-web-trf==3.7.3) (0.1.1)\r\n",
      "Requirement already satisfied: curated-tokenizers<0.1.0,>=0.0.7 in /home/blackswan/anaconda3/lib/python3.11/site-packages (from spacy-curated-transformers<0.3.0,>=0.2.0->en-core-web-trf==3.7.3) (0.0.8)\r\n",
      "Requirement already satisfied: torch>=1.12.0 in /home/blackswan/anaconda3/lib/python3.11/site-packages (from spacy-curated-transformers<0.3.0,>=0.2.0->en-core-web-trf==3.7.3) (2.1.2)\r\n",
      "Requirement already satisfied: regex>=2022 in /home/blackswan/anaconda3/lib/python3.11/site-packages (from curated-tokenizers<0.1.0,>=0.0.7->spacy-curated-transformers<0.3.0,>=0.2.0->en-core-web-trf==3.7.3) (2022.7.9)\r\n",
      "Requirement already satisfied: typing-extensions>=4.2.0 in /home/blackswan/anaconda3/lib/python3.11/site-packages (from pydantic!=1.8,!=1.8.1,<3.0.0,>=1.7.4->spacy<3.8.0,>=3.7.2->en-core-web-trf==3.7.3) (4.7.1)\r\n",
      "Requirement already satisfied: charset-normalizer<4,>=2 in /home/blackswan/anaconda3/lib/python3.11/site-packages (from requests<3.0.0,>=2.13.0->spacy<3.8.0,>=3.7.2->en-core-web-trf==3.7.3) (2.0.4)\r\n",
      "Requirement already satisfied: idna<4,>=2.5 in /home/blackswan/anaconda3/lib/python3.11/site-packages (from requests<3.0.0,>=2.13.0->spacy<3.8.0,>=3.7.2->en-core-web-trf==3.7.3) (3.4)\r\n",
      "Requirement already satisfied: urllib3<3,>=1.21.1 in /home/blackswan/anaconda3/lib/python3.11/site-packages (from requests<3.0.0,>=2.13.0->spacy<3.8.0,>=3.7.2->en-core-web-trf==3.7.3) (1.26.16)\r\n",
      "Requirement already satisfied: certifi>=2017.4.17 in /home/blackswan/anaconda3/lib/python3.11/site-packages (from requests<3.0.0,>=2.13.0->spacy<3.8.0,>=3.7.2->en-core-web-trf==3.7.3) (2023.11.17)\r\n",
      "Requirement already satisfied: blis<0.8.0,>=0.7.8 in /home/blackswan/anaconda3/lib/python3.11/site-packages (from thinc<8.3.0,>=8.1.8->spacy<3.8.0,>=3.7.2->en-core-web-trf==3.7.3) (0.7.9)\r\n",
      "Requirement already satisfied: confection<1.0.0,>=0.0.1 in /home/blackswan/anaconda3/lib/python3.11/site-packages (from thinc<8.3.0,>=8.1.8->spacy<3.8.0,>=3.7.2->en-core-web-trf==3.7.3) (0.1.4)\r\n",
      "Requirement already satisfied: filelock in /home/blackswan/anaconda3/lib/python3.11/site-packages (from torch>=1.12.0->spacy-curated-transformers<0.3.0,>=0.2.0->en-core-web-trf==3.7.3) (3.9.0)\r\n",
      "Requirement already satisfied: sympy in /home/blackswan/anaconda3/lib/python3.11/site-packages (from torch>=1.12.0->spacy-curated-transformers<0.3.0,>=0.2.0->en-core-web-trf==3.7.3) (1.11.1)\r\n",
      "Requirement already satisfied: networkx in /home/blackswan/anaconda3/lib/python3.11/site-packages (from torch>=1.12.0->spacy-curated-transformers<0.3.0,>=0.2.0->en-core-web-trf==3.7.3) (3.1)\r\n",
      "Requirement already satisfied: fsspec in /home/blackswan/anaconda3/lib/python3.11/site-packages (from torch>=1.12.0->spacy-curated-transformers<0.3.0,>=0.2.0->en-core-web-trf==3.7.3) (2023.4.0)\r\n",
      "Requirement already satisfied: nvidia-cuda-nvrtc-cu12==12.1.105 in /home/blackswan/anaconda3/lib/python3.11/site-packages (from torch>=1.12.0->spacy-curated-transformers<0.3.0,>=0.2.0->en-core-web-trf==3.7.3) (12.1.105)\r\n",
      "Requirement already satisfied: nvidia-cuda-runtime-cu12==12.1.105 in /home/blackswan/anaconda3/lib/python3.11/site-packages (from torch>=1.12.0->spacy-curated-transformers<0.3.0,>=0.2.0->en-core-web-trf==3.7.3) (12.1.105)\r\n",
      "Requirement already satisfied: nvidia-cuda-cupti-cu12==12.1.105 in /home/blackswan/anaconda3/lib/python3.11/site-packages (from torch>=1.12.0->spacy-curated-transformers<0.3.0,>=0.2.0->en-core-web-trf==3.7.3) (12.1.105)\r\n",
      "Requirement already satisfied: nvidia-cudnn-cu12==8.9.2.26 in /home/blackswan/anaconda3/lib/python3.11/site-packages (from torch>=1.12.0->spacy-curated-transformers<0.3.0,>=0.2.0->en-core-web-trf==3.7.3) (8.9.2.26)\r\n",
      "Requirement already satisfied: nvidia-cublas-cu12==12.1.3.1 in /home/blackswan/anaconda3/lib/python3.11/site-packages (from torch>=1.12.0->spacy-curated-transformers<0.3.0,>=0.2.0->en-core-web-trf==3.7.3) (12.1.3.1)\r\n",
      "Requirement already satisfied: nvidia-cufft-cu12==11.0.2.54 in /home/blackswan/anaconda3/lib/python3.11/site-packages (from torch>=1.12.0->spacy-curated-transformers<0.3.0,>=0.2.0->en-core-web-trf==3.7.3) (11.0.2.54)\r\n",
      "Requirement already satisfied: nvidia-curand-cu12==10.3.2.106 in /home/blackswan/anaconda3/lib/python3.11/site-packages (from torch>=1.12.0->spacy-curated-transformers<0.3.0,>=0.2.0->en-core-web-trf==3.7.3) (10.3.2.106)\r\n",
      "Requirement already satisfied: nvidia-cusolver-cu12==11.4.5.107 in /home/blackswan/anaconda3/lib/python3.11/site-packages (from torch>=1.12.0->spacy-curated-transformers<0.3.0,>=0.2.0->en-core-web-trf==3.7.3) (11.4.5.107)\r\n",
      "Requirement already satisfied: nvidia-cusparse-cu12==12.1.0.106 in /home/blackswan/anaconda3/lib/python3.11/site-packages (from torch>=1.12.0->spacy-curated-transformers<0.3.0,>=0.2.0->en-core-web-trf==3.7.3) (12.1.0.106)\r\n",
      "Requirement already satisfied: nvidia-nccl-cu12==2.18.1 in /home/blackswan/anaconda3/lib/python3.11/site-packages (from torch>=1.12.0->spacy-curated-transformers<0.3.0,>=0.2.0->en-core-web-trf==3.7.3) (2.18.1)\r\n",
      "Requirement already satisfied: nvidia-nvtx-cu12==12.1.105 in /home/blackswan/anaconda3/lib/python3.11/site-packages (from torch>=1.12.0->spacy-curated-transformers<0.3.0,>=0.2.0->en-core-web-trf==3.7.3) (12.1.105)\r\n",
      "Requirement already satisfied: triton==2.1.0 in /home/blackswan/anaconda3/lib/python3.11/site-packages (from torch>=1.12.0->spacy-curated-transformers<0.3.0,>=0.2.0->en-core-web-trf==3.7.3) (2.1.0)\r\n",
      "Requirement already satisfied: nvidia-nvjitlink-cu12 in /home/blackswan/anaconda3/lib/python3.11/site-packages (from nvidia-cusolver-cu12==11.4.5.107->torch>=1.12.0->spacy-curated-transformers<0.3.0,>=0.2.0->en-core-web-trf==3.7.3) (12.3.101)\r\n",
      "Requirement already satisfied: click<9.0.0,>=7.1.1 in /home/blackswan/anaconda3/lib/python3.11/site-packages (from typer<0.10.0,>=0.3.0->spacy<3.8.0,>=3.7.2->en-core-web-trf==3.7.3) (8.0.4)\r\n",
      "Requirement already satisfied: cloudpathlib<0.17.0,>=0.7.0 in /home/blackswan/anaconda3/lib/python3.11/site-packages (from weasel<0.4.0,>=0.1.0->spacy<3.8.0,>=3.7.2->en-core-web-trf==3.7.3) (0.16.0)\r\n",
      "Requirement already satisfied: MarkupSafe>=2.0 in /home/blackswan/anaconda3/lib/python3.11/site-packages (from jinja2->spacy<3.8.0,>=3.7.2->en-core-web-trf==3.7.3) (2.1.1)\r\n",
      "Requirement already satisfied: mpmath>=0.19 in /home/blackswan/anaconda3/lib/python3.11/site-packages (from sympy->torch>=1.12.0->spacy-curated-transformers<0.3.0,>=0.2.0->en-core-web-trf==3.7.3) (1.3.0)\r\n",
      "\u001B[38;5;2m✔ Download and installation successful\u001B[0m\r\n",
      "You can now load the package via spacy.load('en_core_web_trf')\r\n"
     ]
    }
   ],
   "source": [
    "!python -m spacy download en_core_web_trf"
   ],
   "metadata": {
    "collapsed": false,
    "ExecuteTime": {
     "end_time": "2024-01-19T12:20:55.245161805Z",
     "start_time": "2024-01-19T12:20:30.908696225Z"
    }
   },
   "id": "19862426bba6a346"
  },
  {
   "cell_type": "code",
   "execution_count": 20,
   "outputs": [],
   "source": [
    "import spacy_transformers"
   ],
   "metadata": {
    "collapsed": false,
    "ExecuteTime": {
     "end_time": "2024-01-19T12:20:55.909904064Z",
     "start_time": "2024-01-19T12:20:55.251202021Z"
    }
   },
   "id": "48b40758e747e010"
  },
  {
   "cell_type": "code",
   "execution_count": 21,
   "outputs": [
    {
     "name": "stdout",
     "output_type": "stream",
     "text": [
      "/bin/bash: warning: setlocale: LC_ALL: cannot change locale (en_US.UTF-8)\r\n",
      "Requirement already satisfied: spacy in /home/blackswan/anaconda3/lib/python3.11/site-packages (3.7.2)\r\n",
      "Requirement already satisfied: spacy-legacy<3.1.0,>=3.0.11 in /home/blackswan/anaconda3/lib/python3.11/site-packages (from spacy) (3.0.12)\r\n",
      "Requirement already satisfied: spacy-loggers<2.0.0,>=1.0.0 in /home/blackswan/anaconda3/lib/python3.11/site-packages (from spacy) (1.0.4)\r\n",
      "Requirement already satisfied: murmurhash<1.1.0,>=0.28.0 in /home/blackswan/anaconda3/lib/python3.11/site-packages (from spacy) (1.0.7)\r\n",
      "Requirement already satisfied: cymem<2.1.0,>=2.0.2 in /home/blackswan/anaconda3/lib/python3.11/site-packages (from spacy) (2.0.6)\r\n",
      "Requirement already satisfied: preshed<3.1.0,>=3.0.2 in /home/blackswan/anaconda3/lib/python3.11/site-packages (from spacy) (3.0.6)\r\n",
      "Requirement already satisfied: thinc<8.3.0,>=8.1.8 in /home/blackswan/anaconda3/lib/python3.11/site-packages (from spacy) (8.2.2)\r\n",
      "Requirement already satisfied: wasabi<1.2.0,>=0.9.1 in /home/blackswan/anaconda3/lib/python3.11/site-packages (from spacy) (0.9.1)\r\n",
      "Requirement already satisfied: srsly<3.0.0,>=2.4.3 in /home/blackswan/anaconda3/lib/python3.11/site-packages (from spacy) (2.4.8)\r\n",
      "Requirement already satisfied: catalogue<2.1.0,>=2.0.6 in /home/blackswan/anaconda3/lib/python3.11/site-packages (from spacy) (2.0.10)\r\n",
      "Requirement already satisfied: weasel<0.4.0,>=0.1.0 in /home/blackswan/anaconda3/lib/python3.11/site-packages (from spacy) (0.3.4)\r\n",
      "Requirement already satisfied: typer<0.10.0,>=0.3.0 in /home/blackswan/anaconda3/lib/python3.11/site-packages (from spacy) (0.9.0)\r\n",
      "Requirement already satisfied: smart-open<7.0.0,>=5.2.1 in /home/blackswan/anaconda3/lib/python3.11/site-packages (from spacy) (5.2.1)\r\n",
      "Requirement already satisfied: tqdm<5.0.0,>=4.38.0 in /home/blackswan/anaconda3/lib/python3.11/site-packages (from spacy) (4.65.0)\r\n",
      "Requirement already satisfied: requests<3.0.0,>=2.13.0 in /home/blackswan/anaconda3/lib/python3.11/site-packages (from spacy) (2.31.0)\r\n",
      "Requirement already satisfied: pydantic!=1.8,!=1.8.1,<3.0.0,>=1.7.4 in /home/blackswan/anaconda3/lib/python3.11/site-packages (from spacy) (1.10.8)\r\n",
      "Requirement already satisfied: jinja2 in /home/blackswan/anaconda3/lib/python3.11/site-packages (from spacy) (3.1.2)\r\n",
      "Requirement already satisfied: setuptools in /home/blackswan/anaconda3/lib/python3.11/site-packages (from spacy) (68.0.0)\r\n",
      "Requirement already satisfied: packaging>=20.0 in /home/blackswan/anaconda3/lib/python3.11/site-packages (from spacy) (23.1)\r\n",
      "Requirement already satisfied: langcodes<4.0.0,>=3.2.0 in /home/blackswan/anaconda3/lib/python3.11/site-packages (from spacy) (3.3.0)\r\n",
      "Requirement already satisfied: numpy>=1.19.0 in /home/blackswan/anaconda3/lib/python3.11/site-packages (from spacy) (1.23.5)\r\n",
      "Requirement already satisfied: typing-extensions>=4.2.0 in /home/blackswan/anaconda3/lib/python3.11/site-packages (from pydantic!=1.8,!=1.8.1,<3.0.0,>=1.7.4->spacy) (4.7.1)\r\n",
      "Requirement already satisfied: charset-normalizer<4,>=2 in /home/blackswan/anaconda3/lib/python3.11/site-packages (from requests<3.0.0,>=2.13.0->spacy) (2.0.4)\r\n",
      "Requirement already satisfied: idna<4,>=2.5 in /home/blackswan/anaconda3/lib/python3.11/site-packages (from requests<3.0.0,>=2.13.0->spacy) (3.4)\r\n",
      "Requirement already satisfied: urllib3<3,>=1.21.1 in /home/blackswan/anaconda3/lib/python3.11/site-packages (from requests<3.0.0,>=2.13.0->spacy) (1.26.16)\r\n",
      "Requirement already satisfied: certifi>=2017.4.17 in /home/blackswan/anaconda3/lib/python3.11/site-packages (from requests<3.0.0,>=2.13.0->spacy) (2023.11.17)\r\n",
      "Requirement already satisfied: blis<0.8.0,>=0.7.8 in /home/blackswan/anaconda3/lib/python3.11/site-packages (from thinc<8.3.0,>=8.1.8->spacy) (0.7.9)\r\n",
      "Requirement already satisfied: confection<1.0.0,>=0.0.1 in /home/blackswan/anaconda3/lib/python3.11/site-packages (from thinc<8.3.0,>=8.1.8->spacy) (0.1.4)\r\n",
      "Requirement already satisfied: click<9.0.0,>=7.1.1 in /home/blackswan/anaconda3/lib/python3.11/site-packages (from typer<0.10.0,>=0.3.0->spacy) (8.0.4)\r\n",
      "Requirement already satisfied: cloudpathlib<0.17.0,>=0.7.0 in /home/blackswan/anaconda3/lib/python3.11/site-packages (from weasel<0.4.0,>=0.1.0->spacy) (0.16.0)\r\n",
      "Requirement already satisfied: MarkupSafe>=2.0 in /home/blackswan/anaconda3/lib/python3.11/site-packages (from jinja2->spacy) (2.1.1)\r\n",
      "/bin/bash: warning: setlocale: LC_ALL: cannot change locale (en_US.UTF-8)\r\n",
      "Requirement already satisfied: spacy-transformers in /home/blackswan/anaconda3/lib/python3.11/site-packages (1.3.4)\r\n",
      "Requirement already satisfied: spacy<4.0.0,>=3.5.0 in /home/blackswan/anaconda3/lib/python3.11/site-packages (from spacy-transformers) (3.7.2)\r\n",
      "Requirement already satisfied: transformers<4.37.0,>=3.4.0 in /home/blackswan/anaconda3/lib/python3.11/site-packages (from spacy-transformers) (4.32.1)\r\n",
      "Requirement already satisfied: torch>=1.8.0 in /home/blackswan/anaconda3/lib/python3.11/site-packages (from spacy-transformers) (2.1.2)\r\n",
      "Requirement already satisfied: srsly<3.0.0,>=2.4.0 in /home/blackswan/anaconda3/lib/python3.11/site-packages (from spacy-transformers) (2.4.8)\r\n",
      "Requirement already satisfied: spacy-alignments<1.0.0,>=0.7.2 in /home/blackswan/anaconda3/lib/python3.11/site-packages (from spacy-transformers) (0.9.1)\r\n",
      "Requirement already satisfied: numpy>=1.19.0 in /home/blackswan/anaconda3/lib/python3.11/site-packages (from spacy-transformers) (1.23.5)\r\n",
      "Requirement already satisfied: spacy-legacy<3.1.0,>=3.0.11 in /home/blackswan/anaconda3/lib/python3.11/site-packages (from spacy<4.0.0,>=3.5.0->spacy-transformers) (3.0.12)\r\n",
      "Requirement already satisfied: spacy-loggers<2.0.0,>=1.0.0 in /home/blackswan/anaconda3/lib/python3.11/site-packages (from spacy<4.0.0,>=3.5.0->spacy-transformers) (1.0.4)\r\n",
      "Requirement already satisfied: murmurhash<1.1.0,>=0.28.0 in /home/blackswan/anaconda3/lib/python3.11/site-packages (from spacy<4.0.0,>=3.5.0->spacy-transformers) (1.0.7)\r\n",
      "Requirement already satisfied: cymem<2.1.0,>=2.0.2 in /home/blackswan/anaconda3/lib/python3.11/site-packages (from spacy<4.0.0,>=3.5.0->spacy-transformers) (2.0.6)\r\n",
      "Requirement already satisfied: preshed<3.1.0,>=3.0.2 in /home/blackswan/anaconda3/lib/python3.11/site-packages (from spacy<4.0.0,>=3.5.0->spacy-transformers) (3.0.6)\r\n",
      "Requirement already satisfied: thinc<8.3.0,>=8.1.8 in /home/blackswan/anaconda3/lib/python3.11/site-packages (from spacy<4.0.0,>=3.5.0->spacy-transformers) (8.2.2)\r\n",
      "Requirement already satisfied: wasabi<1.2.0,>=0.9.1 in /home/blackswan/anaconda3/lib/python3.11/site-packages (from spacy<4.0.0,>=3.5.0->spacy-transformers) (0.9.1)\r\n",
      "Requirement already satisfied: catalogue<2.1.0,>=2.0.6 in /home/blackswan/anaconda3/lib/python3.11/site-packages (from spacy<4.0.0,>=3.5.0->spacy-transformers) (2.0.10)\r\n",
      "Requirement already satisfied: weasel<0.4.0,>=0.1.0 in /home/blackswan/anaconda3/lib/python3.11/site-packages (from spacy<4.0.0,>=3.5.0->spacy-transformers) (0.3.4)\r\n",
      "Requirement already satisfied: typer<0.10.0,>=0.3.0 in /home/blackswan/anaconda3/lib/python3.11/site-packages (from spacy<4.0.0,>=3.5.0->spacy-transformers) (0.9.0)\r\n",
      "Requirement already satisfied: smart-open<7.0.0,>=5.2.1 in /home/blackswan/anaconda3/lib/python3.11/site-packages (from spacy<4.0.0,>=3.5.0->spacy-transformers) (5.2.1)\r\n",
      "Requirement already satisfied: tqdm<5.0.0,>=4.38.0 in /home/blackswan/anaconda3/lib/python3.11/site-packages (from spacy<4.0.0,>=3.5.0->spacy-transformers) (4.65.0)\r\n",
      "Requirement already satisfied: requests<3.0.0,>=2.13.0 in /home/blackswan/anaconda3/lib/python3.11/site-packages (from spacy<4.0.0,>=3.5.0->spacy-transformers) (2.31.0)\r\n",
      "Requirement already satisfied: pydantic!=1.8,!=1.8.1,<3.0.0,>=1.7.4 in /home/blackswan/anaconda3/lib/python3.11/site-packages (from spacy<4.0.0,>=3.5.0->spacy-transformers) (1.10.8)\r\n",
      "Requirement already satisfied: jinja2 in /home/blackswan/anaconda3/lib/python3.11/site-packages (from spacy<4.0.0,>=3.5.0->spacy-transformers) (3.1.2)\r\n",
      "Requirement already satisfied: setuptools in /home/blackswan/anaconda3/lib/python3.11/site-packages (from spacy<4.0.0,>=3.5.0->spacy-transformers) (68.0.0)\r\n",
      "Requirement already satisfied: packaging>=20.0 in /home/blackswan/anaconda3/lib/python3.11/site-packages (from spacy<4.0.0,>=3.5.0->spacy-transformers) (23.1)\r\n",
      "Requirement already satisfied: langcodes<4.0.0,>=3.2.0 in /home/blackswan/anaconda3/lib/python3.11/site-packages (from spacy<4.0.0,>=3.5.0->spacy-transformers) (3.3.0)\r\n",
      "Requirement already satisfied: filelock in /home/blackswan/anaconda3/lib/python3.11/site-packages (from torch>=1.8.0->spacy-transformers) (3.9.0)\r\n",
      "Requirement already satisfied: typing-extensions in /home/blackswan/anaconda3/lib/python3.11/site-packages (from torch>=1.8.0->spacy-transformers) (4.7.1)\r\n",
      "Requirement already satisfied: sympy in /home/blackswan/anaconda3/lib/python3.11/site-packages (from torch>=1.8.0->spacy-transformers) (1.11.1)\r\n",
      "Requirement already satisfied: networkx in /home/blackswan/anaconda3/lib/python3.11/site-packages (from torch>=1.8.0->spacy-transformers) (3.1)\r\n",
      "Requirement already satisfied: fsspec in /home/blackswan/anaconda3/lib/python3.11/site-packages (from torch>=1.8.0->spacy-transformers) (2023.4.0)\r\n",
      "Requirement already satisfied: nvidia-cuda-nvrtc-cu12==12.1.105 in /home/blackswan/anaconda3/lib/python3.11/site-packages (from torch>=1.8.0->spacy-transformers) (12.1.105)\r\n",
      "Requirement already satisfied: nvidia-cuda-runtime-cu12==12.1.105 in /home/blackswan/anaconda3/lib/python3.11/site-packages (from torch>=1.8.0->spacy-transformers) (12.1.105)\r\n",
      "Requirement already satisfied: nvidia-cuda-cupti-cu12==12.1.105 in /home/blackswan/anaconda3/lib/python3.11/site-packages (from torch>=1.8.0->spacy-transformers) (12.1.105)\r\n",
      "Requirement already satisfied: nvidia-cudnn-cu12==8.9.2.26 in /home/blackswan/anaconda3/lib/python3.11/site-packages (from torch>=1.8.0->spacy-transformers) (8.9.2.26)\r\n",
      "Requirement already satisfied: nvidia-cublas-cu12==12.1.3.1 in /home/blackswan/anaconda3/lib/python3.11/site-packages (from torch>=1.8.0->spacy-transformers) (12.1.3.1)\r\n",
      "Requirement already satisfied: nvidia-cufft-cu12==11.0.2.54 in /home/blackswan/anaconda3/lib/python3.11/site-packages (from torch>=1.8.0->spacy-transformers) (11.0.2.54)\r\n",
      "Requirement already satisfied: nvidia-curand-cu12==10.3.2.106 in /home/blackswan/anaconda3/lib/python3.11/site-packages (from torch>=1.8.0->spacy-transformers) (10.3.2.106)\r\n",
      "Requirement already satisfied: nvidia-cusolver-cu12==11.4.5.107 in /home/blackswan/anaconda3/lib/python3.11/site-packages (from torch>=1.8.0->spacy-transformers) (11.4.5.107)\r\n",
      "Requirement already satisfied: nvidia-cusparse-cu12==12.1.0.106 in /home/blackswan/anaconda3/lib/python3.11/site-packages (from torch>=1.8.0->spacy-transformers) (12.1.0.106)\r\n",
      "Requirement already satisfied: nvidia-nccl-cu12==2.18.1 in /home/blackswan/anaconda3/lib/python3.11/site-packages (from torch>=1.8.0->spacy-transformers) (2.18.1)\r\n",
      "Requirement already satisfied: nvidia-nvtx-cu12==12.1.105 in /home/blackswan/anaconda3/lib/python3.11/site-packages (from torch>=1.8.0->spacy-transformers) (12.1.105)\r\n",
      "Requirement already satisfied: triton==2.1.0 in /home/blackswan/anaconda3/lib/python3.11/site-packages (from torch>=1.8.0->spacy-transformers) (2.1.0)\r\n",
      "Requirement already satisfied: nvidia-nvjitlink-cu12 in /home/blackswan/anaconda3/lib/python3.11/site-packages (from nvidia-cusolver-cu12==11.4.5.107->torch>=1.8.0->spacy-transformers) (12.3.101)\r\n",
      "Requirement already satisfied: huggingface-hub<1.0,>=0.15.1 in /home/blackswan/anaconda3/lib/python3.11/site-packages (from transformers<4.37.0,>=3.4.0->spacy-transformers) (0.15.1)\r\n",
      "Requirement already satisfied: pyyaml>=5.1 in /home/blackswan/anaconda3/lib/python3.11/site-packages (from transformers<4.37.0,>=3.4.0->spacy-transformers) (6.0)\r\n",
      "Requirement already satisfied: regex!=2019.12.17 in /home/blackswan/anaconda3/lib/python3.11/site-packages (from transformers<4.37.0,>=3.4.0->spacy-transformers) (2022.7.9)\r\n",
      "Requirement already satisfied: tokenizers!=0.11.3,<0.14,>=0.11.1 in /home/blackswan/anaconda3/lib/python3.11/site-packages (from transformers<4.37.0,>=3.4.0->spacy-transformers) (0.13.2)\r\n",
      "Requirement already satisfied: safetensors>=0.3.1 in /home/blackswan/anaconda3/lib/python3.11/site-packages (from transformers<4.37.0,>=3.4.0->spacy-transformers) (0.3.2)\r\n",
      "Requirement already satisfied: charset-normalizer<4,>=2 in /home/blackswan/anaconda3/lib/python3.11/site-packages (from requests<3.0.0,>=2.13.0->spacy<4.0.0,>=3.5.0->spacy-transformers) (2.0.4)\r\n",
      "Requirement already satisfied: idna<4,>=2.5 in /home/blackswan/anaconda3/lib/python3.11/site-packages (from requests<3.0.0,>=2.13.0->spacy<4.0.0,>=3.5.0->spacy-transformers) (3.4)\r\n",
      "Requirement already satisfied: urllib3<3,>=1.21.1 in /home/blackswan/anaconda3/lib/python3.11/site-packages (from requests<3.0.0,>=2.13.0->spacy<4.0.0,>=3.5.0->spacy-transformers) (1.26.16)\r\n",
      "Requirement already satisfied: certifi>=2017.4.17 in /home/blackswan/anaconda3/lib/python3.11/site-packages (from requests<3.0.0,>=2.13.0->spacy<4.0.0,>=3.5.0->spacy-transformers) (2023.11.17)\r\n",
      "Requirement already satisfied: blis<0.8.0,>=0.7.8 in /home/blackswan/anaconda3/lib/python3.11/site-packages (from thinc<8.3.0,>=8.1.8->spacy<4.0.0,>=3.5.0->spacy-transformers) (0.7.9)\r\n",
      "Requirement already satisfied: confection<1.0.0,>=0.0.1 in /home/blackswan/anaconda3/lib/python3.11/site-packages (from thinc<8.3.0,>=8.1.8->spacy<4.0.0,>=3.5.0->spacy-transformers) (0.1.4)\r\n",
      "Requirement already satisfied: click<9.0.0,>=7.1.1 in /home/blackswan/anaconda3/lib/python3.11/site-packages (from typer<0.10.0,>=0.3.0->spacy<4.0.0,>=3.5.0->spacy-transformers) (8.0.4)\r\n",
      "Requirement already satisfied: cloudpathlib<0.17.0,>=0.7.0 in /home/blackswan/anaconda3/lib/python3.11/site-packages (from weasel<0.4.0,>=0.1.0->spacy<4.0.0,>=3.5.0->spacy-transformers) (0.16.0)\r\n",
      "Requirement already satisfied: MarkupSafe>=2.0 in /home/blackswan/anaconda3/lib/python3.11/site-packages (from jinja2->spacy<4.0.0,>=3.5.0->spacy-transformers) (2.1.1)\r\n",
      "Requirement already satisfied: mpmath>=0.19 in /home/blackswan/anaconda3/lib/python3.11/site-packages (from sympy->torch>=1.8.0->spacy-transformers) (1.3.0)\r\n",
      "/bin/bash: warning: setlocale: LC_ALL: cannot change locale (en_US.UTF-8)\r\n",
      "Collecting en-core-web-trf==3.7.3\r\n",
      "  Downloading https://github.com/explosion/spacy-models/releases/download/en_core_web_trf-3.7.3/en_core_web_trf-3.7.3-py3-none-any.whl (457.4 MB)\r\n",
      "\u001B[2K     \u001B[90m━━━━━━━━━━━━━━━━━━━━━━━━━━━━━━━━━━━━━━━\u001B[0m \u001B[32m457.4/457.4 MB\u001B[0m \u001B[31m3.0 MB/s\u001B[0m eta \u001B[36m0:00:00\u001B[0m00:01\u001B[0m00:01\u001B[0m\r\n",
      "\u001B[?25hRequirement already satisfied: spacy<3.8.0,>=3.7.2 in /home/blackswan/anaconda3/lib/python3.11/site-packages (from en-core-web-trf==3.7.3) (3.7.2)\r\n",
      "Requirement already satisfied: spacy-curated-transformers<0.3.0,>=0.2.0 in /home/blackswan/anaconda3/lib/python3.11/site-packages (from en-core-web-trf==3.7.3) (0.2.1)\r\n",
      "Requirement already satisfied: spacy-legacy<3.1.0,>=3.0.11 in /home/blackswan/anaconda3/lib/python3.11/site-packages (from spacy<3.8.0,>=3.7.2->en-core-web-trf==3.7.3) (3.0.12)\r\n",
      "Requirement already satisfied: spacy-loggers<2.0.0,>=1.0.0 in /home/blackswan/anaconda3/lib/python3.11/site-packages (from spacy<3.8.0,>=3.7.2->en-core-web-trf==3.7.3) (1.0.4)\r\n",
      "Requirement already satisfied: murmurhash<1.1.0,>=0.28.0 in /home/blackswan/anaconda3/lib/python3.11/site-packages (from spacy<3.8.0,>=3.7.2->en-core-web-trf==3.7.3) (1.0.7)\r\n",
      "Requirement already satisfied: cymem<2.1.0,>=2.0.2 in /home/blackswan/anaconda3/lib/python3.11/site-packages (from spacy<3.8.0,>=3.7.2->en-core-web-trf==3.7.3) (2.0.6)\r\n",
      "Requirement already satisfied: preshed<3.1.0,>=3.0.2 in /home/blackswan/anaconda3/lib/python3.11/site-packages (from spacy<3.8.0,>=3.7.2->en-core-web-trf==3.7.3) (3.0.6)\r\n",
      "Requirement already satisfied: thinc<8.3.0,>=8.1.8 in /home/blackswan/anaconda3/lib/python3.11/site-packages (from spacy<3.8.0,>=3.7.2->en-core-web-trf==3.7.3) (8.2.2)\r\n",
      "Requirement already satisfied: wasabi<1.2.0,>=0.9.1 in /home/blackswan/anaconda3/lib/python3.11/site-packages (from spacy<3.8.0,>=3.7.2->en-core-web-trf==3.7.3) (0.9.1)\r\n",
      "Requirement already satisfied: srsly<3.0.0,>=2.4.3 in /home/blackswan/anaconda3/lib/python3.11/site-packages (from spacy<3.8.0,>=3.7.2->en-core-web-trf==3.7.3) (2.4.8)\r\n",
      "Requirement already satisfied: catalogue<2.1.0,>=2.0.6 in /home/blackswan/anaconda3/lib/python3.11/site-packages (from spacy<3.8.0,>=3.7.2->en-core-web-trf==3.7.3) (2.0.10)\r\n",
      "Requirement already satisfied: weasel<0.4.0,>=0.1.0 in /home/blackswan/anaconda3/lib/python3.11/site-packages (from spacy<3.8.0,>=3.7.2->en-core-web-trf==3.7.3) (0.3.4)\r\n",
      "Requirement already satisfied: typer<0.10.0,>=0.3.0 in /home/blackswan/anaconda3/lib/python3.11/site-packages (from spacy<3.8.0,>=3.7.2->en-core-web-trf==3.7.3) (0.9.0)\r\n",
      "Requirement already satisfied: smart-open<7.0.0,>=5.2.1 in /home/blackswan/anaconda3/lib/python3.11/site-packages (from spacy<3.8.0,>=3.7.2->en-core-web-trf==3.7.3) (5.2.1)\r\n",
      "Requirement already satisfied: tqdm<5.0.0,>=4.38.0 in /home/blackswan/anaconda3/lib/python3.11/site-packages (from spacy<3.8.0,>=3.7.2->en-core-web-trf==3.7.3) (4.65.0)\r\n",
      "Requirement already satisfied: requests<3.0.0,>=2.13.0 in /home/blackswan/anaconda3/lib/python3.11/site-packages (from spacy<3.8.0,>=3.7.2->en-core-web-trf==3.7.3) (2.31.0)\r\n",
      "Requirement already satisfied: pydantic!=1.8,!=1.8.1,<3.0.0,>=1.7.4 in /home/blackswan/anaconda3/lib/python3.11/site-packages (from spacy<3.8.0,>=3.7.2->en-core-web-trf==3.7.3) (1.10.8)\r\n",
      "Requirement already satisfied: jinja2 in /home/blackswan/anaconda3/lib/python3.11/site-packages (from spacy<3.8.0,>=3.7.2->en-core-web-trf==3.7.3) (3.1.2)\r\n",
      "Requirement already satisfied: setuptools in /home/blackswan/anaconda3/lib/python3.11/site-packages (from spacy<3.8.0,>=3.7.2->en-core-web-trf==3.7.3) (68.0.0)\r\n",
      "Requirement already satisfied: packaging>=20.0 in /home/blackswan/anaconda3/lib/python3.11/site-packages (from spacy<3.8.0,>=3.7.2->en-core-web-trf==3.7.3) (23.1)\r\n",
      "Requirement already satisfied: langcodes<4.0.0,>=3.2.0 in /home/blackswan/anaconda3/lib/python3.11/site-packages (from spacy<3.8.0,>=3.7.2->en-core-web-trf==3.7.3) (3.3.0)\r\n",
      "Requirement already satisfied: numpy>=1.19.0 in /home/blackswan/anaconda3/lib/python3.11/site-packages (from spacy<3.8.0,>=3.7.2->en-core-web-trf==3.7.3) (1.23.5)\r\n",
      "Requirement already satisfied: curated-transformers<0.2.0,>=0.1.0 in /home/blackswan/anaconda3/lib/python3.11/site-packages (from spacy-curated-transformers<0.3.0,>=0.2.0->en-core-web-trf==3.7.3) (0.1.1)\r\n",
      "Requirement already satisfied: curated-tokenizers<0.1.0,>=0.0.7 in /home/blackswan/anaconda3/lib/python3.11/site-packages (from spacy-curated-transformers<0.3.0,>=0.2.0->en-core-web-trf==3.7.3) (0.0.8)\r\n",
      "Requirement already satisfied: torch>=1.12.0 in /home/blackswan/anaconda3/lib/python3.11/site-packages (from spacy-curated-transformers<0.3.0,>=0.2.0->en-core-web-trf==3.7.3) (2.1.2)\r\n",
      "Requirement already satisfied: regex>=2022 in /home/blackswan/anaconda3/lib/python3.11/site-packages (from curated-tokenizers<0.1.0,>=0.0.7->spacy-curated-transformers<0.3.0,>=0.2.0->en-core-web-trf==3.7.3) (2022.7.9)\r\n",
      "Requirement already satisfied: typing-extensions>=4.2.0 in /home/blackswan/anaconda3/lib/python3.11/site-packages (from pydantic!=1.8,!=1.8.1,<3.0.0,>=1.7.4->spacy<3.8.0,>=3.7.2->en-core-web-trf==3.7.3) (4.7.1)\r\n",
      "Requirement already satisfied: charset-normalizer<4,>=2 in /home/blackswan/anaconda3/lib/python3.11/site-packages (from requests<3.0.0,>=2.13.0->spacy<3.8.0,>=3.7.2->en-core-web-trf==3.7.3) (2.0.4)\r\n",
      "Requirement already satisfied: idna<4,>=2.5 in /home/blackswan/anaconda3/lib/python3.11/site-packages (from requests<3.0.0,>=2.13.0->spacy<3.8.0,>=3.7.2->en-core-web-trf==3.7.3) (3.4)\r\n",
      "Requirement already satisfied: urllib3<3,>=1.21.1 in /home/blackswan/anaconda3/lib/python3.11/site-packages (from requests<3.0.0,>=2.13.0->spacy<3.8.0,>=3.7.2->en-core-web-trf==3.7.3) (1.26.16)\r\n",
      "Requirement already satisfied: certifi>=2017.4.17 in /home/blackswan/anaconda3/lib/python3.11/site-packages (from requests<3.0.0,>=2.13.0->spacy<3.8.0,>=3.7.2->en-core-web-trf==3.7.3) (2023.11.17)\r\n",
      "Requirement already satisfied: blis<0.8.0,>=0.7.8 in /home/blackswan/anaconda3/lib/python3.11/site-packages (from thinc<8.3.0,>=8.1.8->spacy<3.8.0,>=3.7.2->en-core-web-trf==3.7.3) (0.7.9)\r\n",
      "Requirement already satisfied: confection<1.0.0,>=0.0.1 in /home/blackswan/anaconda3/lib/python3.11/site-packages (from thinc<8.3.0,>=8.1.8->spacy<3.8.0,>=3.7.2->en-core-web-trf==3.7.3) (0.1.4)\r\n",
      "Requirement already satisfied: filelock in /home/blackswan/anaconda3/lib/python3.11/site-packages (from torch>=1.12.0->spacy-curated-transformers<0.3.0,>=0.2.0->en-core-web-trf==3.7.3) (3.9.0)\r\n",
      "Requirement already satisfied: sympy in /home/blackswan/anaconda3/lib/python3.11/site-packages (from torch>=1.12.0->spacy-curated-transformers<0.3.0,>=0.2.0->en-core-web-trf==3.7.3) (1.11.1)\r\n",
      "Requirement already satisfied: networkx in /home/blackswan/anaconda3/lib/python3.11/site-packages (from torch>=1.12.0->spacy-curated-transformers<0.3.0,>=0.2.0->en-core-web-trf==3.7.3) (3.1)\r\n",
      "Requirement already satisfied: fsspec in /home/blackswan/anaconda3/lib/python3.11/site-packages (from torch>=1.12.0->spacy-curated-transformers<0.3.0,>=0.2.0->en-core-web-trf==3.7.3) (2023.4.0)\r\n",
      "Requirement already satisfied: nvidia-cuda-nvrtc-cu12==12.1.105 in /home/blackswan/anaconda3/lib/python3.11/site-packages (from torch>=1.12.0->spacy-curated-transformers<0.3.0,>=0.2.0->en-core-web-trf==3.7.3) (12.1.105)\r\n",
      "Requirement already satisfied: nvidia-cuda-runtime-cu12==12.1.105 in /home/blackswan/anaconda3/lib/python3.11/site-packages (from torch>=1.12.0->spacy-curated-transformers<0.3.0,>=0.2.0->en-core-web-trf==3.7.3) (12.1.105)\r\n",
      "Requirement already satisfied: nvidia-cuda-cupti-cu12==12.1.105 in /home/blackswan/anaconda3/lib/python3.11/site-packages (from torch>=1.12.0->spacy-curated-transformers<0.3.0,>=0.2.0->en-core-web-trf==3.7.3) (12.1.105)\r\n",
      "Requirement already satisfied: nvidia-cudnn-cu12==8.9.2.26 in /home/blackswan/anaconda3/lib/python3.11/site-packages (from torch>=1.12.0->spacy-curated-transformers<0.3.0,>=0.2.0->en-core-web-trf==3.7.3) (8.9.2.26)\r\n",
      "Requirement already satisfied: nvidia-cublas-cu12==12.1.3.1 in /home/blackswan/anaconda3/lib/python3.11/site-packages (from torch>=1.12.0->spacy-curated-transformers<0.3.0,>=0.2.0->en-core-web-trf==3.7.3) (12.1.3.1)\r\n",
      "Requirement already satisfied: nvidia-cufft-cu12==11.0.2.54 in /home/blackswan/anaconda3/lib/python3.11/site-packages (from torch>=1.12.0->spacy-curated-transformers<0.3.0,>=0.2.0->en-core-web-trf==3.7.3) (11.0.2.54)\r\n",
      "Requirement already satisfied: nvidia-curand-cu12==10.3.2.106 in /home/blackswan/anaconda3/lib/python3.11/site-packages (from torch>=1.12.0->spacy-curated-transformers<0.3.0,>=0.2.0->en-core-web-trf==3.7.3) (10.3.2.106)\r\n",
      "Requirement already satisfied: nvidia-cusolver-cu12==11.4.5.107 in /home/blackswan/anaconda3/lib/python3.11/site-packages (from torch>=1.12.0->spacy-curated-transformers<0.3.0,>=0.2.0->en-core-web-trf==3.7.3) (11.4.5.107)\r\n",
      "Requirement already satisfied: nvidia-cusparse-cu12==12.1.0.106 in /home/blackswan/anaconda3/lib/python3.11/site-packages (from torch>=1.12.0->spacy-curated-transformers<0.3.0,>=0.2.0->en-core-web-trf==3.7.3) (12.1.0.106)\r\n",
      "Requirement already satisfied: nvidia-nccl-cu12==2.18.1 in /home/blackswan/anaconda3/lib/python3.11/site-packages (from torch>=1.12.0->spacy-curated-transformers<0.3.0,>=0.2.0->en-core-web-trf==3.7.3) (2.18.1)\r\n",
      "Requirement already satisfied: nvidia-nvtx-cu12==12.1.105 in /home/blackswan/anaconda3/lib/python3.11/site-packages (from torch>=1.12.0->spacy-curated-transformers<0.3.0,>=0.2.0->en-core-web-trf==3.7.3) (12.1.105)\r\n",
      "Requirement already satisfied: triton==2.1.0 in /home/blackswan/anaconda3/lib/python3.11/site-packages (from torch>=1.12.0->spacy-curated-transformers<0.3.0,>=0.2.0->en-core-web-trf==3.7.3) (2.1.0)\r\n",
      "Requirement already satisfied: nvidia-nvjitlink-cu12 in /home/blackswan/anaconda3/lib/python3.11/site-packages (from nvidia-cusolver-cu12==11.4.5.107->torch>=1.12.0->spacy-curated-transformers<0.3.0,>=0.2.0->en-core-web-trf==3.7.3) (12.3.101)\r\n",
      "Requirement already satisfied: click<9.0.0,>=7.1.1 in /home/blackswan/anaconda3/lib/python3.11/site-packages (from typer<0.10.0,>=0.3.0->spacy<3.8.0,>=3.7.2->en-core-web-trf==3.7.3) (8.0.4)\r\n",
      "Requirement already satisfied: cloudpathlib<0.17.0,>=0.7.0 in /home/blackswan/anaconda3/lib/python3.11/site-packages (from weasel<0.4.0,>=0.1.0->spacy<3.8.0,>=3.7.2->en-core-web-trf==3.7.3) (0.16.0)\r\n",
      "Requirement already satisfied: MarkupSafe>=2.0 in /home/blackswan/anaconda3/lib/python3.11/site-packages (from jinja2->spacy<3.8.0,>=3.7.2->en-core-web-trf==3.7.3) (2.1.1)\r\n",
      "Requirement already satisfied: mpmath>=0.19 in /home/blackswan/anaconda3/lib/python3.11/site-packages (from sympy->torch>=1.12.0->spacy-curated-transformers<0.3.0,>=0.2.0->en-core-web-trf==3.7.3) (1.3.0)\r\n",
      "\u001B[38;5;2m✔ Download and installation successful\u001B[0m\r\n",
      "You can now load the package via spacy.load('en_core_web_trf')\r\n"
     ]
    }
   ],
   "source": [
    "!pip install spacy\n",
    "!pip install spacy-transformers\n",
    "!python3 -m spacy download en_core_web_trf"
   ],
   "metadata": {
    "collapsed": false,
    "ExecuteTime": {
     "end_time": "2024-01-19T12:21:35.737239841Z",
     "start_time": "2024-01-19T12:20:55.914260805Z"
    }
   },
   "id": "212222b051f44a31"
  },
  {
   "cell_type": "code",
   "execution_count": 21,
   "outputs": [],
   "source": [],
   "metadata": {
    "collapsed": false,
    "ExecuteTime": {
     "end_time": "2024-01-19T12:21:35.749807514Z",
     "start_time": "2024-01-19T12:21:35.738928977Z"
    }
   },
   "id": "73ef1448679f342f"
  },
  {
   "cell_type": "code",
   "execution_count": 23,
   "outputs": [],
   "source": [
    "import spacy"
   ],
   "metadata": {
    "collapsed": false,
    "ExecuteTime": {
     "end_time": "2024-01-21T16:29:07.897937151Z",
     "start_time": "2024-01-21T16:29:07.647541864Z"
    }
   },
   "id": "b364b3a6f7e8b869"
  },
  {
   "cell_type": "code",
   "execution_count": 24,
   "outputs": [
    {
     "name": "stdout",
     "output_type": "stream",
     "text": [
      "/bin/bash: warning: setlocale: LC_ALL: cannot change locale (en_US.UTF-8)\r\n",
      "Collecting en-core-web-lg==3.7.1\r\n",
      "  Downloading https://github.com/explosion/spacy-models/releases/download/en_core_web_lg-3.7.1/en_core_web_lg-3.7.1-py3-none-any.whl (587.7 MB)\r\n",
      "\u001B[2K     \u001B[90m━━━━━━━━━━━━━━━━━━━━━━━━━━━━━━━━━━━━━━━\u001B[0m \u001B[32m587.7/587.7 MB\u001B[0m \u001B[31m1.5 MB/s\u001B[0m eta \u001B[36m0:00:00\u001B[0m00:01\u001B[0m00:01\u001B[0m\r\n",
      "\u001B[?25hRequirement already satisfied: spacy<3.8.0,>=3.7.2 in /home/blackswan/anaconda3/lib/python3.11/site-packages (from en-core-web-lg==3.7.1) (3.7.2)\r\n",
      "Requirement already satisfied: spacy-legacy<3.1.0,>=3.0.11 in /home/blackswan/anaconda3/lib/python3.11/site-packages (from spacy<3.8.0,>=3.7.2->en-core-web-lg==3.7.1) (3.0.12)\r\n",
      "Requirement already satisfied: spacy-loggers<2.0.0,>=1.0.0 in /home/blackswan/anaconda3/lib/python3.11/site-packages (from spacy<3.8.0,>=3.7.2->en-core-web-lg==3.7.1) (1.0.4)\r\n",
      "Requirement already satisfied: murmurhash<1.1.0,>=0.28.0 in /home/blackswan/anaconda3/lib/python3.11/site-packages (from spacy<3.8.0,>=3.7.2->en-core-web-lg==3.7.1) (1.0.7)\r\n",
      "Requirement already satisfied: cymem<2.1.0,>=2.0.2 in /home/blackswan/anaconda3/lib/python3.11/site-packages (from spacy<3.8.0,>=3.7.2->en-core-web-lg==3.7.1) (2.0.6)\r\n",
      "Requirement already satisfied: preshed<3.1.0,>=3.0.2 in /home/blackswan/anaconda3/lib/python3.11/site-packages (from spacy<3.8.0,>=3.7.2->en-core-web-lg==3.7.1) (3.0.6)\r\n",
      "Requirement already satisfied: thinc<8.3.0,>=8.1.8 in /home/blackswan/anaconda3/lib/python3.11/site-packages (from spacy<3.8.0,>=3.7.2->en-core-web-lg==3.7.1) (8.2.2)\r\n",
      "Requirement already satisfied: wasabi<1.2.0,>=0.9.1 in /home/blackswan/anaconda3/lib/python3.11/site-packages (from spacy<3.8.0,>=3.7.2->en-core-web-lg==3.7.1) (0.9.1)\r\n",
      "Requirement already satisfied: srsly<3.0.0,>=2.4.3 in /home/blackswan/anaconda3/lib/python3.11/site-packages (from spacy<3.8.0,>=3.7.2->en-core-web-lg==3.7.1) (2.4.8)\r\n",
      "Requirement already satisfied: catalogue<2.1.0,>=2.0.6 in /home/blackswan/anaconda3/lib/python3.11/site-packages (from spacy<3.8.0,>=3.7.2->en-core-web-lg==3.7.1) (2.0.10)\r\n",
      "Requirement already satisfied: weasel<0.4.0,>=0.1.0 in /home/blackswan/anaconda3/lib/python3.11/site-packages (from spacy<3.8.0,>=3.7.2->en-core-web-lg==3.7.1) (0.3.4)\r\n",
      "Requirement already satisfied: typer<0.10.0,>=0.3.0 in /home/blackswan/anaconda3/lib/python3.11/site-packages (from spacy<3.8.0,>=3.7.2->en-core-web-lg==3.7.1) (0.9.0)\r\n",
      "Requirement already satisfied: smart-open<7.0.0,>=5.2.1 in /home/blackswan/anaconda3/lib/python3.11/site-packages (from spacy<3.8.0,>=3.7.2->en-core-web-lg==3.7.1) (5.2.1)\r\n",
      "Requirement already satisfied: tqdm<5.0.0,>=4.38.0 in /home/blackswan/anaconda3/lib/python3.11/site-packages (from spacy<3.8.0,>=3.7.2->en-core-web-lg==3.7.1) (4.65.0)\r\n",
      "Requirement already satisfied: requests<3.0.0,>=2.13.0 in /home/blackswan/anaconda3/lib/python3.11/site-packages (from spacy<3.8.0,>=3.7.2->en-core-web-lg==3.7.1) (2.31.0)\r\n",
      "Requirement already satisfied: pydantic!=1.8,!=1.8.1,<3.0.0,>=1.7.4 in /home/blackswan/anaconda3/lib/python3.11/site-packages (from spacy<3.8.0,>=3.7.2->en-core-web-lg==3.7.1) (1.10.8)\r\n",
      "Requirement already satisfied: jinja2 in /home/blackswan/anaconda3/lib/python3.11/site-packages (from spacy<3.8.0,>=3.7.2->en-core-web-lg==3.7.1) (3.1.2)\r\n",
      "Requirement already satisfied: setuptools in /home/blackswan/anaconda3/lib/python3.11/site-packages (from spacy<3.8.0,>=3.7.2->en-core-web-lg==3.7.1) (68.0.0)\r\n",
      "Requirement already satisfied: packaging>=20.0 in /home/blackswan/anaconda3/lib/python3.11/site-packages (from spacy<3.8.0,>=3.7.2->en-core-web-lg==3.7.1) (23.1)\r\n",
      "Requirement already satisfied: langcodes<4.0.0,>=3.2.0 in /home/blackswan/anaconda3/lib/python3.11/site-packages (from spacy<3.8.0,>=3.7.2->en-core-web-lg==3.7.1) (3.3.0)\r\n",
      "Requirement already satisfied: numpy>=1.19.0 in /home/blackswan/anaconda3/lib/python3.11/site-packages (from spacy<3.8.0,>=3.7.2->en-core-web-lg==3.7.1) (1.23.5)\r\n",
      "Requirement already satisfied: typing-extensions>=4.2.0 in /home/blackswan/anaconda3/lib/python3.11/site-packages (from pydantic!=1.8,!=1.8.1,<3.0.0,>=1.7.4->spacy<3.8.0,>=3.7.2->en-core-web-lg==3.7.1) (4.7.1)\r\n",
      "Requirement already satisfied: charset-normalizer<4,>=2 in /home/blackswan/anaconda3/lib/python3.11/site-packages (from requests<3.0.0,>=2.13.0->spacy<3.8.0,>=3.7.2->en-core-web-lg==3.7.1) (2.0.4)\r\n",
      "Requirement already satisfied: idna<4,>=2.5 in /home/blackswan/anaconda3/lib/python3.11/site-packages (from requests<3.0.0,>=2.13.0->spacy<3.8.0,>=3.7.2->en-core-web-lg==3.7.1) (3.4)\r\n",
      "Requirement already satisfied: urllib3<3,>=1.21.1 in /home/blackswan/anaconda3/lib/python3.11/site-packages (from requests<3.0.0,>=2.13.0->spacy<3.8.0,>=3.7.2->en-core-web-lg==3.7.1) (1.26.16)\r\n",
      "Requirement already satisfied: certifi>=2017.4.17 in /home/blackswan/anaconda3/lib/python3.11/site-packages (from requests<3.0.0,>=2.13.0->spacy<3.8.0,>=3.7.2->en-core-web-lg==3.7.1) (2023.11.17)\r\n",
      "Requirement already satisfied: blis<0.8.0,>=0.7.8 in /home/blackswan/anaconda3/lib/python3.11/site-packages (from thinc<8.3.0,>=8.1.8->spacy<3.8.0,>=3.7.2->en-core-web-lg==3.7.1) (0.7.9)\r\n",
      "Requirement already satisfied: confection<1.0.0,>=0.0.1 in /home/blackswan/anaconda3/lib/python3.11/site-packages (from thinc<8.3.0,>=8.1.8->spacy<3.8.0,>=3.7.2->en-core-web-lg==3.7.1) (0.1.4)\r\n",
      "Requirement already satisfied: click<9.0.0,>=7.1.1 in /home/blackswan/anaconda3/lib/python3.11/site-packages (from typer<0.10.0,>=0.3.0->spacy<3.8.0,>=3.7.2->en-core-web-lg==3.7.1) (8.0.4)\r\n",
      "Requirement already satisfied: cloudpathlib<0.17.0,>=0.7.0 in /home/blackswan/anaconda3/lib/python3.11/site-packages (from weasel<0.4.0,>=0.1.0->spacy<3.8.0,>=3.7.2->en-core-web-lg==3.7.1) (0.16.0)\r\n",
      "Requirement already satisfied: MarkupSafe>=2.0 in /home/blackswan/anaconda3/lib/python3.11/site-packages (from jinja2->spacy<3.8.0,>=3.7.2->en-core-web-lg==3.7.1) (2.1.1)\r\n",
      "\u001B[38;5;2m✔ Download and installation successful\u001B[0m\r\n",
      "You can now load the package via spacy.load('en_core_web_lg')\r\n"
     ]
    }
   ],
   "source": [
    "!python3 -m spacy download en_core_web_lg"
   ],
   "metadata": {
    "collapsed": false,
    "ExecuteTime": {
     "end_time": "2024-01-21T16:29:39.404380981Z",
     "start_time": "2024-01-21T16:29:09.076926175Z"
    }
   },
   "id": "50385279daf10a02"
  },
  {
   "cell_type": "code",
   "execution_count": 25,
   "outputs": [],
   "source": [
    "nlp = spacy.load(\"en_core_web_lg\")\n",
    "doc = nlp(\"Apple shares rose on the news. Apple pie is delicious.\").vector"
   ],
   "metadata": {
    "collapsed": false,
    "ExecuteTime": {
     "end_time": "2024-01-21T16:29:42.343087081Z",
     "start_time": "2024-01-21T16:29:39.411328934Z"
    }
   },
   "id": "33049769ae0e6e97"
  },
  {
   "cell_type": "code",
   "execution_count": 26,
   "outputs": [
    {
     "data": {
      "text/plain": "array([-1.18700646e-01, -1.41039336e+00, -2.14910340e+00,  8.83527994e-01,\n        5.56492472e+00, -9.87121642e-01, -1.14053094e+00,  4.43576670e+00,\n       -3.72914225e-01, -1.41204226e+00,  4.56952858e+00,  4.27760839e-01,\n       -2.31775141e+00,  6.92854226e-01,  1.15528846e+00,  2.31034160e+00,\n        2.57655549e+00, -6.75784111e-01,  1.13154316e+00, -2.44445491e+00,\n        1.47608435e+00, -1.68519959e-01, -7.40572512e-01, -1.11758280e+00,\n       -3.36654162e+00, -7.73094893e-01, -1.00135839e+00, -1.16324246e+00,\n       -7.35800922e-01,  1.05197847e+00, -3.64668399e-01, -1.64117500e-01,\n       -3.30009460e+00, -3.08980751e+00, -1.81026840e+00,  5.23460805e-01,\n       -1.47361326e+00,  3.91166568e+00,  1.94414079e+00,  1.41275465e+00,\n        9.01624143e-01,  2.62060571e+00, -1.04173517e-03, -9.47884858e-01,\n        3.97454977e-01,  1.39844847e+00,  2.00074172e+00, -1.80079424e+00,\n        8.34936619e-01,  9.27045763e-01, -7.79365063e-01,  1.24467003e+00,\n       -1.04951508e-01, -4.03386641e+00,  5.83676696e-01,  4.07089114e-01,\n       -4.05124158e-01,  6.94060028e-01, -1.06562543e+00,  2.17943406e+00,\n        1.34901667e+00,  8.20858240e-01,  1.37552392e+00, -3.71830821e-01,\n        5.49558342e-01,  7.40565836e-01, -2.24515009e+00, -1.95358896e+00,\n        1.26103914e+00,  7.85405159e-01, -3.19169164e+00, -9.72279251e-01,\n       -4.72669983e+00, -6.09331667e-01,  5.14607549e-01,  1.16763973e+00,\n       -1.81991184e+00,  2.02919200e-01, -8.20809186e-01, -1.36248350e-01,\n       -1.34785998e+00, -1.16901314e+00,  1.05073571e-01,  1.83035538e-01,\n        1.69904506e+00,  8.80492389e-01,  2.22917438e+00, -2.31674150e-01,\n       -6.82343185e-01, -1.39106417e+00, -2.05942082e+00,  4.07692522e-01,\n       -1.71111241e-01, -3.08088493e+00, -2.59339124e-01, -2.07542992e+00,\n        2.03840995e+00, -3.01185322e+00,  1.22644997e+00, -1.70148814e+00,\n        1.18001592e+00, -7.37812102e-01,  2.98813653e+00,  1.63027513e+00,\n        1.23633838e+00,  3.46494985e+00, -8.30117464e-01,  8.46681654e-01,\n       -4.95027393e-01, -2.10271382e+00,  3.35914999e-01,  1.08661485e+00,\n       -1.44227231e+00, -1.14998594e-03,  2.37536645e+00,  1.32605001e-01,\n       -1.20494962e-01, -2.20827699e+00, -1.30371940e+00, -8.83465946e-01,\n       -7.60732472e-01, -1.90090179e+00,  2.25859594e+00,  9.86142635e-01,\n        2.12503299e-01, -2.70247340e+00,  1.88279307e+00, -2.02632165e+00,\n        2.63205194e+00, -1.71384251e+00, -1.88292348e+00,  3.97233337e-01,\n        4.03920317e+00, -1.02173507e+00, -1.63782075e-01,  1.79220498e+00,\n       -1.87628448e+00, -2.92802024e+00,  2.40667534e+00, -2.69538331e+00,\n       -6.53122485e-01, -2.49934182e-01, -8.49358365e-02,  1.34795082e+00,\n        4.34553295e-01,  1.44959259e+00, -3.12836671e+00,  9.76959765e-01,\n       -4.71774936e-02,  1.62865746e+00, -1.17070591e+00,  2.21900964e+00,\n        1.12856996e+00,  1.79819870e+00, -7.27369070e-01,  1.45370829e+00,\n        2.90205097e+00,  1.47067678e+00, -1.64880002e+00,  1.03538640e-01,\n        1.42856753e+00, -3.04015756e+00, -3.79456669e-01,  3.65336746e-01,\n       -3.51702523e+00, -1.00102317e+00, -1.96671355e+00,  3.05438137e+00,\n        8.80244792e-01,  2.42583361e-02, -7.13638246e-01, -2.04693675e+00,\n        1.26643956e+00, -1.64886281e-01, -1.18434989e+00,  1.91151425e-01,\n       -1.22289598e+00,  1.13706243e+00, -1.49591699e-01, -2.11158252e+00,\n       -5.99793434e-01,  2.33054042e+00,  1.09355938e+00,  3.05355042e-01,\n       -1.41592753e+00, -1.92864180e-01, -5.82340002e-01, -9.84386027e-01,\n        1.81555569e+00,  7.16437519e-01,  2.12033510e-01, -1.93555498e+00,\n       -4.64621693e-01, -1.69384754e+00,  8.35949183e-01, -1.63462484e+00,\n       -1.51919997e+00,  9.64300811e-01,  1.21696174e+00,  1.29709840e+00,\n       -5.52863598e-01, -1.58176935e+00,  1.00419186e-01, -4.33142376e+00,\n        2.23316979e+00,  1.20329249e+00, -4.38682842e+00,  3.17877460e+00,\n        4.46335882e-01, -1.13532150e+00,  2.47855973e+00, -3.33535790e-01,\n       -2.42504263e+00,  1.15777743e+00,  3.04067802e+00, -5.66462517e-01,\n        3.09777468e-01, -2.18970752e+00,  8.11491981e-02, -2.70803392e-01,\n        1.10022545e-01, -7.85760105e-01,  1.84641983e-02, -1.11871660e+00,\n       -7.71950781e-01, -9.02683318e-01,  9.61236179e-01,  1.54354823e+00,\n        1.07103050e+00,  1.20040841e-01,  1.53207934e+00, -3.87239242e+00,\n        1.73567519e-01,  1.79035604e+00, -7.65402615e-01,  3.01852918e+00,\n       -1.96838748e+00,  2.19285989e+00,  1.29488575e+00,  1.18829751e+00,\n       -1.07526827e+00, -2.01142669e+00,  9.79630053e-01,  5.68416528e-02,\n       -1.24056339e+00,  1.13695419e+00, -1.53028965e+00,  1.05279177e-01,\n       -1.43700492e+00,  6.52398348e-01, -2.17196488e+00, -1.25161088e+00,\n       -3.41784668e+00, -1.48194551e+00,  9.47370708e-01, -1.54878747e+00,\n        2.34788895e+00,  5.92197478e-01,  3.97533327e-01,  7.50247478e-01,\n       -1.30695120e-01,  5.34040594e+00,  1.68706524e+00,  2.22342229e+00,\n        1.98340166e+00, -4.99594122e-01, -1.67299926e+00,  1.43761837e+00,\n       -2.72800088e+00,  1.70937523e-01,  6.27313197e-01, -3.29280764e-01,\n        5.11275828e-01, -2.23759246e+00, -1.23533309e-02, -2.04431558e+00,\n        1.70093489e+00, -7.24595726e-01,  1.41926336e+00,  2.39449906e+00,\n        3.34605312e+00,  1.73688307e-01, -1.99673593e+00,  1.51017702e+00,\n        1.90074503e+00,  2.82934219e-01, -1.79314494e-01, -5.06724901e-02,\n       -7.54899204e-01,  2.34580159e+00,  5.88815033e-01, -1.86129138e-01,\n        5.95500087e-03, -1.54569829e+00, -1.48589504e+00,  6.10773385e-01,\n        2.17768002e+00, -4.93476003e-01, -1.14774585e+00,  1.92935094e-01],\n      dtype=float32)"
     },
     "execution_count": 26,
     "metadata": {},
     "output_type": "execute_result"
    }
   ],
   "source": [
    "doc"
   ],
   "metadata": {
    "collapsed": false,
    "ExecuteTime": {
     "end_time": "2024-01-21T16:29:42.363287026Z",
     "start_time": "2024-01-21T16:29:42.351084879Z"
    }
   },
   "id": "e4ee17862bbdecf6"
  },
  {
   "cell_type": "code",
   "execution_count": 27,
   "outputs": [],
   "source": [
    "df_exploit = df_train"
   ],
   "metadata": {
    "collapsed": false,
    "ExecuteTime": {
     "end_time": "2024-01-21T16:29:59.754335349Z",
     "start_time": "2024-01-21T16:29:59.460613472Z"
    }
   },
   "id": "a6b010eef91dadaa"
  },
  {
   "cell_type": "markdown",
   "source": [
    "### do not forget to define labels vector"
   ],
   "metadata": {
    "collapsed": false
   },
   "id": "21cf76eb10b1e74a"
  },
  {
   "cell_type": "code",
   "execution_count": 28,
   "outputs": [
    {
     "name": "stdout",
     "output_type": "stream",
     "text": [
      "2.1.2+cu121\n",
      "/bin/bash: warning: setlocale: LC_ALL: cannot change locale (en_US.UTF-8)\r\n",
      "/bin/bash: warning: setlocale: LC_ALL: cannot change locale (en_US.UTF-8)\r\n",
      "/bin/bash: warning: setlocale: LC_ALL: cannot change locale (en_US.UTF-8)\r\n"
     ]
    }
   ],
   "source": [
    "import os\n",
    "import torch\n",
    "os.environ['TORCH'] = torch.__version__\n",
    "print(torch.__version__)\n",
    "\n",
    "!pip install -q torch-scatter -f https://data.pyg.org/whl/torch-${torch.__version__}.html\n",
    "!pip install -q torch-sparse -f https://data.pyg.org/whl/torch-${torch.__version__}.html\n",
    "!pip install -q git+https://github.com/pyg-team/pytorch_geometric.git\n",
    "\n",
    "#from torch_geometric"
   ],
   "metadata": {
    "collapsed": false,
    "ExecuteTime": {
     "end_time": "2024-01-21T16:30:37.486005665Z",
     "start_time": "2024-01-21T16:30:05.091344897Z"
    }
   },
   "id": "551c6808e9811cca"
  },
  {
   "cell_type": "code",
   "execution_count": 34,
   "outputs": [],
   "source": [],
   "metadata": {
    "collapsed": false,
    "ExecuteTime": {
     "end_time": "2024-01-20T02:36:00.919390083Z",
     "start_time": "2024-01-20T02:36:00.908737758Z"
    }
   },
   "id": "2e857fd6802086ae"
  },
  {
   "cell_type": "code",
   "execution_count": 38,
   "outputs": [],
   "source": [
    "df_training=df_train.drop(['prompt_id','text_length','word_count'], axis=1)"
   ],
   "metadata": {
    "collapsed": false,
    "ExecuteTime": {
     "end_time": "2024-01-21T16:32:45.041392776Z",
     "start_time": "2024-01-21T16:32:44.804158694Z"
    }
   },
   "id": "5b64dfa9701d4556"
  },
  {
   "cell_type": "code",
   "execution_count": 39,
   "outputs": [],
   "source": [
    "df_training['source'][df_train['source']!='Human']='LLM'\n"
   ],
   "metadata": {
    "collapsed": false,
    "ExecuteTime": {
     "end_time": "2024-01-21T16:32:47.706615400Z",
     "start_time": "2024-01-21T16:32:47.564284756Z"
    }
   },
   "id": "8b6f134bbfbccee3"
  },
  {
   "cell_type": "code",
   "execution_count": 41,
   "outputs": [
    {
     "data": {
      "text/plain": "  text source prompt_id text_length word_count\n0  LLM    LLM       LLM         LLM        LLM\n1  LLM    LLM       LLM         LLM        LLM\n2  LLM    LLM       LLM         LLM        LLM\n3  LLM    LLM       LLM         LLM        LLM\n4  LLM    LLM       LLM         LLM        LLM\n5  LLM    LLM       LLM         LLM        LLM\n6  LLM    LLM       LLM         LLM        LLM\n7  LLM    LLM       LLM         LLM        LLM\n8  LLM    LLM       LLM         LLM        LLM\n9  LLM    LLM       LLM         LLM        LLM",
      "text/html": "<div>\n<style scoped>\n    .dataframe tbody tr th:only-of-type {\n        vertical-align: middle;\n    }\n\n    .dataframe tbody tr th {\n        vertical-align: top;\n    }\n\n    .dataframe thead th {\n        text-align: right;\n    }\n</style>\n<table border=\"1\" class=\"dataframe\">\n  <thead>\n    <tr style=\"text-align: right;\">\n      <th></th>\n      <th>text</th>\n      <th>source</th>\n      <th>prompt_id</th>\n      <th>text_length</th>\n      <th>word_count</th>\n    </tr>\n  </thead>\n  <tbody>\n    <tr>\n      <th>0</th>\n      <td>LLM</td>\n      <td>LLM</td>\n      <td>LLM</td>\n      <td>LLM</td>\n      <td>LLM</td>\n    </tr>\n    <tr>\n      <th>1</th>\n      <td>LLM</td>\n      <td>LLM</td>\n      <td>LLM</td>\n      <td>LLM</td>\n      <td>LLM</td>\n    </tr>\n    <tr>\n      <th>2</th>\n      <td>LLM</td>\n      <td>LLM</td>\n      <td>LLM</td>\n      <td>LLM</td>\n      <td>LLM</td>\n    </tr>\n    <tr>\n      <th>3</th>\n      <td>LLM</td>\n      <td>LLM</td>\n      <td>LLM</td>\n      <td>LLM</td>\n      <td>LLM</td>\n    </tr>\n    <tr>\n      <th>4</th>\n      <td>LLM</td>\n      <td>LLM</td>\n      <td>LLM</td>\n      <td>LLM</td>\n      <td>LLM</td>\n    </tr>\n    <tr>\n      <th>5</th>\n      <td>LLM</td>\n      <td>LLM</td>\n      <td>LLM</td>\n      <td>LLM</td>\n      <td>LLM</td>\n    </tr>\n    <tr>\n      <th>6</th>\n      <td>LLM</td>\n      <td>LLM</td>\n      <td>LLM</td>\n      <td>LLM</td>\n      <td>LLM</td>\n    </tr>\n    <tr>\n      <th>7</th>\n      <td>LLM</td>\n      <td>LLM</td>\n      <td>LLM</td>\n      <td>LLM</td>\n      <td>LLM</td>\n    </tr>\n    <tr>\n      <th>8</th>\n      <td>LLM</td>\n      <td>LLM</td>\n      <td>LLM</td>\n      <td>LLM</td>\n      <td>LLM</td>\n    </tr>\n    <tr>\n      <th>9</th>\n      <td>LLM</td>\n      <td>LLM</td>\n      <td>LLM</td>\n      <td>LLM</td>\n      <td>LLM</td>\n    </tr>\n  </tbody>\n</table>\n</div>"
     },
     "execution_count": 41,
     "metadata": {},
     "output_type": "execute_result"
    }
   ],
   "source": [
    "df_train.head(10)"
   ],
   "metadata": {
    "collapsed": false,
    "ExecuteTime": {
     "end_time": "2024-01-21T16:33:09.782870374Z",
     "start_time": "2024-01-21T16:33:09.497617978Z"
    }
   },
   "id": "8cafa7f80c9e184e"
  },
  {
   "cell_type": "code",
   "execution_count": null,
   "outputs": [],
   "source": [
    "#df_train.to_csv('./train.csv', sep=',')"
   ],
   "metadata": {
    "collapsed": false
   },
   "id": "53b891822f4e8440"
  },
  {
   "cell_type": "code",
   "execution_count": 177,
   "outputs": [],
   "source": [
    "#df_train = pd.read_csv('train.csv', sep=',')"
   ],
   "metadata": {
    "collapsed": false,
    "ExecuteTime": {
     "end_time": "2024-01-21T10:23:22.130877731Z",
     "start_time": "2024-01-21T10:23:06.420400478Z"
    }
   },
   "id": "f54690ea444a1379"
  },
  {
   "cell_type": "code",
   "execution_count": 178,
   "outputs": [],
   "source": [
    "df_training=df_train.drop( ['Unnamed: 0', 'prompt_tkn'], axis=1)"
   ],
   "metadata": {
    "collapsed": false,
    "ExecuteTime": {
     "end_time": "2024-01-21T10:23:22.346829369Z",
     "start_time": "2024-01-21T10:23:22.148939602Z"
    }
   },
   "id": "f04ae134fc3cda90"
  },
  {
   "cell_type": "code",
   "execution_count": 179,
   "outputs": [],
   "source": [
    "df_training['text_tkn'] = df_training['text_tkn'].replace(r'\\r+|\\n+|\\t+','', regex=True)"
   ],
   "metadata": {
    "collapsed": false,
    "ExecuteTime": {
     "end_time": "2024-01-21T10:24:18.162687529Z",
     "start_time": "2024-01-21T10:23:22.280056554Z"
    }
   },
   "id": "3a36bc6ed329c813"
  },
  {
   "cell_type": "code",
   "execution_count": 180,
   "outputs": [
    {
     "name": "stdout",
     "output_type": "stream",
     "text": [
      "<class 'pandas.core.frame.DataFrame'>\n",
      "RangeIndex: 788922 entries, 0 to 788921\n",
      "Data columns (total 2 columns):\n",
      " #   Column    Non-Null Count   Dtype \n",
      "---  ------    --------------   ----- \n",
      " 0   source    788922 non-null  object\n",
      " 1   text_tkn  788922 non-null  object\n",
      "dtypes: object(2)\n",
      "memory usage: 12.0+ MB\n"
     ]
    }
   ],
   "source": [
    "df_training.info()\n"
   ],
   "metadata": {
    "collapsed": false,
    "ExecuteTime": {
     "end_time": "2024-01-21T10:24:18.325536113Z",
     "start_time": "2024-01-21T10:24:18.292627683Z"
    }
   },
   "id": "18463d9027646ff9"
  },
  {
   "cell_type": "code",
   "execution_count": 181,
   "outputs": [
    {
     "data": {
      "text/plain": "'[-1.7170138  -0.8972126  -0.28351808 -0.09314597  0.34591177  0.59967685  0.2787383   0.61993074 -0.91432416 -1.0161521   1.9153745   0.06034416 -0.54150224  1.284397   -0.56084186  0.10157435 -0.65844655 -0.91089857  0.42125666  0.71709365 -1.3659492   0.66792923 -0.25392127 -0.37832338  1.2446387   1.2803255   0.7153004   1.7668738  -0.80765486  0.18192574 -0.7957706  -0.5879898   2.035952    0.71865773  0.39151493 -2.0911279  0.43211168  1.2621232   0.40549326 -0.35194322 -1.8106288   0.31361255 -0.2837884  -0.01610565 -0.4195618  -1.5375962  -1.4196184   1.0759362 -0.21627726  0.18058679  0.88757175  0.4636433  -0.20705251 -0.6511278 -0.80756205 -0.8202102   1.0242677   0.05773805  0.30879375 -0.11001222 -0.75995064  0.4510672  -0.21182144 -0.89235884  0.8701294   1.1196759 -0.07992123  1.0193512   1.6837857   0.28671718 -0.10578845 -0.43321353  0.3705123   0.05474645 -0.6073077  -0.08611059  0.1476335  -0.2833263  0.06213349 -1.3963039  -0.46218908 -0.48698547 -0.66403174 -0.4324369  0.19211945  0.62452555  0.89421797  0.3777135  -0.64598763 -0.04912657 -0.99970585 -1.0151895   2.9166963  -0.05972537  0.24510276  2.159496  ]'"
     },
     "execution_count": 181,
     "metadata": {},
     "output_type": "execute_result"
    }
   ],
   "source": [
    "df_training['text_tkn'][0]"
   ],
   "metadata": {
    "collapsed": false,
    "ExecuteTime": {
     "end_time": "2024-01-21T10:24:25.109954224Z",
     "start_time": "2024-01-21T10:24:24.918296356Z"
    }
   },
   "id": "ff08340a718f638f"
  },
  {
   "cell_type": "code",
   "execution_count": 183,
   "outputs": [],
   "source": [
    "df_training['text_tkn'] = df_training['text_tkn'].str.rstrip(']').str.lstrip('[')\n"
   ],
   "metadata": {
    "collapsed": false,
    "ExecuteTime": {
     "end_time": "2024-01-21T10:25:41.323032954Z",
     "start_time": "2024-01-21T10:25:38.825674966Z"
    }
   },
   "id": "897f681cc71d252"
  },
  {
   "cell_type": "code",
   "execution_count": 185,
   "outputs": [
    {
     "data": {
      "text/plain": "'-1.7170138  -0.8972126  -0.28351808 -0.09314597  0.34591177  0.59967685  0.2787383   0.61993074 -0.91432416 -1.0161521   1.9153745   0.06034416 -0.54150224  1.284397   -0.56084186  0.10157435 -0.65844655 -0.91089857  0.42125666  0.71709365 -1.3659492   0.66792923 -0.25392127 -0.37832338  1.2446387   1.2803255   0.7153004   1.7668738  -0.80765486  0.18192574 -0.7957706  -0.5879898   2.035952    0.71865773  0.39151493 -2.0911279  0.43211168  1.2621232   0.40549326 -0.35194322 -1.8106288   0.31361255 -0.2837884  -0.01610565 -0.4195618  -1.5375962  -1.4196184   1.0759362 -0.21627726  0.18058679  0.88757175  0.4636433  -0.20705251 -0.6511278 -0.80756205 -0.8202102   1.0242677   0.05773805  0.30879375 -0.11001222 -0.75995064  0.4510672  -0.21182144 -0.89235884  0.8701294   1.1196759 -0.07992123  1.0193512   1.6837857   0.28671718 -0.10578845 -0.43321353  0.3705123   0.05474645 -0.6073077  -0.08611059  0.1476335  -0.2833263  0.06213349 -1.3963039  -0.46218908 -0.48698547 -0.66403174 -0.4324369  0.19211945  0.62452555  0.89421797  0.3777135  -0.64598763 -0.04912657 -0.99970585 -1.0151895   2.9166963  -0.05972537  0.24510276  2.159496  '"
     },
     "execution_count": 185,
     "metadata": {},
     "output_type": "execute_result"
    }
   ],
   "source": [
    "df_training['text_tkn'][1]\n"
   ],
   "metadata": {
    "collapsed": false,
    "ExecuteTime": {
     "end_time": "2024-01-21T10:26:35.059430235Z",
     "start_time": "2024-01-21T10:26:34.853516183Z"
    }
   },
   "id": "277341aa70764f66"
  },
  {
   "cell_type": "code",
   "execution_count": 158,
   "outputs": [],
   "source": [
    "import spacy"
   ],
   "metadata": {
    "collapsed": false,
    "ExecuteTime": {
     "end_time": "2024-01-21T10:00:55.221460035Z",
     "start_time": "2024-01-21T10:00:55.201631999Z"
    }
   },
   "id": "64136b3a0875521"
  },
  {
   "cell_type": "code",
   "execution_count": 80,
   "outputs": [],
   "source": [
    "class Tokenizer(object):\n",
    "    def __init__(self, nlp_model=\"en_core_web_lg\"):\n",
    "        self.nlp= spacy.load(nlp_model)\n",
    "        #self.word2idx = word2idx\n",
    "        #if self.word2idx is {}:\n",
    "        word2idx = {}\n",
    "        idx2word = {}\n",
    "        self.idx = 0\n",
    "        word2idx['<pad>'] = self.idx\n",
    "        idx2word[self.idx] = '<pad>'\n",
    "        self.idx += 1\n",
    "        word2idx['<unk>'] = self.idx\n",
    "        idx2word[self.idx] = 'unk'\n",
    "        self.idx += 1\n",
    "        self.word2idx = word2idx\n",
    "        self.idx2word = { v:k for k,v in word2idx.items()}\n",
    "        \n",
    "    def fit_on_doc(self, doc:spacy.tokens.doc.Doc):\n",
    "        for word in doc:\n",
    "            word= str(word).lower()\n",
    "            if word not in self.word2idx:\n",
    "                self.word2idx[word]=self.idx\n",
    "                self.idx2word[self.idx]=word\n",
    "                self.idx += 1\n",
    "    def text_to_doc(self, text):\n",
    "        return self.nlp(text)\n",
    "    def doc_to_sequence(self, doc:spacy.tokens.doc.Doc):\n",
    "        sequence = []\n",
    "        for w in doc:\n",
    "            w = str(w).lower()\n",
    "            word_id = self.word2idx.get(w,-1)\n",
    "            if word_id == -1:\n",
    "                word_id = self.word2idx['<unk>']\n",
    "            sequence.append(word_id)\n",
    "        if len(sequence) == 0:\n",
    "            sequence = [0]\n",
    "        return np.array(sequence, dtype=np.int32)\n",
    "    def doc_to_adj(self, doc: spacy.tokens.doc.Doc):\n",
    "        matrix = np.zeros((len(doc),len(doc))).astype('int32')\n",
    "        for token in doc:\n",
    "            for child in token.children:\n",
    "                matrix[token.i][child.i] = 1\n",
    "                matrix[child.i][token.i] = 1\n",
    "        return matrix"
   ],
   "metadata": {
    "collapsed": false,
    "ExecuteTime": {
     "end_time": "2024-01-21T16:16:02.771149472Z",
     "start_time": "2024-01-21T16:16:02.463579793Z"
    }
   },
   "id": "c65b2970f99e3cc3"
  },
  {
   "cell_type": "code",
   "execution_count": 81,
   "outputs": [],
   "source": [
    "tokenizer = Tokenizer()"
   ],
   "metadata": {
    "collapsed": false,
    "ExecuteTime": {
     "end_time": "2024-01-21T16:16:06.502011821Z",
     "start_time": "2024-01-21T16:16:03.676699503Z"
    }
   },
   "id": "66332a6b12a9f66e"
  },
  {
   "cell_type": "code",
   "execution_count": 82,
   "outputs": [],
   "source": [
    "from scipy.sparse import coo_matrix"
   ],
   "metadata": {
    "collapsed": false,
    "ExecuteTime": {
     "end_time": "2024-01-21T16:16:06.535519684Z",
     "start_time": "2024-01-21T16:16:06.504507173Z"
    }
   },
   "id": "579e55eaef902fce"
  },
  {
   "cell_type": "code",
   "execution_count": 83,
   "outputs": [],
   "source": [
    "from tqdm import tqdm"
   ],
   "metadata": {
    "collapsed": false,
    "ExecuteTime": {
     "end_time": "2024-01-21T16:16:06.536120247Z",
     "start_time": "2024-01-21T16:16:06.515484542Z"
    }
   },
   "id": "3e2001994a4e553b"
  },
  {
   "cell_type": "code",
   "execution_count": 86,
   "outputs": [
    {
     "data": {
      "text/plain": "text      0\nsource    0\ndtype: int64"
     },
     "execution_count": 86,
     "metadata": {},
     "output_type": "execute_result"
    }
   ],
   "source": [
    "df_train.isna().sum()"
   ],
   "metadata": {
    "collapsed": false,
    "ExecuteTime": {
     "end_time": "2024-01-21T16:17:57.207485177Z",
     "start_time": "2024-01-21T16:17:57.110077700Z"
    }
   },
   "id": "30c0e06aa2233864"
  },
  {
   "cell_type": "code",
   "execution_count": null,
   "outputs": [],
   "source": [
    "train_idx2graph = {}\n",
    "\n",
    "for i in tqdm(range(df_train.shape[0])):\n",
    "    text = df_train.text[i].lower().replace(\"/n\", \"\").strip()\n",
    "    doc = tokenizer.text_to_doc(text)\n",
    "    tokenizer.fit_on_doc(doc)\n",
    "    adj_matrix = tokenizer.doc_to_adj(doc)\n",
    "    coo = coo_matrix(adj_matrix)\n",
    "    train_idx2graph[i] = np.array([coo.row, coo.col])"
   ],
   "metadata": {
    "collapsed": false,
    "ExecuteTime": {
     "start_time": "2024-01-21T16:17:38.970392276Z"
    }
   },
   "id": "58d15c229ef17f39"
  },
  {
   "cell_type": "code",
   "execution_count": null,
   "outputs": [],
   "source": [
    "test_idx2graph = {}\n",
    "for i in tqdm(range(df_t.shape[0])):\n",
    "    #doc=pd.concat([[df_train.text_tkn[i]],[df_test.prompt_tkn[i]])\n",
    "    tokenizer.fit_on_doc(doc)\n",
    "    adj_matrix = tokenizer.doc_to_adj(doc)\n",
    "    coo = coo_matrix(adj_matrix)\n",
    "    test_idx2graph[i] = np.array([coo.row, coo.col], dtype=np.int32)"
   ],
   "metadata": {
    "collapsed": false
   },
   "id": "b9a86467896ec5f0"
  },
  {
   "cell_type": "code",
   "execution_count": 82,
   "outputs": [],
   "source": [
    "def load_word_vec(path, word2idx=None, embed_dim=300):\n",
    "    fin=path\n",
    "#    fin = open(path, 'r', encoding='utf8', newline='\\n', errors='ignore')\n",
    "    word_vec = {}\n",
    "    for line in fin:\n",
    "        tokens = line.rstrip().split()\n",
    "        word, vec = ' '.join(tokens[:-embed_dim]), tokens[-embed_dim:]\n",
    "        if word in word2idx.keys():\n",
    "            word_vec[word] = np.array(vec, dtype=np.float32)\n",
    "    return word_vec"
   ],
   "metadata": {
    "collapsed": false,
    "ExecuteTime": {
     "end_time": "2024-01-18T12:26:04.967760491Z",
     "start_time": "2024-01-18T12:26:04.877306143Z"
    }
   },
   "id": "f743fe54e3229bba"
  },
  {
   "cell_type": "code",
   "execution_count": 83,
   "outputs": [],
   "source": [
    "from torchtext.vocab import GloVe\n",
    "def build_embedding_matrix(word2idx, embed_dim=300):\n",
    "    embedding_matrix = np.zeros((len(word2idx), embed_dim))\n",
    "    embedding_matrix[1, :] = np.random.uniform(-1/np.sqrt(embed_dim), 1/np.sqrt(embed_dim), (1, embed_dim))\n",
    "\n",
    "    glob_vector=GloVe(name='840B', dim=300)\n",
    "    word_vec = load_word_vec(glob_vector=glob_vector, word2idx=word2idx, embed_dim=embed_dim)\n",
    "\n",
    "    for word, i in word2idx.items():\n",
    "        vec = word_vec.get(word)\n",
    "        if vec is not None:\n",
    "            embedding_matrix[i] = vec"
   ],
   "metadata": {
    "collapsed": false,
    "ExecuteTime": {
     "end_time": "2024-01-18T12:26:08.081047805Z",
     "start_time": "2024-01-18T12:26:07.819130213Z"
    }
   },
   "id": "6286724c1ff9efa4"
  },
  {
   "cell_type": "code",
   "execution_count": null,
   "outputs": [],
   "source": [
    "embedding_matrix = build_embedding_matrix(tokenizer.word2idx, 300)"
   ],
   "metadata": {
    "collapsed": false
   },
   "id": "aeb509f01431e26d"
  },
  {
   "cell_type": "code",
   "execution_count": 84,
   "outputs": [
    {
     "ename": "TypeError",
     "evalue": "load_word_vec() missing 1 required positional argument: 'path'",
     "output_type": "error",
     "traceback": [
      "\u001B[0;31m---------------------------------------------------------------------------\u001B[0m",
      "\u001B[0;31mTypeError\u001B[0m                                 Traceback (most recent call last)",
      "Cell \u001B[0;32mIn[84], line 1\u001B[0m\n\u001B[0;32m----> 1\u001B[0m embeddings \u001B[38;5;241m=\u001B[39m load_word_vec()\u001B[38;5;241m.\u001B[39mpretrained(\u001B[38;5;124m\"\u001B[39m\u001B[38;5;124mglove_840B_300\u001B[39m\u001B[38;5;124m\"\u001B[39m, \u001B[38;5;124m\"\u001B[39m\u001B[38;5;124mxx\u001B[39m\u001B[38;5;124m\"\u001B[39m) \\\n\u001B[1;32m      2\u001B[0m     \u001B[38;5;241m.\u001B[39msetInputCols(\u001B[38;5;124m\"\u001B[39m\u001B[38;5;124msentence\u001B[39m\u001B[38;5;124m\"\u001B[39m, \u001B[38;5;124m\"\u001B[39m\u001B[38;5;124mtoken\u001B[39m\u001B[38;5;124m\"\u001B[39m) \\\n\u001B[1;32m      3\u001B[0m     \u001B[38;5;241m.\u001B[39msetOutputCol(\u001B[38;5;124m\"\u001B[39m\u001B[38;5;124membeddings\u001B[39m\u001B[38;5;124m\"\u001B[39m)\n\u001B[1;32m      4\u001B[0m nlp_pipeline \u001B[38;5;241m=\u001B[39m Pipeline(stages\u001B[38;5;241m=\u001B[39m[document_assembler, sentence_detector, tokenizer, embeddings])\n\u001B[1;32m      5\u001B[0m pipeline_model \u001B[38;5;241m=\u001B[39m nlp_pipeline\u001B[38;5;241m.\u001B[39mfit(spark\u001B[38;5;241m.\u001B[39mcreateDataFrame([[\u001B[38;5;124m\"\u001B[39m\u001B[38;5;124m\"\u001B[39m]])\u001B[38;5;241m.\u001B[39mtoDF(\u001B[38;5;124m\"\u001B[39m\u001B[38;5;124mtext\u001B[39m\u001B[38;5;124m\"\u001B[39m))\n",
      "\u001B[0;31mTypeError\u001B[0m: load_word_vec() missing 1 required positional argument: 'path'"
     ]
    }
   ],
   "source": [
    "import torch\n",
    "from torch_geometric.data import InMemoryDataset\n",
    "\n",
    "\n",
    "class GraphDataset(InMemoryDataset):\n",
    "    def __init__(self,root, transform=None, pre_transform=None, pre_filter=None):\n",
    "        super().__init__(root,transform, pre_transform, pre_filter)\n",
    "        self.data, self.slices = torch.load(self.proceed_path[0])\n",
    "        \n",
    "        @property\n",
    "        def raw_dir(self):\n",
    "            return('./')\n",
    "        @property\n",
    "        def processed_dir(self) -> str:\n",
    "            return os.path.join(self.root,\"train_processed\")\n",
    "        @property\n",
    "        def raw_file_names(self) -> Union[str, List[str], Tuple[str, ...]]:\n",
    "            return ['train.csv']\n",
    "        @property\n",
    "        def processed_file_names(self) -> Union[str, List[str], Tuple[str, ...]]:\n",
    "            return ['train-data.pt']\n",
    "        def download(self) -> None:\n",
    "            pass\n",
    "        def process(self) -> None:\n",
    "            data_list = self.read_data()\n",
    "            \n",
    "            if self.pre_filter is not None:\n",
    "                data_list = [data for data in data_list if self.pre_filter(data)]\n",
    "            if self.pre_transform is not None:\n",
    "                data_list = [self.pre_transform(data) for data in data_list]\n",
    "            data, slices = self.collate(data_list)\n",
    "            torch.save((data,slices), self.proceed_paths[0])\n",
    "        \n",
    "        def read_data(self):\n",
    "            df_train = pd.read_csv(self.raw_path[0])\n",
    "            all_data = []"
   ],
   "metadata": {
    "collapsed": false,
    "ExecuteTime": {
     "end_time": "2024-01-18T12:29:45.626936730Z",
     "start_time": "2024-01-18T12:29:45.288632221Z"
    }
   },
   "id": "7dbf33bdbc239cc"
  },
  {
   "cell_type": "code",
   "execution_count": null,
   "outputs": [],
   "source": [
    "dataset= GraphDataset(root='./')"
   ],
   "metadata": {
    "collapsed": false
   },
   "id": "a443b48f678c44ae"
  },
  {
   "cell_type": "code",
   "execution_count": null,
   "outputs": [],
   "source": [
    "print(dataset.raw_paths, dataset.processed_paths)"
   ],
   "metadata": {
    "collapsed": false
   },
   "id": "6caa5444ee9f7eac"
  },
  {
   "cell_type": "code",
   "execution_count": null,
   "outputs": [],
   "source": [
    "dataset.data"
   ],
   "metadata": {
    "collapsed": false
   },
   "id": "4e1feb5cfec709b2"
  },
  {
   "cell_type": "code",
   "execution_count": null,
   "outputs": [],
   "source": [
    "dataset[0]"
   ],
   "metadata": {
    "collapsed": false
   },
   "id": "26107ba0224ae5bf"
  },
  {
   "cell_type": "code",
   "execution_count": null,
   "outputs": [],
   "source": [
    "dataset[0].y"
   ],
   "metadata": {
    "collapsed": false
   },
   "id": "6d22b72b45e187db"
  },
  {
   "cell_type": "code",
   "execution_count": null,
   "outputs": [],
   "source": [
    "len(dataset)"
   ],
   "metadata": {
    "collapsed": false
   },
   "id": "e27624f631db3d65"
  },
  {
   "cell_type": "code",
   "execution_count": null,
   "outputs": [],
   "source": [
    "dataset = dataset.shuffle()\n",
    "ratio_cut= 0.8\n",
    "train_len = int(ratio_cut*len(dataset))\n",
    "train_dataset= dataset[:train_len]\n",
    "val_dataset= dataset[train_len:]\n",
    "print(len(train_dataset),len(val_dataset))\n"
   ],
   "metadata": {
    "collapsed": false
   },
   "id": "f95513799a83f2e5"
  },
  {
   "cell_type": "code",
   "execution_count": null,
   "outputs": [],
   "source": [
    "from torch_geometric.data import DataLoader\n",
    "\n",
    "train_loader = DataLoader(train_dataset,batch_size=128, shuffle=True)\n",
    "validation_loader = DataLoader(val_dataset, batch_size=128)"
   ],
   "metadata": {
    "collapsed": false
   },
   "id": "99d3f8e1bdd7e8e9"
  },
  {
   "cell_type": "code",
   "execution_count": null,
   "outputs": [],
   "source": [],
   "metadata": {
    "collapsed": false
   },
   "id": "737cff2ae4ddf4b9"
  }
 ],
 "metadata": {
  "kernelspec": {
   "display_name": "Python 3",
   "language": "python",
   "name": "python3"
  },
  "language_info": {
   "codemirror_mode": {
    "name": "ipython",
    "version": 2
   },
   "file_extension": ".py",
   "mimetype": "text/x-python",
   "name": "python",
   "nbconvert_exporter": "python",
   "pygments_lexer": "ipython2",
   "version": "2.7.6"
  }
 },
 "nbformat": 4,
 "nbformat_minor": 5
}
