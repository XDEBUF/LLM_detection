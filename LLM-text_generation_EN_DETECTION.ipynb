{
 "cells": [
  {
   "cell_type": "code",
   "execution_count": 29,
   "outputs": [],
   "source": [
    "import os.path\n",
    "from typing import Union, List, Tuple\n",
    "\n",
    "import pandas as pd\n",
    "import numpy as np\n",
    "from scipy.sparse import coo_matrix\n"
   ],
   "metadata": {
    "collapsed": false,
    "ExecuteTime": {
     "end_time": "2024-01-25T05:18:34.065967914Z",
     "start_time": "2024-01-25T05:18:33.814224155Z"
    }
   },
   "id": "ffd062eef4a11de9"
  },
  {
   "cell_type": "code",
   "execution_count": 30,
   "outputs": [],
   "source": [
    "import spacy"
   ],
   "metadata": {
    "collapsed": false,
    "ExecuteTime": {
     "end_time": "2024-01-25T05:18:35.446173682Z",
     "start_time": "2024-01-25T05:18:35.311698404Z"
    }
   },
   "id": "3d22b057bb4e12fd"
  },
  {
   "cell_type": "code",
   "execution_count": 31,
   "outputs": [],
   "source": [
    "df_sample = pd.read_csv('data.csv')"
   ],
   "metadata": {
    "collapsed": false,
    "ExecuteTime": {
     "end_time": "2024-01-25T05:19:11.460457929Z",
     "start_time": "2024-01-25T05:18:37.491014223Z"
    }
   },
   "id": "164de35a70c9f9dd"
  },
  {
   "cell_type": "markdown",
   "source": [
    "# balanced train and test data in each df"
   ],
   "metadata": {
    "collapsed": false
   },
   "id": "417bd8b9f4ebecb5"
  },
  {
   "cell_type": "code",
   "execution_count": 32,
   "outputs": [
    {
     "name": "stderr",
     "output_type": "stream",
     "text": [
      "/tmp/ipykernel_207393/2654886958.py:4: SettingWithCopyWarning: \n",
      "A value is trying to be set on a copy of a slice from a DataFrame.\n",
      "Try using .loc[row_indexer,col_indexer] = value instead\n",
      "\n",
      "See the caveats in the documentation: https://pandas.pydata.org/pandas-docs/stable/user_guide/indexing.html#returning-a-view-versus-a-copy\n",
      "  df_llm.source='LLM'\n"
     ]
    }
   ],
   "source": [
    "ratio=0.8\n",
    "df_human= df_sample[df_sample['source']=='Human']\n",
    "df_llm = df_sample[df_sample['source']!='Human']\n",
    "df_llm.source='LLM'\n",
    "cut_idx_l=int(np.ceil(len(df_llm)*ratio))\n",
    "cut_idx_h=int(np.ceil(len(df_human)*ratio))\n",
    "df_train_human = df_human[:cut_idx_h]\n",
    "df_test_human = df_human[cut_idx_h:]\n",
    "df_train_llm = df_llm[:cut_idx_l]\n",
    "df_test_llm = df_llm[cut_idx_l:]\n",
    "df_train=pd.concat([df_train_human,df_train_llm])\n",
    "df_test=pd.concat([df_test_human,df_test_llm])"
   ],
   "metadata": {
    "collapsed": false,
    "ExecuteTime": {
     "end_time": "2024-01-25T05:19:11.708860198Z",
     "start_time": "2024-01-25T05:19:11.518273372Z"
    }
   },
   "id": "ffe2703229275115"
  },
  {
   "cell_type": "code",
   "execution_count": 33,
   "outputs": [
    {
     "data": {
      "text/plain": "source\nLLM      352984\nHuman    278154\nName: count, dtype: int64"
     },
     "execution_count": 33,
     "metadata": {},
     "output_type": "execute_result"
    }
   ],
   "source": [
    "df_train.source.value_counts()\n"
   ],
   "metadata": {
    "collapsed": false,
    "ExecuteTime": {
     "end_time": "2024-01-25T05:19:11.809064493Z",
     "start_time": "2024-01-25T05:19:11.710886773Z"
    }
   },
   "id": "b51a27f90831d2c7"
  },
  {
   "cell_type": "code",
   "execution_count": 34,
   "outputs": [
    {
     "data": {
      "text/plain": "source\nLLM      88246\nHuman    69538\nName: count, dtype: int64"
     },
     "execution_count": 34,
     "metadata": {},
     "output_type": "execute_result"
    }
   ],
   "source": [
    "\n",
    "df_test.source.value_counts()"
   ],
   "metadata": {
    "collapsed": false,
    "ExecuteTime": {
     "end_time": "2024-01-25T05:19:11.941313973Z",
     "start_time": "2024-01-25T05:19:11.729343295Z"
    }
   },
   "id": "bc9db0f6a23f44f1"
  },
  {
   "cell_type": "code",
   "execution_count": 35,
   "outputs": [
    {
     "data": {
      "text/plain": "                                                     text source  prompt_id  \\\n156512  There is a saying in my home that goes, \"You t...  Human          0   \n156513  Williams-Sonoma: Strategies and Future Prospec...  Human          0   \n156514  Shristi, your first two paragraphs are irrelev...  Human          0   \n156515  Extended Lifespan and Its Great Danger Essay\\n...  Human          0   \n156516  Imperialism and Nationalism in Middle Eastern ...  Human          0   \n156517  The Power of Free Speech Essay\\n\\nTable of Con...  Human          0   \n156518  Accounting and Auditing Practices Essay (Artic...  Human          0   \n156519  Civil War Effect on Medicine and Public Health...  Human          0   \n156520  Simple Stimulus Learning: Habituation and Perc...  Human          0   \n156521  Core Ethical Values of a Lawyer Essay\\n\\nTable...  Human          0   \n\n        text_length  word_count  \n156512         1524         268  \n156513         5985         904  \n156514         1124         187  \n156515         7578        1261  \n156516         9350        1441  \n156517         8629        1408  \n156518         4103         649  \n156519         2455         383  \n156520         8773        1315  \n156521         5500         857  ",
      "text/html": "<div>\n<style scoped>\n    .dataframe tbody tr th:only-of-type {\n        vertical-align: middle;\n    }\n\n    .dataframe tbody tr th {\n        vertical-align: top;\n    }\n\n    .dataframe thead th {\n        text-align: right;\n    }\n</style>\n<table border=\"1\" class=\"dataframe\">\n  <thead>\n    <tr style=\"text-align: right;\">\n      <th></th>\n      <th>text</th>\n      <th>source</th>\n      <th>prompt_id</th>\n      <th>text_length</th>\n      <th>word_count</th>\n    </tr>\n  </thead>\n  <tbody>\n    <tr>\n      <th>156512</th>\n      <td>There is a saying in my home that goes, \"You t...</td>\n      <td>Human</td>\n      <td>0</td>\n      <td>1524</td>\n      <td>268</td>\n    </tr>\n    <tr>\n      <th>156513</th>\n      <td>Williams-Sonoma: Strategies and Future Prospec...</td>\n      <td>Human</td>\n      <td>0</td>\n      <td>5985</td>\n      <td>904</td>\n    </tr>\n    <tr>\n      <th>156514</th>\n      <td>Shristi, your first two paragraphs are irrelev...</td>\n      <td>Human</td>\n      <td>0</td>\n      <td>1124</td>\n      <td>187</td>\n    </tr>\n    <tr>\n      <th>156515</th>\n      <td>Extended Lifespan and Its Great Danger Essay\\n...</td>\n      <td>Human</td>\n      <td>0</td>\n      <td>7578</td>\n      <td>1261</td>\n    </tr>\n    <tr>\n      <th>156516</th>\n      <td>Imperialism and Nationalism in Middle Eastern ...</td>\n      <td>Human</td>\n      <td>0</td>\n      <td>9350</td>\n      <td>1441</td>\n    </tr>\n    <tr>\n      <th>156517</th>\n      <td>The Power of Free Speech Essay\\n\\nTable of Con...</td>\n      <td>Human</td>\n      <td>0</td>\n      <td>8629</td>\n      <td>1408</td>\n    </tr>\n    <tr>\n      <th>156518</th>\n      <td>Accounting and Auditing Practices Essay (Artic...</td>\n      <td>Human</td>\n      <td>0</td>\n      <td>4103</td>\n      <td>649</td>\n    </tr>\n    <tr>\n      <th>156519</th>\n      <td>Civil War Effect on Medicine and Public Health...</td>\n      <td>Human</td>\n      <td>0</td>\n      <td>2455</td>\n      <td>383</td>\n    </tr>\n    <tr>\n      <th>156520</th>\n      <td>Simple Stimulus Learning: Habituation and Perc...</td>\n      <td>Human</td>\n      <td>0</td>\n      <td>8773</td>\n      <td>1315</td>\n    </tr>\n    <tr>\n      <th>156521</th>\n      <td>Core Ethical Values of a Lawyer Essay\\n\\nTable...</td>\n      <td>Human</td>\n      <td>0</td>\n      <td>5500</td>\n      <td>857</td>\n    </tr>\n  </tbody>\n</table>\n</div>"
     },
     "execution_count": 35,
     "metadata": {},
     "output_type": "execute_result"
    }
   ],
   "source": [
    "df_train.head(10)"
   ],
   "metadata": {
    "collapsed": false,
    "ExecuteTime": {
     "end_time": "2024-01-25T05:19:11.943106439Z",
     "start_time": "2024-01-25T05:19:11.739553092Z"
    }
   },
   "id": "8ba60a3a667ba0ec"
  },
  {
   "cell_type": "code",
   "execution_count": 36,
   "outputs": [
    {
     "data": {
      "text/plain": "(631138, 5)"
     },
     "execution_count": 36,
     "metadata": {},
     "output_type": "execute_result"
    }
   ],
   "source": [
    "df_train.shape"
   ],
   "metadata": {
    "collapsed": false,
    "ExecuteTime": {
     "end_time": "2024-01-25T05:19:11.943801738Z",
     "start_time": "2024-01-25T05:19:11.801018694Z"
    }
   },
   "id": "e00a54266e786957"
  },
  {
   "cell_type": "code",
   "execution_count": 37,
   "outputs": [
    {
     "data": {
      "text/plain": "text           0\nsource         0\nprompt_id      0\ntext_length    0\nword_count     0\ndtype: int64"
     },
     "execution_count": 37,
     "metadata": {},
     "output_type": "execute_result"
    }
   ],
   "source": [
    "df_train.isna().sum()"
   ],
   "metadata": {
    "collapsed": false,
    "ExecuteTime": {
     "end_time": "2024-01-25T05:19:12.121525887Z",
     "start_time": "2024-01-25T05:19:11.915167936Z"
    }
   },
   "id": "a0e7cda1ba98ec74"
  },
  {
   "cell_type": "code",
   "execution_count": 38,
   "outputs": [
    {
     "data": {
      "text/plain": "(157784, 5)"
     },
     "execution_count": 38,
     "metadata": {},
     "output_type": "execute_result"
    }
   ],
   "source": [
    "df_test.shape"
   ],
   "metadata": {
    "collapsed": false,
    "ExecuteTime": {
     "end_time": "2024-01-25T05:19:12.429074065Z",
     "start_time": "2024-01-25T05:19:11.932954019Z"
    }
   },
   "id": "8cfa5fb19b65016d"
  },
  {
   "cell_type": "code",
   "execution_count": 39,
   "outputs": [
    {
     "data": {
      "text/plain": "text           0\nsource         0\nprompt_id      0\ntext_length    0\nword_count     0\ndtype: int64"
     },
     "execution_count": 39,
     "metadata": {},
     "output_type": "execute_result"
    }
   ],
   "source": [
    "df_test.isna().sum()"
   ],
   "metadata": {
    "collapsed": false,
    "ExecuteTime": {
     "end_time": "2024-01-25T05:19:12.429841905Z",
     "start_time": "2024-01-25T05:19:11.976883687Z"
    }
   },
   "id": "e63c4c62d7ad899e"
  },
  {
   "cell_type": "code",
   "execution_count": 40,
   "outputs": [
    {
     "name": "stdout",
     "output_type": "stream",
     "text": [
      "/bin/bash: warning: setlocale: LC_ALL: cannot change locale (en_US.UTF-8)\r\n",
      "Collecting en-core-web-lg==3.7.1\r\n",
      "  Downloading https://github.com/explosion/spacy-models/releases/download/en_core_web_lg-3.7.1/en_core_web_lg-3.7.1-py3-none-any.whl (587.7 MB)\r\n",
      "\u001B[2K     \u001B[90m━━━━━━━━━━━━━━━━━━━━━━━━━━━━━━━━━━━━━━━\u001B[0m \u001B[32m587.7/587.7 MB\u001B[0m \u001B[31m2.4 MB/s\u001B[0m eta \u001B[36m0:00:00\u001B[0m00:01\u001B[0m00:01\u001B[0m\r\n",
      "\u001B[?25hRequirement already satisfied: spacy<3.8.0,>=3.7.2 in /home/blackswan/anaconda3/lib/python3.11/site-packages (from en-core-web-lg==3.7.1) (3.7.2)\r\n",
      "Requirement already satisfied: spacy-legacy<3.1.0,>=3.0.11 in /home/blackswan/anaconda3/lib/python3.11/site-packages (from spacy<3.8.0,>=3.7.2->en-core-web-lg==3.7.1) (3.0.12)\r\n",
      "Requirement already satisfied: spacy-loggers<2.0.0,>=1.0.0 in /home/blackswan/anaconda3/lib/python3.11/site-packages (from spacy<3.8.0,>=3.7.2->en-core-web-lg==3.7.1) (1.0.4)\r\n",
      "Requirement already satisfied: murmurhash<1.1.0,>=0.28.0 in /home/blackswan/anaconda3/lib/python3.11/site-packages (from spacy<3.8.0,>=3.7.2->en-core-web-lg==3.7.1) (1.0.7)\r\n",
      "Requirement already satisfied: cymem<2.1.0,>=2.0.2 in /home/blackswan/anaconda3/lib/python3.11/site-packages (from spacy<3.8.0,>=3.7.2->en-core-web-lg==3.7.1) (2.0.6)\r\n",
      "Requirement already satisfied: preshed<3.1.0,>=3.0.2 in /home/blackswan/anaconda3/lib/python3.11/site-packages (from spacy<3.8.0,>=3.7.2->en-core-web-lg==3.7.1) (3.0.6)\r\n",
      "Requirement already satisfied: thinc<8.3.0,>=8.1.8 in /home/blackswan/anaconda3/lib/python3.11/site-packages (from spacy<3.8.0,>=3.7.2->en-core-web-lg==3.7.1) (8.2.2)\r\n",
      "Requirement already satisfied: wasabi<1.2.0,>=0.9.1 in /home/blackswan/anaconda3/lib/python3.11/site-packages (from spacy<3.8.0,>=3.7.2->en-core-web-lg==3.7.1) (0.9.1)\r\n",
      "Requirement already satisfied: srsly<3.0.0,>=2.4.3 in /home/blackswan/anaconda3/lib/python3.11/site-packages (from spacy<3.8.0,>=3.7.2->en-core-web-lg==3.7.1) (2.4.8)\r\n",
      "Requirement already satisfied: catalogue<2.1.0,>=2.0.6 in /home/blackswan/anaconda3/lib/python3.11/site-packages (from spacy<3.8.0,>=3.7.2->en-core-web-lg==3.7.1) (2.0.10)\r\n",
      "Requirement already satisfied: weasel<0.4.0,>=0.1.0 in /home/blackswan/anaconda3/lib/python3.11/site-packages (from spacy<3.8.0,>=3.7.2->en-core-web-lg==3.7.1) (0.3.4)\r\n",
      "Requirement already satisfied: typer<0.10.0,>=0.3.0 in /home/blackswan/anaconda3/lib/python3.11/site-packages (from spacy<3.8.0,>=3.7.2->en-core-web-lg==3.7.1) (0.9.0)\r\n",
      "Requirement already satisfied: smart-open<7.0.0,>=5.2.1 in /home/blackswan/anaconda3/lib/python3.11/site-packages (from spacy<3.8.0,>=3.7.2->en-core-web-lg==3.7.1) (5.2.1)\r\n",
      "Requirement already satisfied: tqdm<5.0.0,>=4.38.0 in /home/blackswan/anaconda3/lib/python3.11/site-packages (from spacy<3.8.0,>=3.7.2->en-core-web-lg==3.7.1) (4.65.0)\r\n",
      "Requirement already satisfied: requests<3.0.0,>=2.13.0 in /home/blackswan/anaconda3/lib/python3.11/site-packages (from spacy<3.8.0,>=3.7.2->en-core-web-lg==3.7.1) (2.31.0)\r\n",
      "Requirement already satisfied: pydantic!=1.8,!=1.8.1,<3.0.0,>=1.7.4 in /home/blackswan/anaconda3/lib/python3.11/site-packages (from spacy<3.8.0,>=3.7.2->en-core-web-lg==3.7.1) (1.10.8)\r\n",
      "Requirement already satisfied: jinja2 in /home/blackswan/anaconda3/lib/python3.11/site-packages (from spacy<3.8.0,>=3.7.2->en-core-web-lg==3.7.1) (3.1.2)\r\n",
      "Requirement already satisfied: setuptools in /home/blackswan/anaconda3/lib/python3.11/site-packages (from spacy<3.8.0,>=3.7.2->en-core-web-lg==3.7.1) (68.0.0)\r\n",
      "Requirement already satisfied: packaging>=20.0 in /home/blackswan/anaconda3/lib/python3.11/site-packages (from spacy<3.8.0,>=3.7.2->en-core-web-lg==3.7.1) (23.1)\r\n",
      "Requirement already satisfied: langcodes<4.0.0,>=3.2.0 in /home/blackswan/anaconda3/lib/python3.11/site-packages (from spacy<3.8.0,>=3.7.2->en-core-web-lg==3.7.1) (3.3.0)\r\n",
      "Requirement already satisfied: numpy>=1.19.0 in /home/blackswan/anaconda3/lib/python3.11/site-packages (from spacy<3.8.0,>=3.7.2->en-core-web-lg==3.7.1) (1.23.5)\r\n",
      "Requirement already satisfied: typing-extensions>=4.2.0 in /home/blackswan/anaconda3/lib/python3.11/site-packages (from pydantic!=1.8,!=1.8.1,<3.0.0,>=1.7.4->spacy<3.8.0,>=3.7.2->en-core-web-lg==3.7.1) (4.7.1)\r\n",
      "Requirement already satisfied: charset-normalizer<4,>=2 in /home/blackswan/anaconda3/lib/python3.11/site-packages (from requests<3.0.0,>=2.13.0->spacy<3.8.0,>=3.7.2->en-core-web-lg==3.7.1) (2.0.4)\r\n",
      "Requirement already satisfied: idna<4,>=2.5 in /home/blackswan/anaconda3/lib/python3.11/site-packages (from requests<3.0.0,>=2.13.0->spacy<3.8.0,>=3.7.2->en-core-web-lg==3.7.1) (3.4)\r\n",
      "Requirement already satisfied: urllib3<3,>=1.21.1 in /home/blackswan/anaconda3/lib/python3.11/site-packages (from requests<3.0.0,>=2.13.0->spacy<3.8.0,>=3.7.2->en-core-web-lg==3.7.1) (1.26.16)\r\n",
      "Requirement already satisfied: certifi>=2017.4.17 in /home/blackswan/anaconda3/lib/python3.11/site-packages (from requests<3.0.0,>=2.13.0->spacy<3.8.0,>=3.7.2->en-core-web-lg==3.7.1) (2023.11.17)\r\n",
      "Requirement already satisfied: blis<0.8.0,>=0.7.8 in /home/blackswan/anaconda3/lib/python3.11/site-packages (from thinc<8.3.0,>=8.1.8->spacy<3.8.0,>=3.7.2->en-core-web-lg==3.7.1) (0.7.9)\r\n",
      "Requirement already satisfied: confection<1.0.0,>=0.0.1 in /home/blackswan/anaconda3/lib/python3.11/site-packages (from thinc<8.3.0,>=8.1.8->spacy<3.8.0,>=3.7.2->en-core-web-lg==3.7.1) (0.1.4)\r\n",
      "Requirement already satisfied: click<9.0.0,>=7.1.1 in /home/blackswan/anaconda3/lib/python3.11/site-packages (from typer<0.10.0,>=0.3.0->spacy<3.8.0,>=3.7.2->en-core-web-lg==3.7.1) (8.0.4)\r\n",
      "Requirement already satisfied: cloudpathlib<0.17.0,>=0.7.0 in /home/blackswan/anaconda3/lib/python3.11/site-packages (from weasel<0.4.0,>=0.1.0->spacy<3.8.0,>=3.7.2->en-core-web-lg==3.7.1) (0.16.0)\r\n",
      "Requirement already satisfied: MarkupSafe>=2.0 in /home/blackswan/anaconda3/lib/python3.11/site-packages (from jinja2->spacy<3.8.0,>=3.7.2->en-core-web-lg==3.7.1) (2.1.1)\r\n",
      "\u001B[38;5;2m✔ Download and installation successful\u001B[0m\r\n",
      "You can now load the package via spacy.load('en_core_web_lg')\r\n"
     ]
    }
   ],
   "source": [
    "!python3 -m spacy download en_core_web_lg"
   ],
   "metadata": {
    "collapsed": false,
    "ExecuteTime": {
     "end_time": "2024-01-25T05:19:42.758267432Z",
     "start_time": "2024-01-25T05:19:12.024776930Z"
    }
   },
   "id": "50385279daf10a02"
  },
  {
   "cell_type": "code",
   "execution_count": 41,
   "outputs": [],
   "source": [
    "nlp = spacy.load(\"en_core_web_lg\")\n",
    "doc = nlp(\"Apple shares rose on the news. Apple pie is delicious.\").vector"
   ],
   "metadata": {
    "collapsed": false,
    "ExecuteTime": {
     "end_time": "2024-01-25T05:19:45.657608199Z",
     "start_time": "2024-01-25T05:19:42.763339278Z"
    }
   },
   "id": "33049769ae0e6e97"
  },
  {
   "cell_type": "code",
   "execution_count": 42,
   "outputs": [
    {
     "data": {
      "text/plain": "array([-1.18700646e-01, -1.41039336e+00, -2.14910340e+00,  8.83527994e-01,\n        5.56492472e+00, -9.87121642e-01, -1.14053094e+00,  4.43576670e+00,\n       -3.72914225e-01, -1.41204226e+00,  4.56952858e+00,  4.27760839e-01,\n       -2.31775141e+00,  6.92854226e-01,  1.15528846e+00,  2.31034160e+00,\n        2.57655549e+00, -6.75784111e-01,  1.13154316e+00, -2.44445491e+00,\n        1.47608435e+00, -1.68519959e-01, -7.40572512e-01, -1.11758280e+00,\n       -3.36654162e+00, -7.73094893e-01, -1.00135839e+00, -1.16324246e+00,\n       -7.35800922e-01,  1.05197847e+00, -3.64668399e-01, -1.64117500e-01,\n       -3.30009460e+00, -3.08980751e+00, -1.81026840e+00,  5.23460805e-01,\n       -1.47361326e+00,  3.91166568e+00,  1.94414079e+00,  1.41275465e+00,\n        9.01624143e-01,  2.62060571e+00, -1.04173517e-03, -9.47884858e-01,\n        3.97454977e-01,  1.39844847e+00,  2.00074172e+00, -1.80079424e+00,\n        8.34936619e-01,  9.27045763e-01, -7.79365063e-01,  1.24467003e+00,\n       -1.04951508e-01, -4.03386641e+00,  5.83676696e-01,  4.07089114e-01,\n       -4.05124158e-01,  6.94060028e-01, -1.06562543e+00,  2.17943406e+00,\n        1.34901667e+00,  8.20858240e-01,  1.37552392e+00, -3.71830821e-01,\n        5.49558342e-01,  7.40565836e-01, -2.24515009e+00, -1.95358896e+00,\n        1.26103914e+00,  7.85405159e-01, -3.19169164e+00, -9.72279251e-01,\n       -4.72669983e+00, -6.09331667e-01,  5.14607549e-01,  1.16763973e+00,\n       -1.81991184e+00,  2.02919200e-01, -8.20809186e-01, -1.36248350e-01,\n       -1.34785998e+00, -1.16901314e+00,  1.05073571e-01,  1.83035538e-01,\n        1.69904506e+00,  8.80492389e-01,  2.22917438e+00, -2.31674150e-01,\n       -6.82343185e-01, -1.39106417e+00, -2.05942082e+00,  4.07692522e-01,\n       -1.71111241e-01, -3.08088493e+00, -2.59339124e-01, -2.07542992e+00,\n        2.03840995e+00, -3.01185322e+00,  1.22644997e+00, -1.70148814e+00,\n        1.18001592e+00, -7.37812102e-01,  2.98813653e+00,  1.63027513e+00,\n        1.23633838e+00,  3.46494985e+00, -8.30117464e-01,  8.46681654e-01,\n       -4.95027393e-01, -2.10271382e+00,  3.35914999e-01,  1.08661485e+00,\n       -1.44227231e+00, -1.14998594e-03,  2.37536645e+00,  1.32605001e-01,\n       -1.20494962e-01, -2.20827699e+00, -1.30371940e+00, -8.83465946e-01,\n       -7.60732472e-01, -1.90090179e+00,  2.25859594e+00,  9.86142635e-01,\n        2.12503299e-01, -2.70247340e+00,  1.88279307e+00, -2.02632165e+00,\n        2.63205194e+00, -1.71384251e+00, -1.88292348e+00,  3.97233337e-01,\n        4.03920317e+00, -1.02173507e+00, -1.63782075e-01,  1.79220498e+00,\n       -1.87628448e+00, -2.92802024e+00,  2.40667534e+00, -2.69538331e+00,\n       -6.53122485e-01, -2.49934182e-01, -8.49358365e-02,  1.34795082e+00,\n        4.34553295e-01,  1.44959259e+00, -3.12836671e+00,  9.76959765e-01,\n       -4.71774936e-02,  1.62865746e+00, -1.17070591e+00,  2.21900964e+00,\n        1.12856996e+00,  1.79819870e+00, -7.27369070e-01,  1.45370829e+00,\n        2.90205097e+00,  1.47067678e+00, -1.64880002e+00,  1.03538640e-01,\n        1.42856753e+00, -3.04015756e+00, -3.79456669e-01,  3.65336746e-01,\n       -3.51702523e+00, -1.00102317e+00, -1.96671355e+00,  3.05438137e+00,\n        8.80244792e-01,  2.42583361e-02, -7.13638246e-01, -2.04693675e+00,\n        1.26643956e+00, -1.64886281e-01, -1.18434989e+00,  1.91151425e-01,\n       -1.22289598e+00,  1.13706243e+00, -1.49591699e-01, -2.11158252e+00,\n       -5.99793434e-01,  2.33054042e+00,  1.09355938e+00,  3.05355042e-01,\n       -1.41592753e+00, -1.92864180e-01, -5.82340002e-01, -9.84386027e-01,\n        1.81555569e+00,  7.16437519e-01,  2.12033510e-01, -1.93555498e+00,\n       -4.64621693e-01, -1.69384754e+00,  8.35949183e-01, -1.63462484e+00,\n       -1.51919997e+00,  9.64300811e-01,  1.21696174e+00,  1.29709840e+00,\n       -5.52863598e-01, -1.58176935e+00,  1.00419186e-01, -4.33142376e+00,\n        2.23316979e+00,  1.20329249e+00, -4.38682842e+00,  3.17877460e+00,\n        4.46335882e-01, -1.13532150e+00,  2.47855973e+00, -3.33535790e-01,\n       -2.42504263e+00,  1.15777743e+00,  3.04067802e+00, -5.66462517e-01,\n        3.09777468e-01, -2.18970752e+00,  8.11491981e-02, -2.70803392e-01,\n        1.10022545e-01, -7.85760105e-01,  1.84641983e-02, -1.11871660e+00,\n       -7.71950781e-01, -9.02683318e-01,  9.61236179e-01,  1.54354823e+00,\n        1.07103050e+00,  1.20040841e-01,  1.53207934e+00, -3.87239242e+00,\n        1.73567519e-01,  1.79035604e+00, -7.65402615e-01,  3.01852918e+00,\n       -1.96838748e+00,  2.19285989e+00,  1.29488575e+00,  1.18829751e+00,\n       -1.07526827e+00, -2.01142669e+00,  9.79630053e-01,  5.68416528e-02,\n       -1.24056339e+00,  1.13695419e+00, -1.53028965e+00,  1.05279177e-01,\n       -1.43700492e+00,  6.52398348e-01, -2.17196488e+00, -1.25161088e+00,\n       -3.41784668e+00, -1.48194551e+00,  9.47370708e-01, -1.54878747e+00,\n        2.34788895e+00,  5.92197478e-01,  3.97533327e-01,  7.50247478e-01,\n       -1.30695120e-01,  5.34040594e+00,  1.68706524e+00,  2.22342229e+00,\n        1.98340166e+00, -4.99594122e-01, -1.67299926e+00,  1.43761837e+00,\n       -2.72800088e+00,  1.70937523e-01,  6.27313197e-01, -3.29280764e-01,\n        5.11275828e-01, -2.23759246e+00, -1.23533309e-02, -2.04431558e+00,\n        1.70093489e+00, -7.24595726e-01,  1.41926336e+00,  2.39449906e+00,\n        3.34605312e+00,  1.73688307e-01, -1.99673593e+00,  1.51017702e+00,\n        1.90074503e+00,  2.82934219e-01, -1.79314494e-01, -5.06724901e-02,\n       -7.54899204e-01,  2.34580159e+00,  5.88815033e-01, -1.86129138e-01,\n        5.95500087e-03, -1.54569829e+00, -1.48589504e+00,  6.10773385e-01,\n        2.17768002e+00, -4.93476003e-01, -1.14774585e+00,  1.92935094e-01],\n      dtype=float32)"
     },
     "execution_count": 42,
     "metadata": {},
     "output_type": "execute_result"
    }
   ],
   "source": [
    "doc"
   ],
   "metadata": {
    "collapsed": false,
    "ExecuteTime": {
     "end_time": "2024-01-25T05:19:45.692297524Z",
     "start_time": "2024-01-25T05:19:45.662966479Z"
    }
   },
   "id": "e4ee17862bbdecf6"
  },
  {
   "cell_type": "markdown",
   "source": [
    "### do not forget to define labels vector"
   ],
   "metadata": {
    "collapsed": false
   },
   "id": "21cf76eb10b1e74a"
  },
  {
   "cell_type": "code",
   "execution_count": 43,
   "outputs": [],
   "source": [
    "from sklearn.preprocessing import LabelEncoder"
   ],
   "metadata": {
    "collapsed": false,
    "ExecuteTime": {
     "end_time": "2024-01-25T05:19:45.713669834Z",
     "start_time": "2024-01-25T05:19:45.673353733Z"
    }
   },
   "id": "d82096068065bd4a"
  },
  {
   "cell_type": "code",
   "execution_count": 44,
   "outputs": [
    {
     "data": {
      "text/plain": "target\n1    352984\n0    278154\nName: count, dtype: int64"
     },
     "execution_count": 44,
     "metadata": {},
     "output_type": "execute_result"
    }
   ],
   "source": [
    "le = LabelEncoder()\n",
    "df_train['target']=le.fit_transform(df_train['source'])\n",
    "df_train.target.value_counts()"
   ],
   "metadata": {
    "collapsed": false,
    "ExecuteTime": {
     "end_time": "2024-01-25T05:19:46.135463370Z",
     "start_time": "2024-01-25T05:19:45.709550770Z"
    }
   },
   "id": "8b48d369f99a715"
  },
  {
   "cell_type": "code",
   "execution_count": 45,
   "outputs": [
    {
     "data": {
      "text/plain": "target\n1    88246\n0    69538\nName: count, dtype: int64"
     },
     "execution_count": 45,
     "metadata": {},
     "output_type": "execute_result"
    }
   ],
   "source": [
    "df_test['target']=le.transform(df_test['source'])\n",
    "df_test.target.value_counts()"
   ],
   "metadata": {
    "collapsed": false,
    "ExecuteTime": {
     "end_time": "2024-01-25T05:19:46.135827153Z",
     "start_time": "2024-01-25T05:19:45.851010435Z"
    }
   },
   "id": "91bb2b42ea9c0028"
  },
  {
   "cell_type": "code",
   "execution_count": 46,
   "outputs": [],
   "source": [
    "df_train=df_train.drop('source', axis=1)\n",
    "df_test=df_test.drop('source',axis=1)"
   ],
   "metadata": {
    "collapsed": false,
    "ExecuteTime": {
     "end_time": "2024-01-25T05:19:46.592453529Z",
     "start_time": "2024-01-25T05:19:46.483586992Z"
    }
   },
   "id": "5619c269aea0fddb"
  },
  {
   "cell_type": "code",
   "execution_count": 47,
   "outputs": [],
   "source": [
    "df_train=df_train.drop(['prompt_id','text_length','word_count'], axis =1)\n",
    "df_test=df_test.drop(['prompt_id','text_length','word_count'], axis =1)"
   ],
   "metadata": {
    "collapsed": false,
    "ExecuteTime": {
     "end_time": "2024-01-25T05:19:46.694058420Z",
     "start_time": "2024-01-25T05:19:46.678240389Z"
    }
   },
   "id": "c0e874ee7434028a"
  },
  {
   "cell_type": "code",
   "execution_count": 48,
   "outputs": [
    {
     "name": "stdout",
     "output_type": "stream",
     "text": [
      "<class 'pandas.core.frame.DataFrame'>\n",
      "Index: 631138 entries, 156512 to 700675\n",
      "Data columns (total 2 columns):\n",
      " #   Column  Non-Null Count   Dtype \n",
      "---  ------  --------------   ----- \n",
      " 0   text    631138 non-null  object\n",
      " 1   target  631138 non-null  int64 \n",
      "dtypes: int64(1), object(1)\n",
      "memory usage: 14.4+ MB\n"
     ]
    }
   ],
   "source": [
    "df_train.info()"
   ],
   "metadata": {
    "collapsed": false,
    "ExecuteTime": {
     "end_time": "2024-01-25T05:19:46.821881462Z",
     "start_time": "2024-01-25T05:19:46.812356784Z"
    }
   },
   "id": "d237577c4bbf6db"
  },
  {
   "cell_type": "code",
   "execution_count": 49,
   "outputs": [
    {
     "name": "stdout",
     "output_type": "stream",
     "text": [
      "<class 'pandas.core.frame.DataFrame'>\n",
      "Index: 157784 entries, 434666 to 788921\n",
      "Data columns (total 2 columns):\n",
      " #   Column  Non-Null Count   Dtype \n",
      "---  ------  --------------   ----- \n",
      " 0   text    157784 non-null  object\n",
      " 1   target  157784 non-null  int64 \n",
      "dtypes: int64(1), object(1)\n",
      "memory usage: 3.6+ MB\n"
     ]
    }
   ],
   "source": [
    "df_test.info()"
   ],
   "metadata": {
    "collapsed": false,
    "ExecuteTime": {
     "end_time": "2024-01-25T05:19:47.116498809Z",
     "start_time": "2024-01-25T05:19:46.859201855Z"
    }
   },
   "id": "cb558cad1d1ca045"
  },
  {
   "cell_type": "code",
   "execution_count": 50,
   "outputs": [
    {
     "name": "stdout",
     "output_type": "stream",
     "text": [
      "2.1.2+cu121\n",
      "/bin/bash: warning: setlocale: LC_ALL: cannot change locale (en_US.UTF-8)\r\n",
      "/bin/bash: warning: setlocale: LC_ALL: cannot change locale (en_US.UTF-8)\r\n",
      "/bin/bash: warning: setlocale: LC_ALL: cannot change locale (en_US.UTF-8)\r\n"
     ]
    }
   ],
   "source": [
    "import os\n",
    "import torch\n",
    "os.environ['TORCH'] = torch.__version__\n",
    "print(torch.__version__)\n",
    "\n",
    "!pip install -q torch-scatter -f https://data.pyg.org/whl/torch-${torch.__version__}.html\n",
    "!pip install -q torch-sparse -f https://data.pyg.org/whl/torch-${torch.__version__}.html\n",
    "!pip install -q git+https://github.com/pyg-team/pytorch_geometric.git\n",
    "\n",
    "#from torch_geometric"
   ],
   "metadata": {
    "collapsed": false,
    "ExecuteTime": {
     "end_time": "2024-01-25T05:20:18.826124128Z",
     "start_time": "2024-01-25T05:19:46.982413635Z"
    }
   },
   "id": "551c6808e9811cca"
  },
  {
   "cell_type": "code",
   "execution_count": 51,
   "outputs": [],
   "source": [
    "#df_train.to_csv('./train.csv', sep=',')"
   ],
   "metadata": {
    "collapsed": false,
    "ExecuteTime": {
     "end_time": "2024-01-25T05:20:18.840350039Z",
     "start_time": "2024-01-25T05:20:18.831853479Z"
    }
   },
   "id": "53b891822f4e8440"
  },
  {
   "cell_type": "code",
   "execution_count": 52,
   "outputs": [],
   "source": [
    "#df_train = pd.read_csv('train.csv', sep=',')"
   ],
   "metadata": {
    "collapsed": false,
    "ExecuteTime": {
     "end_time": "2024-01-25T05:20:18.951184416Z",
     "start_time": "2024-01-25T05:20:18.844446167Z"
    }
   },
   "id": "f54690ea444a1379"
  },
  {
   "cell_type": "code",
   "execution_count": 53,
   "outputs": [],
   "source": [
    "class Tokenizer(object):\n",
    "    def __init__(self, word2idx=None, nlp_model=\"en_core_web_lg\"):\n",
    "        self.nlp= spacy.load(nlp_model)\n",
    "        #self.word2idx=word2idx\n",
    "        #self.idx=len(word2idx)\n",
    "        if word2idx is None:\n",
    "            self.word2idx = {}\n",
    "            self.idx2word = {}\n",
    "            self.idx = 0\n",
    "            self.word2idx['<pad>'] = self.idx\n",
    "            self.idx2word[self.idx] = '<pad>'\n",
    "            self.idx += 1\n",
    "            self.word2idx['<unk>'] = self.idx\n",
    "            self.idx2word[self.idx] = 'unk'\n",
    "            self.idx += 1\n",
    "        else:\n",
    "            self.word2idx = word2idx\n",
    "            self.idx2word = { v:k for k,v in word2idx.items()}\n",
    "        \n",
    "    def fit_on_doc(self, doc:spacy.tokens.doc.Doc):\n",
    "        for word in doc:\n",
    "            word= str(word).lower()\n",
    "            if word not in self.word2idx:\n",
    "                self.word2idx[word]=self.idx\n",
    "                self.idx2word[self.idx]=word\n",
    "                self.idx += 1\n",
    "    def text_to_doc(self, text):\n",
    "        return self.nlp(text)\n",
    "    def doc_to_sequence(self, doc:spacy.tokens.doc.Doc):\n",
    "        sequence = []\n",
    "        for w in doc:\n",
    "            w = str(w).lower()\n",
    "            word_id = self.word2idx.get(w,-1)\n",
    "            if word_id == -1:\n",
    "                word_id = self.word2idx['<unk>']\n",
    "            sequence.append(word_id)\n",
    "        if len(sequence) == 0:\n",
    "            sequence = [0]\n",
    "        return np.array(sequence, dtype=np.int32)\n",
    "    def doc_to_adj(self, doc: spacy.tokens.doc.Doc):\n",
    "        matrix = np.zeros((len(doc),len(doc))).astype('int32')\n",
    "        for token in doc:\n",
    "            for child in token.children:\n",
    "                matrix[token.i][child.i] = 1\n",
    "                matrix[child.i][token.i] = 1\n",
    "        return matrix"
   ],
   "metadata": {
    "collapsed": false,
    "ExecuteTime": {
     "end_time": "2024-01-25T05:20:18.951726098Z",
     "start_time": "2024-01-25T05:20:18.868437345Z"
    }
   },
   "id": "c65b2970f99e3cc3"
  },
  {
   "cell_type": "code",
   "execution_count": 54,
   "outputs": [],
   "source": [
    "tokenizer = Tokenizer()"
   ],
   "metadata": {
    "collapsed": false,
    "ExecuteTime": {
     "end_time": "2024-01-25T05:20:21.569896525Z",
     "start_time": "2024-01-25T05:20:18.887071240Z"
    }
   },
   "id": "66332a6b12a9f66e"
  },
  {
   "cell_type": "code",
   "execution_count": 55,
   "outputs": [
    {
     "data": {
      "text/plain": "{'<pad>': 0, '<unk>': 1}"
     },
     "execution_count": 55,
     "metadata": {},
     "output_type": "execute_result"
    }
   ],
   "source": [
    "tokenizer.word2idx"
   ],
   "metadata": {
    "collapsed": false,
    "ExecuteTime": {
     "end_time": "2024-01-25T05:20:21.613135471Z",
     "start_time": "2024-01-25T05:20:21.574410906Z"
    }
   },
   "id": "4b6c51ec46eaf829"
  },
  {
   "cell_type": "code",
   "execution_count": 56,
   "outputs": [],
   "source": [
    "from scipy.sparse import coo_matrix"
   ],
   "metadata": {
    "collapsed": false,
    "ExecuteTime": {
     "end_time": "2024-01-25T05:20:21.613341156Z",
     "start_time": "2024-01-25T05:20:21.582269746Z"
    }
   },
   "id": "579e55eaef902fce"
  },
  {
   "cell_type": "code",
   "execution_count": 57,
   "outputs": [],
   "source": [
    "from tqdm import tqdm"
   ],
   "metadata": {
    "collapsed": false,
    "ExecuteTime": {
     "end_time": "2024-01-25T05:20:21.667583035Z",
     "start_time": "2024-01-25T05:20:21.588461434Z"
    }
   },
   "id": "3e2001994a4e553b"
  },
  {
   "cell_type": "code",
   "execution_count": 58,
   "outputs": [
    {
     "data": {
      "text/plain": "text      0\ntarget    0\ndtype: int64"
     },
     "execution_count": 58,
     "metadata": {},
     "output_type": "execute_result"
    }
   ],
   "source": [
    "df_train.isna().sum()"
   ],
   "metadata": {
    "collapsed": false,
    "ExecuteTime": {
     "end_time": "2024-01-25T05:20:22.260613195Z",
     "start_time": "2024-01-25T05:20:22.250562361Z"
    }
   },
   "id": "30c0e06aa2233864"
  },
  {
   "cell_type": "code",
   "execution_count": 59,
   "outputs": [],
   "source": [
    "df_train=df_train[:434666]"
   ],
   "metadata": {
    "collapsed": false,
    "ExecuteTime": {
     "end_time": "2024-01-25T05:20:22.268668604Z",
     "start_time": "2024-01-25T05:20:22.263249887Z"
    }
   },
   "id": "5ba6d10be99445df"
  },
  {
   "cell_type": "code",
   "execution_count": null,
   "outputs": [
    {
     "name": "stderr",
     "output_type": "stream",
     "text": [
      "  3%|▎         | 11945/434666 [15:52<11:46:29,  9.97it/s]"
     ]
    }
   ],
   "source": [
    "train_idx2graph = {}\n",
    "\n",
    "for i in tqdm(range(len(df_train))):\n",
    "    text = df_train.text[i].lower().replace(\"/n\", \"\").strip()\n",
    "    doc = tokenizer.text_to_doc(text)\n",
    "    tokenizer.fit_on_doc(doc)\n",
    "    adj_matrix = tokenizer.doc_to_adj(doc)\n",
    "    coo = coo_matrix(adj_matrix)\n",
    "    train_idx2graph[i] = np.array([coo.row, coo.col])"
   ],
   "metadata": {
    "collapsed": false,
    "is_executing": true,
    "ExecuteTime": {
     "start_time": "2024-01-25T05:34:15.089706839Z"
    }
   },
   "id": "58d15c229ef17f39"
  },
  {
   "cell_type": "code",
   "execution_count": null,
   "outputs": [],
   "source": [
    "len(train_idx2graph)"
   ],
   "metadata": {
    "collapsed": false,
    "is_executing": true
   },
   "id": "6d492c1b16818818"
  },
  {
   "cell_type": "code",
   "execution_count": null,
   "outputs": [],
   "source": [
    "test_idx2graph = {}\n",
    "for i in tqdm(range(len(df_test))):\n",
    "    #doc=pd.concat([[df_train.text_tkn[i]],[df_test.prompt_tkn[i]])\n",
    "    tokenizer.fit_on_doc(doc)\n",
    "    adj_matrix = tokenizer.doc_to_adj(doc)\n",
    "    coo = coo_matrix(adj_matrix)\n",
    "    test_idx2graph[i] = np.array([coo.row, coo.col], dtype=np.int32)"
   ],
   "metadata": {
    "collapsed": false,
    "is_executing": true
   },
   "id": "b9a86467896ec5f0"
  },
  {
   "cell_type": "code",
   "execution_count": null,
   "outputs": [],
   "source": [
    "df_train.to_csv('train.csv')"
   ],
   "metadata": {
    "collapsed": false,
    "is_executing": true
   },
   "id": "8b78d9571da0f9d3"
  },
  {
   "cell_type": "code",
   "execution_count": null,
   "outputs": [],
   "source": [
    "df_test.to_csv('test.csv')"
   ],
   "metadata": {
    "collapsed": false,
    "is_executing": true
   },
   "id": "992ded1a3cda7273"
  },
  {
   "cell_type": "code",
   "execution_count": null,
   "outputs": [],
   "source": [
    "result=train_idx2graph.items()\n",
    "da = list(result)\n",
    "nparr=np.array(da)\n",
    "train = pd.DataFrame(nparr)"
   ],
   "metadata": {
    "collapsed": false,
    "is_executing": true
   },
   "id": "1fa05bb6215b0c64"
  },
  {
   "cell_type": "code",
   "execution_count": null,
   "outputs": [],
   "source": [
    "train.head()"
   ],
   "metadata": {
    "collapsed": false,
    "is_executing": true
   },
   "id": "1dd52501cb6f9551"
  },
  {
   "cell_type": "code",
   "execution_count": null,
   "outputs": [],
   "source": [
    "train.to_csv('train_idx2graph.csv')"
   ],
   "metadata": {
    "collapsed": false,
    "is_executing": true
   },
   "id": "23704159743b1aaf"
  },
  {
   "cell_type": "code",
   "execution_count": null,
   "outputs": [],
   "source": [
    "df_idx2graph=pd.read_csv('train_idx2graph.csv')"
   ],
   "metadata": {
    "collapsed": false,
    "is_executing": true
   },
   "id": "b6928265dd0d2e21"
  },
  {
   "cell_type": "code",
   "execution_count": null,
   "outputs": [],
   "source": [
    "np_train_idx2graph=df_idx2graph.to_numpy()"
   ],
   "metadata": {
    "collapsed": false,
    "is_executing": true
   },
   "id": "836dc23bea52a31d"
  },
  {
   "cell_type": "code",
   "execution_count": null,
   "outputs": [],
   "source": [
    "result=test_idx2graph.items()\n",
    "da = list(result)\n",
    "nparr=np.array(da)\n",
    "test = pd.DataFrame(nparr)"
   ],
   "metadata": {
    "collapsed": false,
    "is_executing": true
   },
   "id": "5614e4d061ba943"
  },
  {
   "cell_type": "code",
   "execution_count": null,
   "outputs": [],
   "source": [
    "test.to_csv('test_idx2graph.csv')"
   ],
   "metadata": {
    "collapsed": false,
    "is_executing": true
   },
   "id": "7d896a04818fc939"
  },
  {
   "cell_type": "code",
   "execution_count": null,
   "outputs": [],
   "source": [
    "df_test_idx2graph=pd.read_csv('test_idx2graph.csv')"
   ],
   "metadata": {
    "collapsed": false,
    "is_executing": true
   },
   "id": "b15e31d7081b41fe"
  },
  {
   "cell_type": "code",
   "execution_count": null,
   "outputs": [],
   "source": [
    "np_test_idx2graph=df_test_idx2graph.to_numpy()"
   ],
   "metadata": {
    "collapsed": false,
    "is_executing": true
   },
   "id": "404867e3115843f4"
  },
  {
   "cell_type": "code",
   "execution_count": null,
   "outputs": [],
   "source": [
    "len(Tokenizer.word2idx)"
   ],
   "metadata": {
    "collapsed": false,
    "is_executing": true
   },
   "id": "2ec806e6dbb9fb3e"
  },
  {
   "cell_type": "code",
   "execution_count": null,
   "outputs": [],
   "source": [
    "def load_word_vec(path, word2idx=None, embed_dim=300):\n",
    "    fin = open(path, 'r', encoding='utf8', newline='\\n', errors='ignore')\n",
    "    word_vec = {}\n",
    "    for line in fin:\n",
    "        tokens = line.rstrip().split()\n",
    "        word, vec = ' '.join(tokens[:-embed_dim]), tokens[-embed_dim:]\n",
    "        if word in word2idx.keys():\n",
    "            word_vec[word] = np.array(vec, dtype=np.float32)\n",
    "    return word_vec"
   ],
   "metadata": {
    "collapsed": false,
    "is_executing": true
   },
   "id": "9cf45baec8e2bdc1"
  },
  {
   "cell_type": "code",
   "execution_count": null,
   "outputs": [],
   "source": [
    "from torchtext.vocab import GloVe\n",
    "def build_embedding_matrix(word2idx, embed_dim=300):\n",
    "    embedding_matrix = np.zeros((len(word2idx), embed_dim))\n",
    "    embedding_matrix[1, :] = np.random.uniform(-1/np.sqrt(embed_dim), 1/np.sqrt(embed_dim), (1, embed_dim))\n",
    "\n",
    "    glob_vector='./glove.840B.300d.txt'\n",
    "    word_vec = load_word_vec(glob_vector, word2idx=word2idx, embed_dim=embed_dim)\n",
    "\n",
    "    for word, i in word2idx.items():\n",
    "        vec = word_vec.get(word)\n",
    "        if vec is not None:\n",
    "            embedding_matrix[i] = vec\n",
    "    return embedding_matrix"
   ],
   "metadata": {
    "collapsed": false,
    "is_executing": true
   },
   "id": "3c2cc7faf4deb8a4"
  },
  {
   "cell_type": "code",
   "execution_count": null,
   "outputs": [],
   "source": [
    "embedding_matrix = build_embedding_matrix(tokenizer.word2idx, 300)"
   ],
   "metadata": {
    "collapsed": false,
    "is_executing": true
   },
   "id": "aeb509f01431e26d"
  },
  {
   "cell_type": "code",
   "execution_count": null,
   "outputs": [],
   "source": [
    "from torch_geometric.data import InMemoryDataset, Data\n",
    "\n",
    "\n",
    "class TrainGraphFactoryDataset(InMemoryDataset):\n",
    "    def __init__(self, root, transform=None, pre_transform=None, pre_filter=None):\n",
    "        super().__init__(root, transform, pre_transform, pre_filter)\n",
    "\n",
    "        self.data, self.slices = torch.load(self.processed_paths[0])\n",
    "\n",
    "    @property\n",
    "    def raw_dir(self):\n",
    "        return \"./\"\n",
    "\n",
    "    @property\n",
    "    def processed_dir(self):\n",
    "        return os.path.join(self.root, \"train_processed\")\n",
    "\n",
    "    @property\n",
    "    def raw_file_names(self):\n",
    "        return ['train.csv']\n",
    "\n",
    "    @property\n",
    "    def processed_file_names(self):\n",
    "        return ['train-graph.pt']\n",
    "\n",
    "    def download(self):\n",
    "        pass\n",
    "\n",
    "    def process(self):\n",
    "\n",
    "        data_list = self.read_data()\n",
    "\n",
    "        if self.pre_filter is not None:\n",
    "            data_list = [data for data in data_list if self.pre_filter(data)]\n",
    "\n",
    "        if self.pre_transform is not None:\n",
    "            data_list = [self.pre_transform(data) for data in data_list]\n",
    "\n",
    "        data, slices = self.collate(data_list)\n",
    "        torch.save((data, slices), self.processed_paths[0])\n",
    "\n",
    "    def read_data(self):\n",
    "        df_train = pd.read_csv(self.raw_paths[0])\n",
    "        all_data = []\n",
    "        for i in tqdm(range(df_train.shape[0])):\n",
    "            text = df_train.text[i].lower().replace(\"\\n\", \"\").strip()\n",
    "            doc = tokenizer.text_to_doc(text)\n",
    "            input_ids = tokenizer.doc_to_sequence(doc)\n",
    "            label = df_train.loc[i, [\"target\"]].to_list()\n",
    "\n",
    "            x = torch.tensor(input_ids.reshape(-1, 1), dtype=torch.int32)\n",
    "            edge_index  = torch.tensor(train_idx2graph[i], dtype=torch.long)\n",
    "            y = torch.tensor(np.array(label), dtype=torch.float32).reshape(-1, 1)\n",
    "            data = Data(x=x, edge_index=edge_index, y=y)\n",
    "\n",
    "            all_data.append(data)\n",
    "        return all_data"
   ],
   "metadata": {
    "collapsed": false,
    "is_executing": true
   },
   "id": "7dbf33bdbc239cc"
  },
  {
   "cell_type": "code",
   "execution_count": null,
   "outputs": [],
   "source": [
    "dataset = TrainGraphFactoryDataset(root='./')"
   ],
   "metadata": {
    "collapsed": false,
    "is_executing": true
   },
   "id": "a443b48f678c44ae"
  },
  {
   "cell_type": "code",
   "execution_count": null,
   "outputs": [],
   "source": [
    "print(dataset.raw_paths, dataset.processed_paths)"
   ],
   "metadata": {
    "collapsed": false,
    "is_executing": true
   },
   "id": "6caa5444ee9f7eac"
  },
  {
   "cell_type": "code",
   "execution_count": null,
   "outputs": [],
   "source": [
    "dataset.data"
   ],
   "metadata": {
    "collapsed": false,
    "is_executing": true
   },
   "id": "4e1feb5cfec709b2"
  },
  {
   "cell_type": "code",
   "execution_count": null,
   "outputs": [],
   "source": [
    "dataset[0]"
   ],
   "metadata": {
    "collapsed": false,
    "is_executing": true
   },
   "id": "26107ba0224ae5bf"
  },
  {
   "cell_type": "code",
   "execution_count": null,
   "outputs": [],
   "source": [
    "dataset[0].y"
   ],
   "metadata": {
    "collapsed": false,
    "is_executing": true
   },
   "id": "6d22b72b45e187db"
  },
  {
   "cell_type": "code",
   "execution_count": null,
   "outputs": [],
   "source": [
    "len(dataset)"
   ],
   "metadata": {
    "collapsed": false,
    "is_executing": true
   },
   "id": "e27624f631db3d65"
  },
  {
   "cell_type": "code",
   "execution_count": null,
   "outputs": [],
   "source": [
    "dataset = dataset.shuffle()\n",
    "ratio_cut= 0.8\n",
    "train_len = int(ratio_cut*len(dataset))\n",
    "train_dataset= dataset[:train_len]\n",
    "val_dataset= dataset[train_len:]\n",
    "print(len(train_dataset),len(val_dataset))\n"
   ],
   "metadata": {
    "collapsed": false,
    "is_executing": true
   },
   "id": "f95513799a83f2e5"
  },
  {
   "cell_type": "code",
   "execution_count": null,
   "outputs": [],
   "source": [
    "import torch\n",
    "from torch import nn\n",
    "import torch.nn.functional as F\n",
    "from torch.optim import Adam\n",
    "from torch.optim import lr_scheduler\n",
    "from torch_geometric.data import Data\n",
    "from torch_geometric.data import InMemoryDataset\n",
    "from torch_geometric.nn import GCNConv, SAGEConv, GATConv, TransformerConv, GATv2Conv, ChebConv, ResGatedGraphConv\n",
    "import torch_geometric.nn as pyg_nn\n",
    "from torch_geometric.loader import DataLoader"
   ],
   "metadata": {
    "collapsed": false,
    "is_executing": true
   },
   "id": "d1a8e7fc6d75e65c"
  },
  {
   "cell_type": "code",
   "execution_count": null,
   "outputs": [],
   "source": [
    "from torch_geometric.data import DataLoader\n",
    "\n",
    "train_loader = DataLoader(train_dataset,batch_size=128, shuffle=True)\n",
    "val_loader = DataLoader(val_dataset, batch_size=128)"
   ],
   "metadata": {
    "collapsed": false,
    "is_executing": true
   },
   "id": "99d3f8e1bdd7e8e9"
  },
  {
   "cell_type": "code",
   "execution_count": null,
   "outputs": [],
   "source": [
    "print(embedding_matrix)"
   ],
   "metadata": {
    "collapsed": false,
    "is_executing": true
   },
   "id": "cec664fc9ca8d04a"
  },
  {
   "cell_type": "code",
   "execution_count": null,
   "outputs": [],
   "source": [
    "class FeedbackModel(nn.Module):\n",
    "    def __init__(self, embedding_matrix):\n",
    "\n",
    "        super(FeedbackModel, self).__init__()\n",
    "\n",
    "        self.embed = nn.Embedding.from_pretrained(torch.tensor(embedding_matrix, dtype=torch.float), freeze=False)\n",
    "        # GCNConv SAGEConv ResGatedGraphConv GraphConv(300, 128) \n",
    "        # TransformerConv GATv2Conv GATConv(300, 128, heads=4) ChebConv(300, 128, K=2)\n",
    "        # GCNConv SAGEConv ResGatedGraphConv GraphConv(128, 64) \n",
    "        # TransformerConv  GATv2Conv GATConv(4*128, 64) ChebConv(128, 64, K=2)\n",
    "        #         self.gru = nn.GRU(256, 256, num_layers=1, \n",
    "        #                           dropout=0, batch_first=True,\n",
    "        #                           bidirectional=False)          # RNN, GRU\n",
    "        # output: (N, L, D∗Hout), D = 2 if bidirectional=True otherwise 1\n",
    "        # h_n: (D∗num_layers, N, Hout)\n",
    "        self.gc1   = GATv2Conv(300, 128)\n",
    "        self.pool1 = pyg_nn.TopKPooling(128, ratio=0.8)\n",
    "        self.gc2   = GCNConv(128, 128)\n",
    "        self.pool2 = pyg_nn.TopKPooling(128, ratio=0.8)\n",
    "        self.lin1  = nn.Linear(256, 64)\n",
    "        self.lin2  = nn.Linear(64, 1)\n",
    "\n",
    "    def forward(self, data):\n",
    "        x, edge_index, batch = data.x, data.edge_index, data.batch\n",
    "        x = x.squeeze(1)\n",
    "        x = self.embed(x)\n",
    "\n",
    "        x = F.relu(self.gc1(x, edge_index))\n",
    "        x, edge_index, edge_attr, batch, perm, score = self.pool1(x, edge_index, None, batch)\n",
    "        x1 = torch.cat([pyg_nn.global_max_pool(x, batch), pyg_nn.global_mean_pool(x, batch)], dim=1)\n",
    "\n",
    "        x = F.relu(self.gc2(x, edge_index))\n",
    "        x, edge_index, edge_attr, batch, perm, score = self.pool2(x, edge_index, None, batch)\n",
    "        x2 = torch.cat([pyg_nn.global_max_pool(x, batch), pyg_nn.global_mean_pool(x, batch)], dim=1)\n",
    "\n",
    "        x = x1 + x2\n",
    "        # x, hn = self.gru(x, None)\n",
    "        x = F.relu(self.lin1(x))\n",
    "        x = F.dropout(x, p=0.5, training=self.training)\n",
    "        output = F.relu(self.lin2(x))\n",
    "\n",
    "        return output\n",
    "\n"
   ],
   "metadata": {
    "collapsed": false,
    "is_executing": true
   },
   "id": "737cff2ae4ddf4b9"
  },
  {
   "cell_type": "code",
   "execution_count": null,
   "outputs": [],
   "source": [
    "model = FeedbackModel(embedding_matrix)\n",
    "model"
   ],
   "metadata": {
    "collapsed": false,
    "is_executing": true
   },
   "id": "326ac578eea20f61"
  },
  {
   "cell_type": "code",
   "execution_count": null,
   "outputs": [],
   "source": [
    "epochs = 60\n",
    "\n",
    "criterion = nn.MSELoss()\n",
    "optimizer = Adam(model.parameters(), lr=1e-5)\n",
    "scheduler = lr_scheduler.ReduceLROnPlateau(optimizer, mode='min', factor=0.1, patience=6)\n",
    "\n",
    "device = torch.device(\"cuda\" if torch.cuda.is_available() else \"cpu\")\n",
    "model.to(device)\n",
    "criterion.to(device)"
   ],
   "metadata": {
    "collapsed": false,
    "is_executing": true
   },
   "id": "d6aebbf0337cc59"
  },
  {
   "cell_type": "code",
   "execution_count": null,
   "outputs": [],
   "source": [
    "\n",
    "\n",
    "total_loss = []\n",
    "for epoch_num in range(epochs):\n",
    "\n",
    "    model.train()\n",
    "    total_loss_train = 0\n",
    "    print(f'epoch: {epoch_num} in progress...')\n",
    "    print(f'train computing')\n",
    "    for j, sample_batched in tqdm(enumerate(train_loader)):\n",
    "        sample_batched = sample_batched.to(device)\n",
    "        optimizer.zero_grad()\n",
    "        outputs = model(sample_batched)\n",
    "        label = sample_batched.y.to(device)\n",
    "        loss = criterion(outputs, label)\n",
    "        loss.backward()\n",
    "        total_loss_train += loss.item()\n",
    "        optimizer.step()\n",
    "\n",
    "    model.eval()\n",
    "    total_loss_val = 0\n",
    "    print(f'train evaluating')\n",
    "    with torch.no_grad():\n",
    "        for k, sample_batched in tqdm(enumerate(val_loader)):\n",
    "            sample_batched = sample_batched.to(device)\n",
    "            outputs = model(sample_batched)\n",
    "            label = sample_batched.y.to(device)\n",
    "            loss = criterion(outputs, label)\n",
    "            total_loss_val += loss.item()\n",
    "\n",
    "    scheduler.step(total_loss_val / len(val_dataset))\n",
    "\n",
    "    print(f'Epoch: %02.0f ended | Train Loss: {total_loss_train / len(train_dataset): .3f} | Val Loss: {total_loss_val / len(val_dataset): .3f}' % (epoch_num + 1))\n",
    "    total_loss.append([total_loss_train / len(train_dataset), total_loss_val / len(val_dataset)])\n",
    "\n"
   ],
   "metadata": {
    "collapsed": false,
    "is_executing": true
   },
   "id": "9f8e679ac0c6a8be"
  },
  {
   "cell_type": "code",
   "execution_count": null,
   "outputs": [],
   "source": [],
   "metadata": {
    "collapsed": false,
    "is_executing": true
   },
   "id": "dc065d01c8214659"
  },
  {
   "cell_type": "code",
   "execution_count": null,
   "outputs": [],
   "source": [],
   "metadata": {
    "collapsed": false,
    "is_executing": true
   },
   "id": "80c1db1c193c6946"
  },
  {
   "cell_type": "code",
   "execution_count": null,
   "outputs": [],
   "source": [],
   "metadata": {
    "collapsed": false
   },
   "id": "c1537f9a68800e3e"
  }
 ],
 "metadata": {
  "kernelspec": {
   "display_name": "Python 3",
   "language": "python",
   "name": "python3"
  },
  "language_info": {
   "codemirror_mode": {
    "name": "ipython",
    "version": 2
   },
   "file_extension": ".py",
   "mimetype": "text/x-python",
   "name": "python",
   "nbconvert_exporter": "python",
   "pygments_lexer": "ipython2",
   "version": "2.7.6"
  }
 },
 "nbformat": 4,
 "nbformat_minor": 5
}
